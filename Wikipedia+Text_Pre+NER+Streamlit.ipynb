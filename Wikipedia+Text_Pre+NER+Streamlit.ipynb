{
  "nbformat": 4,
  "nbformat_minor": 0,
  "metadata": {
    "colab": {
      "name": "Untitled1.ipynb",
      "provenance": [],
      "collapsed_sections": [],
      "authorship_tag": "ABX9TyPfMBAJCkyOu2pwTQSceILj",
      "include_colab_link": true
    },
    "kernelspec": {
      "name": "python3",
      "display_name": "Python 3"
    }
  },
  "cells": [
    {
      "cell_type": "markdown",
      "metadata": {
        "id": "view-in-github",
        "colab_type": "text"
      },
      "source": [
        "<a href=\"https://colab.research.google.com/github/saurabhmishra1806/Projects-/blob/master/Wikipedia%2BText_Pre%2BNER%2BStreamlit.ipynb\" target=\"_parent\"><img src=\"https://colab.research.google.com/assets/colab-badge.svg\" alt=\"Open In Colab\"/></a>"
      ]
    },
    {
      "cell_type": "code",
      "metadata": {
        "id": "CjJpoyLvz2tm"
      },
      "source": [
        "# !pip install wikipedia"
      ],
      "execution_count": null,
      "outputs": []
    },
    {
      "cell_type": "code",
      "metadata": {
        "colab": {
          "base_uri": "https://localhost:8080/"
        },
        "id": "Rn5R3FxX14G1",
        "outputId": "a9bc487e-0681-4820-e610-3acfbf1ade4b"
      },
      "source": [
        "import wikipedia\r\n",
        "wikipedia.search('Sebastian_Thrun')"
      ],
      "execution_count": null,
      "outputs": [
        {
          "output_type": "execute_result",
          "data": {
            "text/plain": [
              "['Sebastian Thrun',\n",
              " 'Udacity',\n",
              " 'Waymo',\n",
              " 'Lo and Behold, Reveries of the Connected World',\n",
              " 'Transfer learning',\n",
              " 'X (company)',\n",
              " 'Simultaneous localization and mapping',\n",
              " 'Monte Carlo localization',\n",
              " 'Dieter Fox',\n",
              " 'David Stavens']"
            ]
          },
          "metadata": {
            "tags": []
          },
          "execution_count": 16
        }
      ]
    },
    {
      "cell_type": "code",
      "metadata": {
        "colab": {
          "base_uri": "https://localhost:8080/"
        },
        "id": "kQKY-GkO2t0Y",
        "outputId": "1e7c49cf-1186-4ef6-8574-cc16546624e3"
      },
      "source": [
        "#Wikipedia API helps in scrapping data from its own page.\r\n",
        "search=input(\"What do you want to search for?\")\r\n",
        "search_result=wikipedia.page(wikipedia.search(search)[0])\r\n",
        "dir(search_result)"
      ],
      "execution_count": null,
      "outputs": [
        {
          "output_type": "stream",
          "text": [
            "What do you want to search for?Sebastian Thrun\n"
          ],
          "name": "stdout"
        },
        {
          "output_type": "execute_result",
          "data": {
            "text/plain": [
              "['_WikipediaPage__continued_query',\n",
              " '_WikipediaPage__load',\n",
              " '_WikipediaPage__title_query_param',\n",
              " '__class__',\n",
              " '__delattr__',\n",
              " '__dict__',\n",
              " '__dir__',\n",
              " '__doc__',\n",
              " '__eq__',\n",
              " '__format__',\n",
              " '__ge__',\n",
              " '__getattribute__',\n",
              " '__gt__',\n",
              " '__hash__',\n",
              " '__init__',\n",
              " '__init_subclass__',\n",
              " '__le__',\n",
              " '__lt__',\n",
              " '__module__',\n",
              " '__ne__',\n",
              " '__new__',\n",
              " '__reduce__',\n",
              " '__reduce_ex__',\n",
              " '__repr__',\n",
              " '__setattr__',\n",
              " '__sizeof__',\n",
              " '__str__',\n",
              " '__subclasshook__',\n",
              " '__weakref__',\n",
              " 'categories',\n",
              " 'content',\n",
              " 'coordinates',\n",
              " 'html',\n",
              " 'images',\n",
              " 'links',\n",
              " 'original_title',\n",
              " 'pageid',\n",
              " 'parent_id',\n",
              " 'references',\n",
              " 'revision_id',\n",
              " 'section',\n",
              " 'sections',\n",
              " 'summary',\n",
              " 'title',\n",
              " 'url']"
            ]
          },
          "metadata": {
            "tags": []
          },
          "execution_count": 17
        }
      ]
    },
    {
      "cell_type": "code",
      "metadata": {
        "colab": {
          "base_uri": "https://localhost:8080/"
        },
        "id": "bZtfwt_Z7QKf",
        "outputId": "e46150ea-8c0d-424b-a5dc-fb236cbdd668"
      },
      "source": [
        "#Gives us the search result for our query\r\n",
        "search_result=wikipedia.summary(search_result)\r\n",
        "print(search_result)"
      ],
      "execution_count": null,
      "outputs": [
        {
          "output_type": "stream",
          "text": [
            "Sebastian Thrun (born May 14, 1967) is an entrepreneur, educator, and computer scientist from Germany. He is CEO of Kitty Hawk Corporation, and chairman and co-founder of Udacity. Before that, he was a Google VP and Fellow, a Professor of Computer Science at Stanford University, and before that at Carnegie Mellon University. At Google, he founded Google X and Google's self-driving car team. He is also an Adjunct Professor at Stanford University and at Georgia Tech.Thrun led development of the robotic vehicle Stanley which won the 2005 DARPA Grand Challenge, and which has since been placed on exhibit in the Smithsonian Institution's National Museum of American History. His team also developed a vehicle called Junior, which placed second at the DARPA Grand Challenge in 2007. Thrun led the development of the Google self-driving car.Thrun is also known for his work on probabilistic algorithms for robotics with applications including robotic mapping. In recognition of his contributions, and at the age of 39, he was elected into the National Academy of Engineering and also into the Academy of Sciences Leopoldina in 2007. The Guardian recognized him as one of 20 \"fighters for internet freedom\".\n",
            "\n",
            "\n"
          ],
          "name": "stdout"
        }
      ]
    },
    {
      "cell_type": "markdown",
      "metadata": {
        "id": "CNioobhM3b4u"
      },
      "source": [
        "Text Preprocessing is done below before any operation."
      ]
    },
    {
      "cell_type": "code",
      "metadata": {
        "colab": {
          "base_uri": "https://localhost:8080/"
        },
        "id": "uQSvMqeO7pGE",
        "outputId": "9f7fbfd8-04b4-4649-9577-67c9a2ffa988"
      },
      "source": [
        "#Here we delete redundant spaces from either sides and convert each to lower case letter for ease in subsequent operation.\r\n",
        "search_result = search_result.strip()\r\n",
        "search_result = search_result.lower()\r\n",
        "punc ='''!()-[]{};:'\"\\,<>./?@#$%^&*_~='''\r\n",
        "for ele in search_result:  \r\n",
        "    if ele in punc:  \r\n",
        "        search_result = search_result.replace(ele,\"\")\r\n",
        "\r\n",
        "print(search_result)"
      ],
      "execution_count": null,
      "outputs": [
        {
          "output_type": "stream",
          "text": [
            "sebastian thrun born may 14 1967 is an entrepreneur educator and computer scientist from germany he is ceo of kitty hawk corporation and chairman and cofounder of udacity before that he was a google vp and fellow a professor of computer science at stanford university and before that at carnegie mellon university at google he founded google x and googles selfdriving car team he is also an adjunct professor at stanford university and at georgia techthrun led development of the robotic vehicle stanley which won the 2005 darpa grand challenge and which has since been placed on exhibit in the smithsonian institutions national museum of american history his team also developed a vehicle called junior which placed second at the darpa grand challenge in 2007 thrun led the development of the google selfdriving carthrun is also known for his work on probabilistic algorithms for robotics with applications including robotic mapping in recognition of his contributions and at the age of 39 he was elected into the national academy of engineering and also into the academy of sciences leopoldina in 2007 the guardian recognized him as one of 20 fighters for internet freedom\n"
          ],
          "name": "stdout"
        }
      ]
    },
    {
      "cell_type": "code",
      "metadata": {
        "colab": {
          "base_uri": "https://localhost:8080/"
        },
        "id": "-YILGeoS_g5S",
        "outputId": "277f7a7a-344e-40f2-9833-1c954ef192f8"
      },
      "source": [
        "#Stopwords removal is extremely important otherwise we will have huge chunk of data which results in greater processing time thus we make the process simple and only take those words that in actual describe the whole sentence with few words and complete information.\r\n",
        "# import nltk\r\n",
        "# nltk.download('stopwords')\r\n",
        "# nltk.download('punkt')\r\n",
        "from nltk.corpus import stopwords\r\n",
        "stop_words = set(stopwords.words('english'))\r\n",
        "#Here we tokenize our words and remove all stopwords from our search result.\r\n",
        "from nltk.tokenize import word_tokenize\r\n",
        "tokens = word_tokenize(search_result)\r\n",
        "result = [i for i in tokens if not i in stop_words]\r\n",
        "print(result)"
      ],
      "execution_count": null,
      "outputs": [
        {
          "output_type": "stream",
          "text": [
            "['sebastian', 'thrun', 'born', 'may', '14', '1967', 'entrepreneur', 'educator', 'computer', 'scientist', 'germany', 'ceo', 'kitty', 'hawk', 'corporation', 'chairman', 'cofounder', 'udacity', 'google', 'vp', 'fellow', 'professor', 'computer', 'science', 'stanford', 'university', 'carnegie', 'mellon', 'university', 'google', 'founded', 'google', 'x', 'googles', 'selfdriving', 'car', 'team', 'also', 'adjunct', 'professor', 'stanford', 'university', 'georgia', 'techthrun', 'led', 'development', 'robotic', 'vehicle', 'stanley', '2005', 'darpa', 'grand', 'challenge', 'since', 'placed', 'exhibit', 'smithsonian', 'institutions', 'national', 'museum', 'american', 'history', 'team', 'also', 'developed', 'vehicle', 'called', 'junior', 'placed', 'second', 'darpa', 'grand', 'challenge', '2007', 'thrun', 'led', 'development', 'google', 'selfdriving', 'carthrun', 'also', 'known', 'work', 'probabilistic', 'algorithms', 'robotics', 'applications', 'including', 'robotic', 'mapping', 'recognition', 'contributions', 'age', '39', 'elected', 'national', 'academy', 'engineering', 'also', 'academy', 'sciences', 'leopoldina', '2007', 'guardian', 'recognized', 'one', '20', 'fighters', 'internet', 'freedom']\n"
          ],
          "name": "stdout"
        }
      ]
    },
    {
      "cell_type": "code",
      "metadata": {
        "id": "RXFBwlTDB83o"
      },
      "source": [
        "# #Stemming converting them to their parent word\r\n",
        "# from nltk.stem import PorterStemmer\r\n",
        "# stemmer= PorterStemmer()\r\n",
        "# li=[]\r\n",
        "# for word in result:\r\n",
        "#     li.append(stemmer.stem(word))\r\n",
        "# print(li)\r\n"
      ],
      "execution_count": null,
      "outputs": []
    },
    {
      "cell_type": "code",
      "metadata": {
        "colab": {
          "base_uri": "https://localhost:8080/"
        },
        "id": "aJzMryEXH189",
        "outputId": "050f10a1-d73e-4395-c763-427e0b8fc2c1"
      },
      "source": [
        "#Lemmatization is like Stemming which converts word into their parent word describing the same information in much better way than stemming.\r\n",
        "#nltk.download('wordnet')\r\n",
        "from nltk.stem import WordNetLemmatizer\r\n",
        "lemmatizer=WordNetLemmatizer()\r\n",
        "li1=[]\r\n",
        "for word in result:\r\n",
        "    li1.append(lemmatizer.lemmatize(word))\r\n",
        "print(li1)"
      ],
      "execution_count": null,
      "outputs": [
        {
          "output_type": "stream",
          "text": [
            "['sebastian', 'thrun', 'born', 'may', '14', '1967', 'entrepreneur', 'educator', 'computer', 'scientist', 'germany', 'ceo', 'kitty', 'hawk', 'corporation', 'chairman', 'cofounder', 'udacity', 'google', 'vp', 'fellow', 'professor', 'computer', 'science', 'stanford', 'university', 'carnegie', 'mellon', 'university', 'google', 'founded', 'google', 'x', 'google', 'selfdriving', 'car', 'team', 'also', 'adjunct', 'professor', 'stanford', 'university', 'georgia', 'techthrun', 'led', 'development', 'robotic', 'vehicle', 'stanley', '2005', 'darpa', 'grand', 'challenge', 'since', 'placed', 'exhibit', 'smithsonian', 'institution', 'national', 'museum', 'american', 'history', 'team', 'also', 'developed', 'vehicle', 'called', 'junior', 'placed', 'second', 'darpa', 'grand', 'challenge', '2007', 'thrun', 'led', 'development', 'google', 'selfdriving', 'carthrun', 'also', 'known', 'work', 'probabilistic', 'algorithm', 'robotics', 'application', 'including', 'robotic', 'mapping', 'recognition', 'contribution', 'age', '39', 'elected', 'national', 'academy', 'engineering', 'also', 'academy', 'science', 'leopoldina', '2007', 'guardian', 'recognized', 'one', '20', 'fighter', 'internet', 'freedom']\n"
          ],
          "name": "stdout"
        }
      ]
    },
    {
      "cell_type": "code",
      "metadata": {
        "id": "6qiWIkKeIT5S"
      },
      "source": [
        "#Converting it back to string as we our operating on NLP and that works on string.\r\n",
        "str1=\" \".join([str(ele) for ele in li1])"
      ],
      "execution_count": null,
      "outputs": []
    },
    {
      "cell_type": "code",
      "metadata": {
        "id": "4oTBZceENH5K"
      },
      "source": [
        "#Here i used Spacy for Named Entity Recognition because it has much better accuracy and f1 score than other frameworks.\r\n",
        "import spacy\r\n",
        "from spacy import displacy\r\n",
        "from collections import Counter\r\n",
        "import en_core_web_sm\r\n",
        "nlp = en_core_web_sm.load()"
      ],
      "execution_count": null,
      "outputs": []
    },
    {
      "cell_type": "code",
      "metadata": {
        "colab": {
          "base_uri": "https://localhost:8080/"
        },
        "id": "tUUmxAjlOx_w",
        "outputId": "176393ff-bb85-4f5b-a3d7-2b8baa164872"
      },
      "source": [
        "#A Doc is a sequence of Token objects. Access sentences and named entities, export annotations to numpy arrays, losslessly serialize to compressed binary strings.\r\n",
        "doc = nlp(str1)\r\n",
        "print([(X.text, X.label_) for X in doc.ents])\r\n",
        "print([(X, X.ent_iob_, X.ent_type_) for X in doc])\r\n"
      ],
      "execution_count": null,
      "outputs": [
        {
          "output_type": "stream",
          "text": [
            "[('sebastian', 'NORP'), ('may 14 1967', 'DATE'), ('germany', 'GPE'), ('kitty hawk corporation', 'ORG'), ('stanford university', 'ORG'), ('carnegie mellon university', 'ORG'), ('stanford university', 'ORG'), ('darpa grand', 'ORG'), ('smithsonian institution national museum american history team', 'ORG'), ('second', 'ORDINAL'), ('darpa grand', 'ORG'), ('2007', 'DATE'), ('age 39', 'DATE'), ('national academy engineering', 'ORG'), ('leopoldina', 'GPE'), ('2007', 'DATE'), ('one', 'CARDINAL')]\n",
            "[(sebastian, 'B', 'NORP'), (thrun, 'O', ''), (born, 'O', ''), (may, 'B', 'DATE'), (14, 'I', 'DATE'), (1967, 'I', 'DATE'), (entrepreneur, 'O', ''), (educator, 'O', ''), (computer, 'O', ''), (scientist, 'O', ''), (germany, 'B', 'GPE'), (ceo, 'O', ''), (kitty, 'B', 'ORG'), (hawk, 'I', 'ORG'), (corporation, 'I', 'ORG'), (chairman, 'O', ''), (cofounder, 'O', ''), (udacity, 'O', ''), (google, 'O', ''), (vp, 'O', ''), (fellow, 'O', ''), (professor, 'O', ''), (computer, 'O', ''), (science, 'O', ''), (stanford, 'B', 'ORG'), (university, 'I', 'ORG'), (carnegie, 'B', 'ORG'), (mellon, 'I', 'ORG'), (university, 'I', 'ORG'), (google, 'O', ''), (founded, 'O', ''), (google, 'O', ''), (x, 'O', ''), (google, 'O', ''), (selfdriving, 'O', ''), (car, 'O', ''), (team, 'O', ''), (also, 'O', ''), (adjunct, 'O', ''), (professor, 'O', ''), (stanford, 'B', 'ORG'), (university, 'I', 'ORG'), (georgia, 'O', ''), (techthrun, 'O', ''), (led, 'O', ''), (development, 'O', ''), (robotic, 'O', ''), (vehicle, 'O', ''), (stanley, 'O', ''), (2005, 'O', ''), (darpa, 'B', 'ORG'), (grand, 'I', 'ORG'), (challenge, 'O', ''), (since, 'O', ''), (placed, 'O', ''), (exhibit, 'O', ''), (smithsonian, 'B', 'ORG'), (institution, 'I', 'ORG'), (national, 'I', 'ORG'), (museum, 'I', 'ORG'), (american, 'I', 'ORG'), (history, 'I', 'ORG'), (team, 'I', 'ORG'), (also, 'O', ''), (developed, 'O', ''), (vehicle, 'O', ''), (called, 'O', ''), (junior, 'O', ''), (placed, 'O', ''), (second, 'B', 'ORDINAL'), (darpa, 'B', 'ORG'), (grand, 'I', 'ORG'), (challenge, 'O', ''), (2007, 'B', 'DATE'), (thrun, 'O', ''), (led, 'O', ''), (development, 'O', ''), (google, 'O', ''), (selfdriving, 'O', ''), (carthrun, 'O', ''), (also, 'O', ''), (known, 'O', ''), (work, 'O', ''), (probabilistic, 'O', ''), (algorithm, 'O', ''), (robotics, 'O', ''), (application, 'O', ''), (including, 'O', ''), (robotic, 'O', ''), (mapping, 'O', ''), (recognition, 'O', ''), (contribution, 'O', ''), (age, 'B', 'DATE'), (39, 'I', 'DATE'), (elected, 'O', ''), (national, 'B', 'ORG'), (academy, 'I', 'ORG'), (engineering, 'I', 'ORG'), (also, 'O', ''), (academy, 'O', ''), (science, 'O', ''), (leopoldina, 'B', 'GPE'), (2007, 'B', 'DATE'), (guardian, 'O', ''), (recognized, 'O', ''), (one, 'B', 'CARDINAL'), (20, 'O', ''), (fighter, 'O', ''), (internet, 'O', ''), (freedom, 'O', '')]\n"
          ],
          "name": "stdout"
        }
      ]
    },
    {
      "cell_type": "code",
      "metadata": {
        "colab": {
          "base_uri": "https://localhost:8080/"
        },
        "id": "FpH3A3N-WnEx",
        "outputId": "e82795be-cfd5-440f-ea3c-eb4fe6764511"
      },
      "source": [
        "#labels are made to import it into bar graph form on Streamlit.\r\n",
        "labels = [x.label_ for x in doc.ents]\r\n",
        "Counter(labels)\r\n"
      ],
      "execution_count": null,
      "outputs": [
        {
          "output_type": "execute_result",
          "data": {
            "text/plain": [
              "Counter({'CARDINAL': 1,\n",
              "         'DATE': 4,\n",
              "         'GPE': 2,\n",
              "         'NORP': 1,\n",
              "         'ORDINAL': 1,\n",
              "         'ORG': 8})"
            ]
          },
          "metadata": {
            "tags": []
          },
          "execution_count": 26
        }
      ]
    },
    {
      "cell_type": "code",
      "metadata": {
        "colab": {
          "base_uri": "https://localhost:8080/"
        },
        "id": "PKw4i-U3S1SV",
        "outputId": "dc6c5baf-1fa8-4f1c-ec21-8b3680daaae4"
      },
      "source": [
        "#Classifies the string into corresponding verbs, adjectives, Nouns, Numerals, Prepositions.\r\n",
        "[(x.orth_,x.pos_, x.lemma_) for x in [y for y in doc if not y.is_stop and y.pos_ != 'PUNCT']]"
      ],
      "execution_count": null,
      "outputs": [
        {
          "output_type": "execute_result",
          "data": {
            "text/plain": [
              "[('sebastian', 'PROPN', 'sebastian'),\n",
              " ('thrun', 'PROPN', 'thrun'),\n",
              " ('born', 'VERB', 'bear'),\n",
              " ('14', 'NUM', '14'),\n",
              " ('1967', 'NUM', '1967'),\n",
              " ('entrepreneur', 'NOUN', 'entrepreneur'),\n",
              " ('educator', 'NOUN', 'educator'),\n",
              " ('computer', 'NOUN', 'computer'),\n",
              " ('scientist', 'NOUN', 'scientist'),\n",
              " ('germany', 'PROPN', 'germany'),\n",
              " ('ceo', 'PROPN', 'ceo'),\n",
              " ('kitty', 'PROPN', 'kitty'),\n",
              " ('hawk', 'PROPN', 'hawk'),\n",
              " ('corporation', 'PROPN', 'corporation'),\n",
              " ('chairman', 'PROPN', 'chairman'),\n",
              " ('cofounder', 'PROPN', 'cofounder'),\n",
              " ('udacity', 'PROPN', 'udacity'),\n",
              " ('google', 'PROPN', 'google'),\n",
              " ('vp', 'PROPN', 'vp'),\n",
              " ('fellow', 'PROPN', 'fellow'),\n",
              " ('professor', 'PROPN', 'professor'),\n",
              " ('computer', 'PROPN', 'computer'),\n",
              " ('science', 'PROPN', 'science'),\n",
              " ('stanford', 'PROPN', 'stanford'),\n",
              " ('university', 'PROPN', 'university'),\n",
              " ('carnegie', 'PROPN', 'carnegie'),\n",
              " ('mellon', 'PROPN', 'mellon'),\n",
              " ('university', 'PROPN', 'university'),\n",
              " ('google', 'PROPN', 'google'),\n",
              " ('founded', 'VERB', 'found'),\n",
              " ('google', 'PROPN', 'google'),\n",
              " ('x', 'SYM', 'x'),\n",
              " ('google', 'PROPN', 'google'),\n",
              " ('selfdriving', 'PROPN', 'selfdriving'),\n",
              " ('car', 'NOUN', 'car'),\n",
              " ('team', 'NOUN', 'team'),\n",
              " ('adjunct', 'VERB', 'adjunct'),\n",
              " ('professor', 'PROPN', 'professor'),\n",
              " ('stanford', 'PROPN', 'stanford'),\n",
              " ('university', 'PROPN', 'university'),\n",
              " ('georgia', 'PROPN', 'georgia'),\n",
              " ('techthrun', 'PROPN', 'techthrun'),\n",
              " ('led', 'VERB', 'lead'),\n",
              " ('development', 'PROPN', 'development'),\n",
              " ('robotic', 'PROPN', 'robotic'),\n",
              " ('vehicle', 'PROPN', 'vehicle'),\n",
              " ('stanley', 'PROPN', 'stanley'),\n",
              " ('2005', 'NUM', '2005'),\n",
              " ('darpa', 'PROPN', 'darpa'),\n",
              " ('grand', 'PROPN', 'grand'),\n",
              " ('challenge', 'PROPN', 'challenge'),\n",
              " ('placed', 'VERB', 'place'),\n",
              " ('exhibit', 'NOUN', 'exhibit'),\n",
              " ('smithsonian', 'PROPN', 'smithsonian'),\n",
              " ('institution', 'PROPN', 'institution'),\n",
              " ('national', 'PROPN', 'national'),\n",
              " ('museum', 'PROPN', 'museum'),\n",
              " ('american', 'PROPN', 'american'),\n",
              " ('history', 'NOUN', 'history'),\n",
              " ('team', 'NOUN', 'team'),\n",
              " ('developed', 'VERB', 'develop'),\n",
              " ('vehicle', 'NOUN', 'vehicle'),\n",
              " ('called', 'VERB', 'call'),\n",
              " ('junior', 'PROPN', 'junior'),\n",
              " ('placed', 'VERB', 'place'),\n",
              " ('second', 'ADJ', 'second'),\n",
              " ('darpa', 'PROPN', 'darpa'),\n",
              " ('grand', 'PROPN', 'grand'),\n",
              " ('challenge', 'PROPN', 'challenge'),\n",
              " ('2007', 'NUM', '2007'),\n",
              " ('thrun', 'PROPN', 'thrun'),\n",
              " ('led', 'VERB', 'lead'),\n",
              " ('development', 'PROPN', 'development'),\n",
              " ('google', 'PROPN', 'google'),\n",
              " ('selfdriving', 'PROPN', 'selfdriving'),\n",
              " ('carthrun', 'PROPN', 'carthrun'),\n",
              " ('known', 'VERB', 'know'),\n",
              " ('work', 'NOUN', 'work'),\n",
              " ('probabilistic', 'ADJ', 'probabilistic'),\n",
              " ('algorithm', 'PROPN', 'algorithm'),\n",
              " ('robotics', 'NOUN', 'robotic'),\n",
              " ('application', 'NOUN', 'application'),\n",
              " ('including', 'VERB', 'include'),\n",
              " ('robotic', 'ADJ', 'robotic'),\n",
              " ('mapping', 'NOUN', 'mapping'),\n",
              " ('recognition', 'NOUN', 'recognition'),\n",
              " ('contribution', 'NOUN', 'contribution'),\n",
              " ('age', 'NOUN', 'age'),\n",
              " ('39', 'NUM', '39'),\n",
              " ('elected', 'VERB', 'elect'),\n",
              " ('national', 'PROPN', 'national'),\n",
              " ('academy', 'PROPN', 'academy'),\n",
              " ('engineering', 'PROPN', 'engineering'),\n",
              " ('academy', 'PROPN', 'academy'),\n",
              " ('science', 'NOUN', 'science'),\n",
              " ('leopoldina', 'PROPN', 'leopoldina'),\n",
              " ('2007', 'NUM', '2007'),\n",
              " ('guardian', 'PROPN', 'guardian'),\n",
              " ('recognized', 'VERB', 'recognize'),\n",
              " ('20', 'NUM', '20'),\n",
              " ('fighter', 'NOUN', 'fighter'),\n",
              " ('internet', 'NOUN', 'internet'),\n",
              " ('freedom', 'NOUN', 'freedom')]"
            ]
          },
          "metadata": {
            "tags": []
          },
          "execution_count": 27
        }
      ]
    },
    {
      "cell_type": "code",
      "metadata": {
        "colab": {
          "base_uri": "https://localhost:8080/"
        },
        "id": "3FlKqxfeU9zi",
        "outputId": "467d22e0-b9f7-420c-924b-9a2bc916d4dd"
      },
      "source": [
        "#Dictionary of extracted unique Named entities \r\n",
        "dict([(str(x), x.label_) for x in doc.ents])"
      ],
      "execution_count": null,
      "outputs": [
        {
          "output_type": "execute_result",
          "data": {
            "text/plain": [
              "{'2007': 'DATE',\n",
              " 'age 39': 'DATE',\n",
              " 'carnegie mellon university': 'ORG',\n",
              " 'darpa grand': 'ORG',\n",
              " 'germany': 'GPE',\n",
              " 'kitty hawk corporation': 'ORG',\n",
              " 'leopoldina': 'GPE',\n",
              " 'may 14 1967': 'DATE',\n",
              " 'national academy engineering': 'ORG',\n",
              " 'one': 'CARDINAL',\n",
              " 'sebastian': 'NORP',\n",
              " 'second': 'ORDINAL',\n",
              " 'smithsonian institution national museum american history team': 'ORG',\n",
              " 'stanford university': 'ORG'}"
            ]
          },
          "metadata": {
            "tags": []
          },
          "execution_count": 28
        }
      ]
    },
    {
      "cell_type": "code",
      "metadata": {
        "colab": {
          "base_uri": "https://localhost:8080/",
          "height": 227
        },
        "id": "aaligCIIVe5E",
        "outputId": "e9492fe0-a2a3-43f6-9a78-47dd64d3f950"
      },
      "source": [
        "#Visualization of our model from above dictionary.\r\n",
        "displacy.render(doc, jupyter=True, style='ent')"
      ],
      "execution_count": null,
      "outputs": [
        {
          "output_type": "display_data",
          "data": {
            "text/html": [
              "<span class=\"tex2jax_ignore\"><div class=\"entities\" style=\"line-height: 2.5; direction: ltr\">\n",
              "<mark class=\"entity\" style=\"background: #c887fb; padding: 0.45em 0.6em; margin: 0 0.25em; line-height: 1; border-radius: 0.35em;\">\n",
              "    sebastian\n",
              "    <span style=\"font-size: 0.8em; font-weight: bold; line-height: 1; border-radius: 0.35em; text-transform: uppercase; vertical-align: middle; margin-left: 0.5rem\">NORP</span>\n",
              "</mark>\n",
              " thrun born \n",
              "<mark class=\"entity\" style=\"background: #bfe1d9; padding: 0.45em 0.6em; margin: 0 0.25em; line-height: 1; border-radius: 0.35em;\">\n",
              "    may 14 1967\n",
              "    <span style=\"font-size: 0.8em; font-weight: bold; line-height: 1; border-radius: 0.35em; text-transform: uppercase; vertical-align: middle; margin-left: 0.5rem\">DATE</span>\n",
              "</mark>\n",
              " entrepreneur educator computer scientist \n",
              "<mark class=\"entity\" style=\"background: #feca74; padding: 0.45em 0.6em; margin: 0 0.25em; line-height: 1; border-radius: 0.35em;\">\n",
              "    germany\n",
              "    <span style=\"font-size: 0.8em; font-weight: bold; line-height: 1; border-radius: 0.35em; text-transform: uppercase; vertical-align: middle; margin-left: 0.5rem\">GPE</span>\n",
              "</mark>\n",
              " ceo \n",
              "<mark class=\"entity\" style=\"background: #7aecec; padding: 0.45em 0.6em; margin: 0 0.25em; line-height: 1; border-radius: 0.35em;\">\n",
              "    kitty hawk corporation\n",
              "    <span style=\"font-size: 0.8em; font-weight: bold; line-height: 1; border-radius: 0.35em; text-transform: uppercase; vertical-align: middle; margin-left: 0.5rem\">ORG</span>\n",
              "</mark>\n",
              " chairman cofounder udacity google vp fellow professor computer science \n",
              "<mark class=\"entity\" style=\"background: #7aecec; padding: 0.45em 0.6em; margin: 0 0.25em; line-height: 1; border-radius: 0.35em;\">\n",
              "    stanford university\n",
              "    <span style=\"font-size: 0.8em; font-weight: bold; line-height: 1; border-radius: 0.35em; text-transform: uppercase; vertical-align: middle; margin-left: 0.5rem\">ORG</span>\n",
              "</mark>\n",
              " \n",
              "<mark class=\"entity\" style=\"background: #7aecec; padding: 0.45em 0.6em; margin: 0 0.25em; line-height: 1; border-radius: 0.35em;\">\n",
              "    carnegie mellon university\n",
              "    <span style=\"font-size: 0.8em; font-weight: bold; line-height: 1; border-radius: 0.35em; text-transform: uppercase; vertical-align: middle; margin-left: 0.5rem\">ORG</span>\n",
              "</mark>\n",
              " google founded google x google selfdriving car team also adjunct professor \n",
              "<mark class=\"entity\" style=\"background: #7aecec; padding: 0.45em 0.6em; margin: 0 0.25em; line-height: 1; border-radius: 0.35em;\">\n",
              "    stanford university\n",
              "    <span style=\"font-size: 0.8em; font-weight: bold; line-height: 1; border-radius: 0.35em; text-transform: uppercase; vertical-align: middle; margin-left: 0.5rem\">ORG</span>\n",
              "</mark>\n",
              " georgia techthrun led development robotic vehicle stanley 2005 \n",
              "<mark class=\"entity\" style=\"background: #7aecec; padding: 0.45em 0.6em; margin: 0 0.25em; line-height: 1; border-radius: 0.35em;\">\n",
              "    darpa grand\n",
              "    <span style=\"font-size: 0.8em; font-weight: bold; line-height: 1; border-radius: 0.35em; text-transform: uppercase; vertical-align: middle; margin-left: 0.5rem\">ORG</span>\n",
              "</mark>\n",
              " challenge since placed exhibit \n",
              "<mark class=\"entity\" style=\"background: #7aecec; padding: 0.45em 0.6em; margin: 0 0.25em; line-height: 1; border-radius: 0.35em;\">\n",
              "    smithsonian institution national museum american history team\n",
              "    <span style=\"font-size: 0.8em; font-weight: bold; line-height: 1; border-radius: 0.35em; text-transform: uppercase; vertical-align: middle; margin-left: 0.5rem\">ORG</span>\n",
              "</mark>\n",
              " also developed vehicle called junior placed \n",
              "<mark class=\"entity\" style=\"background: #e4e7d2; padding: 0.45em 0.6em; margin: 0 0.25em; line-height: 1; border-radius: 0.35em;\">\n",
              "    second\n",
              "    <span style=\"font-size: 0.8em; font-weight: bold; line-height: 1; border-radius: 0.35em; text-transform: uppercase; vertical-align: middle; margin-left: 0.5rem\">ORDINAL</span>\n",
              "</mark>\n",
              " \n",
              "<mark class=\"entity\" style=\"background: #7aecec; padding: 0.45em 0.6em; margin: 0 0.25em; line-height: 1; border-radius: 0.35em;\">\n",
              "    darpa grand\n",
              "    <span style=\"font-size: 0.8em; font-weight: bold; line-height: 1; border-radius: 0.35em; text-transform: uppercase; vertical-align: middle; margin-left: 0.5rem\">ORG</span>\n",
              "</mark>\n",
              " challenge \n",
              "<mark class=\"entity\" style=\"background: #bfe1d9; padding: 0.45em 0.6em; margin: 0 0.25em; line-height: 1; border-radius: 0.35em;\">\n",
              "    2007\n",
              "    <span style=\"font-size: 0.8em; font-weight: bold; line-height: 1; border-radius: 0.35em; text-transform: uppercase; vertical-align: middle; margin-left: 0.5rem\">DATE</span>\n",
              "</mark>\n",
              " thrun led development google selfdriving carthrun also known work probabilistic algorithm robotics application including robotic mapping recognition contribution \n",
              "<mark class=\"entity\" style=\"background: #bfe1d9; padding: 0.45em 0.6em; margin: 0 0.25em; line-height: 1; border-radius: 0.35em;\">\n",
              "    age 39\n",
              "    <span style=\"font-size: 0.8em; font-weight: bold; line-height: 1; border-radius: 0.35em; text-transform: uppercase; vertical-align: middle; margin-left: 0.5rem\">DATE</span>\n",
              "</mark>\n",
              " elected \n",
              "<mark class=\"entity\" style=\"background: #7aecec; padding: 0.45em 0.6em; margin: 0 0.25em; line-height: 1; border-radius: 0.35em;\">\n",
              "    national academy engineering\n",
              "    <span style=\"font-size: 0.8em; font-weight: bold; line-height: 1; border-radius: 0.35em; text-transform: uppercase; vertical-align: middle; margin-left: 0.5rem\">ORG</span>\n",
              "</mark>\n",
              " also academy science \n",
              "<mark class=\"entity\" style=\"background: #feca74; padding: 0.45em 0.6em; margin: 0 0.25em; line-height: 1; border-radius: 0.35em;\">\n",
              "    leopoldina\n",
              "    <span style=\"font-size: 0.8em; font-weight: bold; line-height: 1; border-radius: 0.35em; text-transform: uppercase; vertical-align: middle; margin-left: 0.5rem\">GPE</span>\n",
              "</mark>\n",
              " \n",
              "<mark class=\"entity\" style=\"background: #bfe1d9; padding: 0.45em 0.6em; margin: 0 0.25em; line-height: 1; border-radius: 0.35em;\">\n",
              "    2007\n",
              "    <span style=\"font-size: 0.8em; font-weight: bold; line-height: 1; border-radius: 0.35em; text-transform: uppercase; vertical-align: middle; margin-left: 0.5rem\">DATE</span>\n",
              "</mark>\n",
              " guardian recognized \n",
              "<mark class=\"entity\" style=\"background: #e4e7d2; padding: 0.45em 0.6em; margin: 0 0.25em; line-height: 1; border-radius: 0.35em;\">\n",
              "    one\n",
              "    <span style=\"font-size: 0.8em; font-weight: bold; line-height: 1; border-radius: 0.35em; text-transform: uppercase; vertical-align: middle; margin-left: 0.5rem\">CARDINAL</span>\n",
              "</mark>\n",
              " 20 fighter internet freedom</div></span>"
            ],
            "text/plain": [
              "<IPython.core.display.HTML object>"
            ]
          },
          "metadata": {
            "tags": []
          }
        }
      ]
    },
    {
      "cell_type": "code",
      "metadata": {
        "colab": {
          "base_uri": "https://localhost:8080/",
          "height": 129
        },
        "id": "S2Pc_Hr7l9Pr",
        "outputId": "b29807ca-a76b-432d-9e7f-7762aed0a84f"
      },
      "source": [
        "!streamlit hello\r\n",
        "\r\n",
        "import streamlit as st\r\n",
        "import pandas as pd\r\n",
        "st.write(\r\n",
        "    \"\"\"\r\n",
        "    Streamlit Representation\r\n",
        "    \"\"\"\r\n",
        ")\r\n",
        "df=pd.DataFrame(labels)\r\n",
        "st.bar_chart(df)"
      ],
      "execution_count": null,
      "outputs": [
        {
          "output_type": "error",
          "ename": "SyntaxError",
          "evalue": "ignored",
          "traceback": [
            "\u001b[0;36m  File \u001b[0;32m\"<ipython-input-49-3f3e8972469c>\"\u001b[0;36m, line \u001b[0;32m13\u001b[0m\n\u001b[0;31m    streamlit run df\u001b[0m\n\u001b[0m                ^\u001b[0m\n\u001b[0;31mSyntaxError\u001b[0m\u001b[0;31m:\u001b[0m invalid syntax\n"
          ]
        }
      ]
    },
    {
      "cell_type": "code",
      "metadata": {
        "colab": {
          "base_uri": "https://localhost:8080/"
        },
        "id": "Q7PF6wTuBqOW",
        "outputId": "50efae07-ba7f-4ceb-b171-6a470b16c4b1"
      },
      "source": [
        "!wget https://raw.githubusercontent.com/dataprofessor/code/master/streamlit/iris-ml-app.py"
      ],
      "execution_count": null,
      "outputs": [
        {
          "output_type": "stream",
          "text": [
            "--2021-03-06 10:24:35--  https://raw.githubusercontent.com/dataprofessor/code/master/streamlit/iris-ml-app.py\n",
            "Resolving raw.githubusercontent.com (raw.githubusercontent.com)... 185.199.108.133, 185.199.110.133, 185.199.111.133, ...\n",
            "Connecting to raw.githubusercontent.com (raw.githubusercontent.com)|185.199.108.133|:443... connected.\n",
            "HTTP request sent, awaiting response... 404 Not Found\n",
            "2021-03-06 10:24:35 ERROR 404: Not Found.\n",
            "\n"
          ],
          "name": "stdout"
        }
      ]
    },
    {
      "cell_type": "code",
      "metadata": {
        "colab": {
          "base_uri": "https://localhost:8080/"
        },
        "id": "WMdYZmzoBbu9",
        "outputId": "7c3d7987-c3b1-4e5e-bfb3-35ce4854e7ec"
      },
      "source": [
        "!wget https://bin.equinox.io/c/4VmDzA7iaHb/ngrok-stable-linux-amd64.zip"
      ],
      "execution_count": null,
      "outputs": [
        {
          "output_type": "stream",
          "text": [
            "--2021-03-06 10:24:27--  https://bin.equinox.io/c/4VmDzA7iaHb/ngrok-stable-linux-amd64.zip\n",
            "Resolving bin.equinox.io (bin.equinox.io)... 3.224.159.100, 34.196.37.54, 52.6.49.248, ...\n",
            "Connecting to bin.equinox.io (bin.equinox.io)|3.224.159.100|:443... connected.\n",
            "HTTP request sent, awaiting response... 200 OK\n",
            "Length: 13773305 (13M) [application/octet-stream]\n",
            "Saving to: ‘ngrok-stable-linux-amd64.zip’\n",
            "\n",
            "ngrok-stable-linux- 100%[===================>]  13.13M  61.1MB/s    in 0.2s    \n",
            "\n",
            "2021-03-06 10:24:27 (61.1 MB/s) - ‘ngrok-stable-linux-amd64.zip’ saved [13773305/13773305]\n",
            "\n"
          ],
          "name": "stdout"
        }
      ]
    },
    {
      "cell_type": "code",
      "metadata": {
        "colab": {
          "base_uri": "https://localhost:8080/"
        },
        "id": "oVbOws2eESN3",
        "outputId": "ef701eec-ea1a-4d21-8bc2-7e2341e1a199"
      },
      "source": [
        "!unzip ngrok-stable-linux-amd64.zip"
      ],
      "execution_count": null,
      "outputs": [
        {
          "output_type": "stream",
          "text": [
            "Archive:  ngrok-stable-linux-amd64.zip\n",
            "  inflating: ngrok                   \n"
          ],
          "name": "stdout"
        }
      ]
    },
    {
      "cell_type": "code",
      "metadata": {
        "id": "N35jiQN4EboL"
      },
      "source": [
        "get_ipython().system_raw('./ngrok http 8501 &')\r\n"
      ],
      "execution_count": null,
      "outputs": []
    },
    {
      "cell_type": "code",
      "metadata": {
        "colab": {
          "base_uri": "https://localhost:8080/"
        },
        "id": "rcaImtocEedA",
        "outputId": "abe196aa-dde7-44cf-f222-18ac244b8ef5"
      },
      "source": [
        "!curl -s http://localhost:4040/api/tunnels | python3 -c \\\r\n",
        "    'import sys, json; print(\"Execute the next cell and the go to the following URL: \" +json.load(sys.stdin)[\"tunnels\"][0][\"public_url\"])'"
      ],
      "execution_count": null,
      "outputs": [
        {
          "output_type": "stream",
          "text": [
            "Execute the next cell and the go to the following URL: http://e5164f1a2cc1.ngrok.io\n"
          ],
          "name": "stdout"
        }
      ]
    },
    {
      "cell_type": "code",
      "metadata": {
        "colab": {
          "base_uri": "https://localhost:8080/"
        },
        "id": "pUcPDn5NEg0t",
        "outputId": "05deaf71-9d26-4ade-cfe0-438d474993b5"
      },
      "source": [
        "!streamlit run /content/iris-ml-app.py"
      ],
      "execution_count": null,
      "outputs": [
        {
          "output_type": "stream",
          "text": [
            "Usage: streamlit run [OPTIONS] TARGET [ARGS]...\n",
            "\n",
            "Error: Invalid value: File does not exist: /content/iris-ml-app.py\n"
          ],
          "name": "stdout"
        }
      ]
    },
    {
      "cell_type": "code",
      "metadata": {
        "id": "s2lsOTwdEkvJ"
      },
      "source": [
        ""
      ],
      "execution_count": null,
      "outputs": []
    }
  ]
}