{
  "nbformat": 4,
  "nbformat_minor": 0,
  "metadata": {
    "colab": {
      "name": "MovieLens Recommendationx.ipynb",
      "provenance": [],
      "authorship_tag": "ABX9TyOzOK+BUpVjVWCcpKZnb4P6",
      "include_colab_link": true
    },
    "kernelspec": {
      "name": "python3",
      "display_name": "Python 3"
    }
  },
  "cells": [
    {
      "cell_type": "markdown",
      "metadata": {
        "id": "view-in-github",
        "colab_type": "text"
      },
      "source": [
        "<a href=\"https://colab.research.google.com/github/saurabhmishra1806/Projects-/blob/master/MovieLens_100k_Recommendationx.ipynb\" target=\"_parent\"><img src=\"https://colab.research.google.com/assets/colab-badge.svg\" alt=\"Open In Colab\"/></a>"
      ]
    },
    {
      "cell_type": "code",
      "metadata": {
        "colab": {
          "base_uri": "https://localhost:8080/"
        },
        "id": "SQ2jNmivWHOb",
        "outputId": "b2f57f0a-eb34-46c7-a286-a044ae48e8b5"
      },
      "source": [
        "from google.colab import drive\n",
        "drive.mount(\"/content/gdrive\")\n",
        "\n",
        "import pandas as pd\n"
      ],
      "execution_count": 2,
      "outputs": [
        {
          "output_type": "stream",
          "text": [
            "Mounted at /content/gdrive\n"
          ],
          "name": "stdout"
        }
      ]
    },
    {
      "cell_type": "code",
      "metadata": {
        "colab": {
          "base_uri": "https://localhost:8080/"
        },
        "id": "tTBTyzDHUJZe",
        "outputId": "1f6593e7-fc4e-443f-fd49-166e459f59eb"
      },
      "source": [
        "\n",
        "import matplotlib as mpl\n",
        "\n",
        "from matplotlib import pyplot as plt\n",
        "import numpy as np\n",
        "\n",
        "col_names = [\"user_id\", \"item_id\", \"rating\", \"timestamp\"]\n",
        "data = pd.read_table(\"/content/gdrive/My Drive/ml-100k/u.data\", names=col_names)\n",
        "data = data.drop(\"timestamp\", 1)\n",
        "data.info()"
      ],
      "execution_count": 13,
      "outputs": [
        {
          "output_type": "stream",
          "text": [
            "<class 'pandas.core.frame.DataFrame'>\n",
            "RangeIndex: 100000 entries, 0 to 99999\n",
            "Data columns (total 3 columns):\n",
            " #   Column   Non-Null Count   Dtype\n",
            "---  ------   --------------   -----\n",
            " 0   user_id  100000 non-null  int64\n",
            " 1   item_id  100000 non-null  int64\n",
            " 2   rating   100000 non-null  int64\n",
            "dtypes: int64(3)\n",
            "memory usage: 2.3 MB\n"
          ],
          "name": "stdout"
        }
      ]
    },
    {
      "cell_type": "code",
      "metadata": {
        "colab": {
          "base_uri": "https://localhost:8080/",
          "height": 265
        },
        "id": "UC1gu9knabuJ",
        "outputId": "7f32706b-f15b-4667-8d3e-db0306029a03"
      },
      "source": [
        "plt.hist(data[\"rating\"])\n",
        "plt.show()"
      ],
      "execution_count": 4,
      "outputs": [
        {
          "output_type": "display_data",
          "data": {
            "image/png": "[encoded data removed]",
            "text/plain": [
              "<Figure size 432x288 with 1 Axes>"
            ]
          },
          "metadata": {
            "tags": [],
            "needs_background": "light"
          }
        }
      ]
    },
    {
      "cell_type": "code",
      "metadata": {
        "colab": {
          "base_uri": "https://localhost:8080/"
        },
        "id": "4HSLyuy5bfLl",
        "outputId": "c49289ec-8849-4d46-ec3f-a24c68041ba4"
      },
      "source": [
        "Number_Ratings = len(data)\n",
        "Number_Users = len(np.unique(data[\"user_id\"]))\n",
        "Number_Item = len(np.unique(data[\"item_id\"]))\n",
        "sparsity = Number_Ratings/(Number_Users*Number_Item)\n",
        "sparsity"
      ],
      "execution_count": 5,
      "outputs": [
        {
          "output_type": "execute_result",
          "data": {
            "text/plain": [
              "0.06304669364224531"
            ]
          },
          "metadata": {
            "tags": []
          },
          "execution_count": 5
        }
      ]
    },
    {
      "cell_type": "code",
      "metadata": {
        "colab": {
          "base_uri": "https://localhost:8080/",
          "height": 300
        },
        "id": "exRxuzjongj4",
        "outputId": "604f2931-b947-4831-c282-fa16c977aaf7"
      },
      "source": [
        "data = data[data[\"user_id\"]>sparsity]\n",
        "data.head()\n",
        "data.describe()"
      ],
      "execution_count": 6,
      "outputs": [
        {
          "output_type": "execute_result",
          "data": {
            "text/html": [
              "<div>\n",
              "<style scoped>\n",
              "    .dataframe tbody tr th:only-of-type {\n",
              "        vertical-align: middle;\n",
              "    }\n",
              "\n",
              "    .dataframe tbody tr th {\n",
              "        vertical-align: top;\n",
              "    }\n",
              "\n",
              "    .dataframe thead th {\n",
              "        text-align: right;\n",
              "    }\n",
              "</style>\n",
              "<table border=\"1\" class=\"dataframe\">\n",
              "  <thead>\n",
              "    <tr style=\"text-align: right;\">\n",
              "      <th></th>\n",
              "      <th>user_id</th>\n",
              "      <th>item_id</th>\n",
              "      <th>rating</th>\n",
              "    </tr>\n",
              "  </thead>\n",
              "  <tbody>\n",
              "    <tr>\n",
              "      <th>count</th>\n",
              "      <td>100000.00000</td>\n",
              "      <td>100000.000000</td>\n",
              "      <td>100000.000000</td>\n",
              "    </tr>\n",
              "    <tr>\n",
              "      <th>mean</th>\n",
              "      <td>462.48475</td>\n",
              "      <td>425.530130</td>\n",
              "      <td>3.529860</td>\n",
              "    </tr>\n",
              "    <tr>\n",
              "      <th>std</th>\n",
              "      <td>266.61442</td>\n",
              "      <td>330.798356</td>\n",
              "      <td>1.125674</td>\n",
              "    </tr>\n",
              "    <tr>\n",
              "      <th>min</th>\n",
              "      <td>1.00000</td>\n",
              "      <td>1.000000</td>\n",
              "      <td>1.000000</td>\n",
              "    </tr>\n",
              "    <tr>\n",
              "      <th>25%</th>\n",
              "      <td>254.00000</td>\n",
              "      <td>175.000000</td>\n",
              "      <td>3.000000</td>\n",
              "    </tr>\n",
              "    <tr>\n",
              "      <th>50%</th>\n",
              "      <td>447.00000</td>\n",
              "      <td>322.000000</td>\n",
              "      <td>4.000000</td>\n",
              "    </tr>\n",
              "    <tr>\n",
              "      <th>75%</th>\n",
              "      <td>682.00000</td>\n",
              "      <td>631.000000</td>\n",
              "      <td>4.000000</td>\n",
              "    </tr>\n",
              "    <tr>\n",
              "      <th>max</th>\n",
              "      <td>943.00000</td>\n",
              "      <td>1682.000000</td>\n",
              "      <td>5.000000</td>\n",
              "    </tr>\n",
              "  </tbody>\n",
              "</table>\n",
              "</div>"
            ],
            "text/plain": [
              "            user_id        item_id         rating\n",
              "count  100000.00000  100000.000000  100000.000000\n",
              "mean      462.48475     425.530130       3.529860\n",
              "std       266.61442     330.798356       1.125674\n",
              "min         1.00000       1.000000       1.000000\n",
              "25%       254.00000     175.000000       3.000000\n",
              "50%       447.00000     322.000000       4.000000\n",
              "75%       682.00000     631.000000       4.000000\n",
              "max       943.00000    1682.000000       5.000000"
            ]
          },
          "metadata": {
            "tags": []
          },
          "execution_count": 6
        }
      ]
    },
    {
      "cell_type": "code",
      "metadata": {
        "id": "FL7zZoxKsD9Y"
      },
      "source": [
        "from sklearn.model_selection import train_test_split\n",
        "train, test = train_test_split(data, test_size=0.3)"
      ],
      "execution_count": 9,
      "outputs": []
    },
    {
      "cell_type": "code",
      "metadata": {
        "id": "1CgfQcZht5Kw",
        "colab": {
          "base_uri": "https://localhost:8080/"
        },
        "outputId": "75229134-b51f-4793-9d8f-dbc031a1d93c"
      },
      "source": [
        "!pip install mxnet"
      ],
      "execution_count": 22,
      "outputs": [
        {
          "output_type": "stream",
          "text": [
            "Collecting mxnet\n",
            "\u001b[?25l  Downloading https://files.pythonhosted.org/packages/29/bb/54cbabe428351c06d10903c658878d29ee7026efbe45133fd133598d6eb6/mxnet-1.7.0.post1-py2.py3-none-manylinux2014_x86_64.whl (55.0MB)\n",
            "\u001b[K     |████████████████████████████████| 55.0MB 73kB/s \n",
            "\u001b[?25hCollecting graphviz<0.9.0,>=0.8.1\n",
            "  Downloading https://files.pythonhosted.org/packages/53/39/4ab213673844e0c004bed8a0781a0721a3f6bb23eb8854ee75c236428892/graphviz-0.8.4-py2.py3-none-any.whl\n",
            "Requirement already satisfied: numpy<2.0.0,>1.16.0 in /usr/local/lib/python3.6/dist-packages (from mxnet) (1.18.5)\n",
            "Requirement already satisfied: requests<3,>=2.20.0 in /usr/local/lib/python3.6/dist-packages (from mxnet) (2.23.0)\n",
            "Requirement already satisfied: urllib3!=1.25.0,!=1.25.1,<1.26,>=1.21.1 in /usr/local/lib/python3.6/dist-packages (from requests<3,>=2.20.0->mxnet) (1.24.3)\n",
            "Requirement already satisfied: idna<3,>=2.5 in /usr/local/lib/python3.6/dist-packages (from requests<3,>=2.20.0->mxnet) (2.10)\n",
            "Requirement already satisfied: certifi>=2017.4.17 in /usr/local/lib/python3.6/dist-packages (from requests<3,>=2.20.0->mxnet) (2020.11.8)\n",
            "Requirement already satisfied: chardet<4,>=3.0.2 in /usr/local/lib/python3.6/dist-packages (from requests<3,>=2.20.0->mxnet) (3.0.4)\n",
            "Installing collected packages: graphviz, mxnet\n",
            "  Found existing installation: graphviz 0.10.1\n",
            "    Uninstalling graphviz-0.10.1:\n",
            "      Successfully uninstalled graphviz-0.10.1\n",
            "Successfully installed graphviz-0.8.4 mxnet-1.7.0.post1\n"
          ],
          "name": "stdout"
        }
      ]
    },
    {
      "cell_type": "code",
      "metadata": {
        "colab": {
          "base_uri": "https://localhost:8080/",
          "height": 354
        },
        "id": "96EQR8lv5f-D",
        "outputId": "958d0a72-a7a6-49e4-cd51-27be19d9d840"
      },
      "source": [
        "import turicreate as tc\n",
        "sf = tc.SFrame(train)\n",
        "m = tc.popularity_recommender.create(sf, target = \"rating\")\n",
        "recs = m.recommend()\n",
        "recs"
      ],
      "execution_count": 31,
      "outputs": [
        {
          "output_type": "display_data",
          "data": {
            "text/html": [
              "<pre>Preparing data set.</pre>"
            ],
            "text/plain": [
              "Preparing data set."
            ]
          },
          "metadata": {
            "tags": []
          }
        },
        {
          "output_type": "display_data",
          "data": {
            "text/html": [
              "<pre>    Data has 70000 observations with 943 users and 1629 items.</pre>"
            ],
            "text/plain": [
              "    Data has 70000 observations with 943 users and 1629 items."
            ]
          },
          "metadata": {
            "tags": []
          }
        },
        {
          "output_type": "display_data",
          "data": {
            "text/html": [
              "<pre>    Data prepared in: 0.075808s</pre>"
            ],
            "text/plain": [
              "    Data prepared in: 0.075808s"
            ]
          },
          "metadata": {
            "tags": []
          }
        },
        {
          "output_type": "display_data",
          "data": {
            "text/html": [
              "<pre>70000 observations to process; with 1629 unique items.</pre>"
            ],
            "text/plain": [
              "70000 observations to process; with 1629 unique items."
            ]
          },
          "metadata": {
            "tags": []
          }
        },
        {
          "output_type": "execute_result",
          "data": {
            "text/html": [
              "<div style=\"max-height:1000px;max-width:1500px;overflow:auto;\"><table frame=\"box\" rules=\"cols\">\n",
              "    <tr>\n",
              "        <th style=\"padding-left: 1em; padding-right: 1em; text-align: center\">user_id</th>\n",
              "        <th style=\"padding-left: 1em; padding-right: 1em; text-align: center\">item_id</th>\n",
              "        <th style=\"padding-left: 1em; padding-right: 1em; text-align: center\">score</th>\n",
              "        <th style=\"padding-left: 1em; padding-right: 1em; text-align: center\">rank</th>\n",
              "    </tr>\n",
              "    <tr>\n",
              "        <td style=\"padding-left: 1em; padding-right: 1em; text-align: center; vertical-align: top\">379</td>\n",
              "        <td style=\"padding-left: 1em; padding-right: 1em; text-align: center; vertical-align: top\">1599</td>\n",
              "        <td style=\"padding-left: 1em; padding-right: 1em; text-align: center; vertical-align: top\">5.0</td>\n",
              "        <td style=\"padding-left: 1em; padding-right: 1em; text-align: center; vertical-align: top\">1</td>\n",
              "    </tr>\n",
              "    <tr>\n",
              "        <td style=\"padding-left: 1em; padding-right: 1em; text-align: center; vertical-align: top\">379</td>\n",
              "        <td style=\"padding-left: 1em; padding-right: 1em; text-align: center; vertical-align: top\">1368</td>\n",
              "        <td style=\"padding-left: 1em; padding-right: 1em; text-align: center; vertical-align: top\">5.0</td>\n",
              "        <td style=\"padding-left: 1em; padding-right: 1em; text-align: center; vertical-align: top\">2</td>\n",
              "    </tr>\n",
              "    <tr>\n",
              "        <td style=\"padding-left: 1em; padding-right: 1em; text-align: center; vertical-align: top\">379</td>\n",
              "        <td style=\"padding-left: 1em; padding-right: 1em; text-align: center; vertical-align: top\">1201</td>\n",
              "        <td style=\"padding-left: 1em; padding-right: 1em; text-align: center; vertical-align: top\">5.0</td>\n",
              "        <td style=\"padding-left: 1em; padding-right: 1em; text-align: center; vertical-align: top\">3</td>\n",
              "    </tr>\n",
              "    <tr>\n",
              "        <td style=\"padding-left: 1em; padding-right: 1em; text-align: center; vertical-align: top\">379</td>\n",
              "        <td style=\"padding-left: 1em; padding-right: 1em; text-align: center; vertical-align: top\">1189</td>\n",
              "        <td style=\"padding-left: 1em; padding-right: 1em; text-align: center; vertical-align: top\">5.0</td>\n",
              "        <td style=\"padding-left: 1em; padding-right: 1em; text-align: center; vertical-align: top\">4</td>\n",
              "    </tr>\n",
              "    <tr>\n",
              "        <td style=\"padding-left: 1em; padding-right: 1em; text-align: center; vertical-align: top\">379</td>\n",
              "        <td style=\"padding-left: 1em; padding-right: 1em; text-align: center; vertical-align: top\">1653</td>\n",
              "        <td style=\"padding-left: 1em; padding-right: 1em; text-align: center; vertical-align: top\">5.0</td>\n",
              "        <td style=\"padding-left: 1em; padding-right: 1em; text-align: center; vertical-align: top\">5</td>\n",
              "    </tr>\n",
              "    <tr>\n",
              "        <td style=\"padding-left: 1em; padding-right: 1em; text-align: center; vertical-align: top\">379</td>\n",
              "        <td style=\"padding-left: 1em; padding-right: 1em; text-align: center; vertical-align: top\">1500</td>\n",
              "        <td style=\"padding-left: 1em; padding-right: 1em; text-align: center; vertical-align: top\">5.0</td>\n",
              "        <td style=\"padding-left: 1em; padding-right: 1em; text-align: center; vertical-align: top\">6</td>\n",
              "    </tr>\n",
              "    <tr>\n",
              "        <td style=\"padding-left: 1em; padding-right: 1em; text-align: center; vertical-align: top\">379</td>\n",
              "        <td style=\"padding-left: 1em; padding-right: 1em; text-align: center; vertical-align: top\">1358</td>\n",
              "        <td style=\"padding-left: 1em; padding-right: 1em; text-align: center; vertical-align: top\">5.0</td>\n",
              "        <td style=\"padding-left: 1em; padding-right: 1em; text-align: center; vertical-align: top\">7</td>\n",
              "    </tr>\n",
              "    <tr>\n",
              "        <td style=\"padding-left: 1em; padding-right: 1em; text-align: center; vertical-align: top\">379</td>\n",
              "        <td style=\"padding-left: 1em; padding-right: 1em; text-align: center; vertical-align: top\">1536</td>\n",
              "        <td style=\"padding-left: 1em; padding-right: 1em; text-align: center; vertical-align: top\">5.0</td>\n",
              "        <td style=\"padding-left: 1em; padding-right: 1em; text-align: center; vertical-align: top\">8</td>\n",
              "    </tr>\n",
              "    <tr>\n",
              "        <td style=\"padding-left: 1em; padding-right: 1em; text-align: center; vertical-align: top\">379</td>\n",
              "        <td style=\"padding-left: 1em; padding-right: 1em; text-align: center; vertical-align: top\">1293</td>\n",
              "        <td style=\"padding-left: 1em; padding-right: 1em; text-align: center; vertical-align: top\">5.0</td>\n",
              "        <td style=\"padding-left: 1em; padding-right: 1em; text-align: center; vertical-align: top\">9</td>\n",
              "    </tr>\n",
              "    <tr>\n",
              "        <td style=\"padding-left: 1em; padding-right: 1em; text-align: center; vertical-align: top\">379</td>\n",
              "        <td style=\"padding-left: 1em; padding-right: 1em; text-align: center; vertical-align: top\">814</td>\n",
              "        <td style=\"padding-left: 1em; padding-right: 1em; text-align: center; vertical-align: top\">5.0</td>\n",
              "        <td style=\"padding-left: 1em; padding-right: 1em; text-align: center; vertical-align: top\">10</td>\n",
              "    </tr>\n",
              "</table>\n",
              "[9430 rows x 4 columns]<br/>Note: Only the head of the SFrame is printed.<br/>You can use print_rows(num_rows=m, num_columns=n) to print more rows and columns.\n",
              "</div>"
            ],
            "text/plain": [
              "Columns:\n",
              "\tuser_id\tint\n",
              "\titem_id\tint\n",
              "\tscore\tfloat\n",
              "\trank\tint\n",
              "\n",
              "Rows: 9430\n",
              "\n",
              "Data:\n",
              "+---------+---------+-------+------+\n",
              "| user_id | item_id | score | rank |\n",
              "+---------+---------+-------+------+\n",
              "|   379   |   1599  |  5.0  |  1   |\n",
              "|   379   |   1368  |  5.0  |  2   |\n",
              "|   379   |   1201  |  5.0  |  3   |\n",
              "|   379   |   1189  |  5.0  |  4   |\n",
              "|   379   |   1653  |  5.0  |  5   |\n",
              "|   379   |   1500  |  5.0  |  6   |\n",
              "|   379   |   1358  |  5.0  |  7   |\n",
              "|   379   |   1536  |  5.0  |  8   |\n",
              "|   379   |   1293  |  5.0  |  9   |\n",
              "|   379   |   814   |  5.0  |  10  |\n",
              "+---------+---------+-------+------+\n",
              "[9430 rows x 4 columns]\n",
              "Note: Only the head of the SFrame is printed.\n",
              "You can use print_rows(num_rows=m, num_columns=n) to print more rows and columns."
            ]
          },
          "metadata": {
            "tags": []
          },
          "execution_count": 31
        }
      ]
    },
    {
      "cell_type": "code",
      "metadata": {
        "colab": {
          "base_uri": "https://localhost:8080/",
          "height": 1000
        },
        "id": "zLSskI0i7jS_",
        "outputId": "df7a402c-3d1f-4893-b26f-cf6662b784e3"
      },
      "source": [
        "m1 = tc.ranking_factorization_recommender.create(sf, target = \"rating\")\n",
        "recs1 = m1.recommend()\n",
        "recs1"
      ],
      "execution_count": 47,
      "outputs": [
        {
          "output_type": "display_data",
          "data": {
            "text/html": [
              "<pre>Preparing data set.</pre>"
            ],
            "text/plain": [
              "Preparing data set."
            ]
          },
          "metadata": {
            "tags": []
          }
        },
        {
          "output_type": "display_data",
          "data": {
            "text/html": [
              "<pre>    Data has 70000 observations with 943 users and 1629 items.</pre>"
            ],
            "text/plain": [
              "    Data has 70000 observations with 943 users and 1629 items."
            ]
          },
          "metadata": {
            "tags": []
          }
        },
        {
          "output_type": "display_data",
          "data": {
            "text/html": [
              "<pre>    Data prepared in: 0.077836s</pre>"
            ],
            "text/plain": [
              "    Data prepared in: 0.077836s"
            ]
          },
          "metadata": {
            "tags": []
          }
        },
        {
          "output_type": "display_data",
          "data": {
            "text/html": [
              "<pre>Training ranking_factorization_recommender for recommendations.</pre>"
            ],
            "text/plain": [
              "Training ranking_factorization_recommender for recommendations."
            ]
          },
          "metadata": {
            "tags": []
          }
        },
        {
          "output_type": "display_data",
          "data": {
            "text/html": [
              "<pre>+--------------------------------+--------------------------------------------------+----------+</pre>"
            ],
            "text/plain": [
              "+--------------------------------+--------------------------------------------------+----------+"
            ]
          },
          "metadata": {
            "tags": []
          }
        },
        {
          "output_type": "display_data",
          "data": {
            "text/html": [
              "<pre>| Parameter                      | Description                                      | Value    |</pre>"
            ],
            "text/plain": [
              "| Parameter                      | Description                                      | Value    |"
            ]
          },
          "metadata": {
            "tags": []
          }
        },
        {
          "output_type": "display_data",
          "data": {
            "text/html": [
              "<pre>+--------------------------------+--------------------------------------------------+----------+</pre>"
            ],
            "text/plain": [
              "+--------------------------------+--------------------------------------------------+----------+"
            ]
          },
          "metadata": {
            "tags": []
          }
        },
        {
          "output_type": "display_data",
          "data": {
            "text/html": [
              "<pre>| num_factors                    | Factor Dimension                                 | 32       |</pre>"
            ],
            "text/plain": [
              "| num_factors                    | Factor Dimension                                 | 32       |"
            ]
          },
          "metadata": {
            "tags": []
          }
        },
        {
          "output_type": "display_data",
          "data": {
            "text/html": [
              "<pre>| regularization                 | L2 Regularization on Factors                     | 1e-09    |</pre>"
            ],
            "text/plain": [
              "| regularization                 | L2 Regularization on Factors                     | 1e-09    |"
            ]
          },
          "metadata": {
            "tags": []
          }
        },
        {
          "output_type": "display_data",
          "data": {
            "text/html": [
              "<pre>| solver                         | Solver used for training                         | sgd      |</pre>"
            ],
            "text/plain": [
              "| solver                         | Solver used for training                         | sgd      |"
            ]
          },
          "metadata": {
            "tags": []
          }
        },
        {
          "output_type": "display_data",
          "data": {
            "text/html": [
              "<pre>| linear_regularization          | L2 Regularization on Linear Coefficients         | 1e-09    |</pre>"
            ],
            "text/plain": [
              "| linear_regularization          | L2 Regularization on Linear Coefficients         | 1e-09    |"
            ]
          },
          "metadata": {
            "tags": []
          }
        },
        {
          "output_type": "display_data",
          "data": {
            "text/html": [
              "<pre>| ranking_regularization         | Rank-based Regularization Weight                 | 0.25     |</pre>"
            ],
            "text/plain": [
              "| ranking_regularization         | Rank-based Regularization Weight                 | 0.25     |"
            ]
          },
          "metadata": {
            "tags": []
          }
        },
        {
          "output_type": "display_data",
          "data": {
            "text/html": [
              "<pre>| max_iterations                 | Maximum Number of Iterations                     | 25       |</pre>"
            ],
            "text/plain": [
              "| max_iterations                 | Maximum Number of Iterations                     | 25       |"
            ]
          },
          "metadata": {
            "tags": []
          }
        },
        {
          "output_type": "display_data",
          "data": {
            "text/html": [
              "<pre>+--------------------------------+--------------------------------------------------+----------+</pre>"
            ],
            "text/plain": [
              "+--------------------------------+--------------------------------------------------+----------+"
            ]
          },
          "metadata": {
            "tags": []
          }
        },
        {
          "output_type": "display_data",
          "data": {
            "text/html": [
              "<pre>  Optimizing model using SGD; tuning step size.</pre>"
            ],
            "text/plain": [
              "  Optimizing model using SGD; tuning step size."
            ]
          },
          "metadata": {
            "tags": []
          }
        },
        {
          "output_type": "display_data",
          "data": {
            "text/html": [
              "<pre>  Using 10000 / 70000 points for tuning the step size.</pre>"
            ],
            "text/plain": [
              "  Using 10000 / 70000 points for tuning the step size."
            ]
          },
          "metadata": {
            "tags": []
          }
        },
        {
          "output_type": "display_data",
          "data": {
            "text/html": [
              "<pre>+---------+-------------------+------------------------------------------+</pre>"
            ],
            "text/plain": [
              "+---------+-------------------+------------------------------------------+"
            ]
          },
          "metadata": {
            "tags": []
          }
        },
        {
          "output_type": "display_data",
          "data": {
            "text/html": [
              "<pre>| Attempt | Initial Step Size | Estimated Objective Value                |</pre>"
            ],
            "text/plain": [
              "| Attempt | Initial Step Size | Estimated Objective Value                |"
            ]
          },
          "metadata": {
            "tags": []
          }
        },
        {
          "output_type": "display_data",
          "data": {
            "text/html": [
              "<pre>+---------+-------------------+------------------------------------------+</pre>"
            ],
            "text/plain": [
              "+---------+-------------------+------------------------------------------+"
            ]
          },
          "metadata": {
            "tags": []
          }
        },
        {
          "output_type": "display_data",
          "data": {
            "text/html": [
              "<pre>| 0       | 25                | Not Viable                               |</pre>"
            ],
            "text/plain": [
              "| 0       | 25                | Not Viable                               |"
            ]
          },
          "metadata": {
            "tags": []
          }
        },
        {
          "output_type": "display_data",
          "data": {
            "text/html": [
              "<pre>| 1       | 6.25              | Not Viable                               |</pre>"
            ],
            "text/plain": [
              "| 1       | 6.25              | Not Viable                               |"
            ]
          },
          "metadata": {
            "tags": []
          }
        },
        {
          "output_type": "display_data",
          "data": {
            "text/html": [
              "<pre>| 2       | 1.5625            | Not Viable                               |</pre>"
            ],
            "text/plain": [
              "| 2       | 1.5625            | Not Viable                               |"
            ]
          },
          "metadata": {
            "tags": []
          }
        },
        {
          "output_type": "display_data",
          "data": {
            "text/html": [
              "<pre>| 3       | 0.390625          | Not Viable                               |</pre>"
            ],
            "text/plain": [
              "| 3       | 0.390625          | Not Viable                               |"
            ]
          },
          "metadata": {
            "tags": []
          }
        },
        {
          "output_type": "display_data",
          "data": {
            "text/html": [
              "<pre>| 4       | 0.0976562         | 1.84257                                  |</pre>"
            ],
            "text/plain": [
              "| 4       | 0.0976562         | 1.84257                                  |"
            ]
          },
          "metadata": {
            "tags": []
          }
        },
        {
          "output_type": "display_data",
          "data": {
            "text/html": [
              "<pre>| 5       | 0.0488281         | 1.8518                                   |</pre>"
            ],
            "text/plain": [
              "| 5       | 0.0488281         | 1.8518                                   |"
            ]
          },
          "metadata": {
            "tags": []
          }
        },
        {
          "output_type": "display_data",
          "data": {
            "text/html": [
              "<pre>| 6       | 0.0244141         | 1.89468                                  |</pre>"
            ],
            "text/plain": [
              "| 6       | 0.0244141         | 1.89468                                  |"
            ]
          },
          "metadata": {
            "tags": []
          }
        },
        {
          "output_type": "display_data",
          "data": {
            "text/html": [
              "<pre>| 7       | 0.012207          | 1.96272                                  |</pre>"
            ],
            "text/plain": [
              "| 7       | 0.012207          | 1.96272                                  |"
            ]
          },
          "metadata": {
            "tags": []
          }
        },
        {
          "output_type": "display_data",
          "data": {
            "text/html": [
              "<pre>+---------+-------------------+------------------------------------------+</pre>"
            ],
            "text/plain": [
              "+---------+-------------------+------------------------------------------+"
            ]
          },
          "metadata": {
            "tags": []
          }
        },
        {
          "output_type": "display_data",
          "data": {
            "text/html": [
              "<pre>| Final   | 0.0976562         | 1.84257                                  |</pre>"
            ],
            "text/plain": [
              "| Final   | 0.0976562         | 1.84257                                  |"
            ]
          },
          "metadata": {
            "tags": []
          }
        },
        {
          "output_type": "display_data",
          "data": {
            "text/html": [
              "<pre>+---------+-------------------+------------------------------------------+</pre>"
            ],
            "text/plain": [
              "+---------+-------------------+------------------------------------------+"
            ]
          },
          "metadata": {
            "tags": []
          }
        },
        {
          "output_type": "display_data",
          "data": {
            "text/html": [
              "<pre>Starting Optimization.</pre>"
            ],
            "text/plain": [
              "Starting Optimization."
            ]
          },
          "metadata": {
            "tags": []
          }
        },
        {
          "output_type": "display_data",
          "data": {
            "text/html": [
              "<pre>+---------+--------------+-------------------+-----------------------+-------------+</pre>"
            ],
            "text/plain": [
              "+---------+--------------+-------------------+-----------------------+-------------+"
            ]
          },
          "metadata": {
            "tags": []
          }
        },
        {
          "output_type": "display_data",
          "data": {
            "text/html": [
              "<pre>| Iter.   | Elapsed Time | Approx. Objective | Approx. Training RMSE | Step Size   |</pre>"
            ],
            "text/plain": [
              "| Iter.   | Elapsed Time | Approx. Objective | Approx. Training RMSE | Step Size   |"
            ]
          },
          "metadata": {
            "tags": []
          }
        },
        {
          "output_type": "display_data",
          "data": {
            "text/html": [
              "<pre>+---------+--------------+-------------------+-----------------------+-------------+</pre>"
            ],
            "text/plain": [
              "+---------+--------------+-------------------+-----------------------+-------------+"
            ]
          },
          "metadata": {
            "tags": []
          }
        },
        {
          "output_type": "display_data",
          "data": {
            "text/html": [
              "<pre>| Initial | 124us        | 2.49461           | 1.12797               |             |</pre>"
            ],
            "text/plain": [
              "| Initial | 124us        | 2.49461           | 1.12797               |             |"
            ]
          },
          "metadata": {
            "tags": []
          }
        },
        {
          "output_type": "display_data",
          "data": {
            "text/html": [
              "<pre>+---------+--------------+-------------------+-----------------------+-------------+</pre>"
            ],
            "text/plain": [
              "+---------+--------------+-------------------+-----------------------+-------------+"
            ]
          },
          "metadata": {
            "tags": []
          }
        },
        {
          "output_type": "display_data",
          "data": {
            "text/html": [
              "<pre>| 1       | 87.893ms     | 2.13646           | 1.13845               | 0.0976562   |</pre>"
            ],
            "text/plain": [
              "| 1       | 87.893ms     | 2.13646           | 1.13845               | 0.0976562   |"
            ]
          },
          "metadata": {
            "tags": []
          }
        },
        {
          "output_type": "display_data",
          "data": {
            "text/html": [
              "<pre>| 2       | 168.218ms    | 1.90062           | 1.07917               | 0.0580668   |</pre>"
            ],
            "text/plain": [
              "| 2       | 168.218ms    | 1.90062           | 1.07917               | 0.0580668   |"
            ]
          },
          "metadata": {
            "tags": []
          }
        },
        {
          "output_type": "display_data",
          "data": {
            "text/html": [
              "<pre>| 3       | 235.123ms    | 1.73125           | 1.0158                | 0.042841    |</pre>"
            ],
            "text/plain": [
              "| 3       | 235.123ms    | 1.73125           | 1.0158                | 0.042841    |"
            ]
          },
          "metadata": {
            "tags": []
          }
        },
        {
          "output_type": "display_data",
          "data": {
            "text/html": [
              "<pre>| 4       | 308.173ms    | 1.58303           | 0.959185              | 0.0345267   |</pre>"
            ],
            "text/plain": [
              "| 4       | 308.173ms    | 1.58303           | 0.959185              | 0.0345267   |"
            ]
          },
          "metadata": {
            "tags": []
          }
        },
        {
          "output_type": "display_data",
          "data": {
            "text/html": [
              "<pre>| 5       | 382.47ms     | 1.45896           | 0.906509              | 0.029206    |</pre>"
            ],
            "text/plain": [
              "| 5       | 382.47ms     | 1.45896           | 0.906509              | 0.029206    |"
            ]
          },
          "metadata": {
            "tags": []
          }
        },
        {
          "output_type": "display_data",
          "data": {
            "text/html": [
              "<pre>| 10      | 741.791ms    | 1.03298           | 0.713064              | 0.017366    |</pre>"
            ],
            "text/plain": [
              "| 10      | 741.791ms    | 1.03298           | 0.713064              | 0.017366    |"
            ]
          },
          "metadata": {
            "tags": []
          }
        },
        {
          "output_type": "display_data",
          "data": {
            "text/html": [
              "<pre>| 25      | 1.82s        | 0.799897          | 0.595445              | 0.00873464  |</pre>"
            ],
            "text/plain": [
              "| 25      | 1.82s        | 0.799897          | 0.595445              | 0.00873464  |"
            ]
          },
          "metadata": {
            "tags": []
          }
        },
        {
          "output_type": "display_data",
          "data": {
            "text/html": [
              "<pre>+---------+--------------+-------------------+-----------------------+-------------+</pre>"
            ],
            "text/plain": [
              "+---------+--------------+-------------------+-----------------------+-------------+"
            ]
          },
          "metadata": {
            "tags": []
          }
        },
        {
          "output_type": "display_data",
          "data": {
            "text/html": [
              "<pre>Optimization Complete: Maximum number of passes through the data reached.</pre>"
            ],
            "text/plain": [
              "Optimization Complete: Maximum number of passes through the data reached."
            ]
          },
          "metadata": {
            "tags": []
          }
        },
        {
          "output_type": "display_data",
          "data": {
            "text/html": [
              "<pre>Computing final objective value and training RMSE.</pre>"
            ],
            "text/plain": [
              "Computing final objective value and training RMSE."
            ]
          },
          "metadata": {
            "tags": []
          }
        },
        {
          "output_type": "display_data",
          "data": {
            "text/html": [
              "<pre>       Final objective value: 0.777166</pre>"
            ],
            "text/plain": [
              "       Final objective value: 0.777166"
            ]
          },
          "metadata": {
            "tags": []
          }
        },
        {
          "output_type": "display_data",
          "data": {
            "text/html": [
              "<pre>       Final training RMSE: 0.538173</pre>"
            ],
            "text/plain": [
              "       Final training RMSE: 0.538173"
            ]
          },
          "metadata": {
            "tags": []
          }
        },
        {
          "output_type": "execute_result",
          "data": {
            "text/html": [
              "<div style=\"max-height:1000px;max-width:1500px;overflow:auto;\"><table frame=\"box\" rules=\"cols\">\n",
              "    <tr>\n",
              "        <th style=\"padding-left: 1em; padding-right: 1em; text-align: center\">user_id</th>\n",
              "        <th style=\"padding-left: 1em; padding-right: 1em; text-align: center\">item_id</th>\n",
              "        <th style=\"padding-left: 1em; padding-right: 1em; text-align: center\">score</th>\n",
              "        <th style=\"padding-left: 1em; padding-right: 1em; text-align: center\">rank</th>\n",
              "    </tr>\n",
              "    <tr>\n",
              "        <td style=\"padding-left: 1em; padding-right: 1em; text-align: center; vertical-align: top\">379</td>\n",
              "        <td style=\"padding-left: 1em; padding-right: 1em; text-align: center; vertical-align: top\">318</td>\n",
              "        <td style=\"padding-left: 1em; padding-right: 1em; text-align: center; vertical-align: top\">5.616670304693486</td>\n",
              "        <td style=\"padding-left: 1em; padding-right: 1em; text-align: center; vertical-align: top\">1</td>\n",
              "    </tr>\n",
              "    <tr>\n",
              "        <td style=\"padding-left: 1em; padding-right: 1em; text-align: center; vertical-align: top\">379</td>\n",
              "        <td style=\"padding-left: 1em; padding-right: 1em; text-align: center; vertical-align: top\">483</td>\n",
              "        <td style=\"padding-left: 1em; padding-right: 1em; text-align: center; vertical-align: top\">5.553944522299076</td>\n",
              "        <td style=\"padding-left: 1em; padding-right: 1em; text-align: center; vertical-align: top\">2</td>\n",
              "    </tr>\n",
              "    <tr>\n",
              "        <td style=\"padding-left: 1em; padding-right: 1em; text-align: center; vertical-align: top\">379</td>\n",
              "        <td style=\"padding-left: 1em; padding-right: 1em; text-align: center; vertical-align: top\">209</td>\n",
              "        <td style=\"padding-left: 1em; padding-right: 1em; text-align: center; vertical-align: top\">5.113952809728886</td>\n",
              "        <td style=\"padding-left: 1em; padding-right: 1em; text-align: center; vertical-align: top\">3</td>\n",
              "    </tr>\n",
              "    <tr>\n",
              "        <td style=\"padding-left: 1em; padding-right: 1em; text-align: center; vertical-align: top\">379</td>\n",
              "        <td style=\"padding-left: 1em; padding-right: 1em; text-align: center; vertical-align: top\">258</td>\n",
              "        <td style=\"padding-left: 1em; padding-right: 1em; text-align: center; vertical-align: top\">5.002330953039433</td>\n",
              "        <td style=\"padding-left: 1em; padding-right: 1em; text-align: center; vertical-align: top\">4</td>\n",
              "    </tr>\n",
              "    <tr>\n",
              "        <td style=\"padding-left: 1em; padding-right: 1em; text-align: center; vertical-align: top\">379</td>\n",
              "        <td style=\"padding-left: 1em; padding-right: 1em; text-align: center; vertical-align: top\">132</td>\n",
              "        <td style=\"padding-left: 1em; padding-right: 1em; text-align: center; vertical-align: top\">4.972401315130497</td>\n",
              "        <td style=\"padding-left: 1em; padding-right: 1em; text-align: center; vertical-align: top\">5</td>\n",
              "    </tr>\n",
              "    <tr>\n",
              "        <td style=\"padding-left: 1em; padding-right: 1em; text-align: center; vertical-align: top\">379</td>\n",
              "        <td style=\"padding-left: 1em; padding-right: 1em; text-align: center; vertical-align: top\">484</td>\n",
              "        <td style=\"padding-left: 1em; padding-right: 1em; text-align: center; vertical-align: top\">4.965424233831669</td>\n",
              "        <td style=\"padding-left: 1em; padding-right: 1em; text-align: center; vertical-align: top\">6</td>\n",
              "    </tr>\n",
              "    <tr>\n",
              "        <td style=\"padding-left: 1em; padding-right: 1em; text-align: center; vertical-align: top\">379</td>\n",
              "        <td style=\"padding-left: 1em; padding-right: 1em; text-align: center; vertical-align: top\">8</td>\n",
              "        <td style=\"padding-left: 1em; padding-right: 1em; text-align: center; vertical-align: top\">4.943450147070195</td>\n",
              "        <td style=\"padding-left: 1em; padding-right: 1em; text-align: center; vertical-align: top\">7</td>\n",
              "    </tr>\n",
              "    <tr>\n",
              "        <td style=\"padding-left: 1em; padding-right: 1em; text-align: center; vertical-align: top\">379</td>\n",
              "        <td style=\"padding-left: 1em; padding-right: 1em; text-align: center; vertical-align: top\">135</td>\n",
              "        <td style=\"padding-left: 1em; padding-right: 1em; text-align: center; vertical-align: top\">4.863627129949833</td>\n",
              "        <td style=\"padding-left: 1em; padding-right: 1em; text-align: center; vertical-align: top\">8</td>\n",
              "    </tr>\n",
              "    <tr>\n",
              "        <td style=\"padding-left: 1em; padding-right: 1em; text-align: center; vertical-align: top\">379</td>\n",
              "        <td style=\"padding-left: 1em; padding-right: 1em; text-align: center; vertical-align: top\">428</td>\n",
              "        <td style=\"padding-left: 1em; padding-right: 1em; text-align: center; vertical-align: top\">4.833234959997441</td>\n",
              "        <td style=\"padding-left: 1em; padding-right: 1em; text-align: center; vertical-align: top\">9</td>\n",
              "    </tr>\n",
              "    <tr>\n",
              "        <td style=\"padding-left: 1em; padding-right: 1em; text-align: center; vertical-align: top\">379</td>\n",
              "        <td style=\"padding-left: 1em; padding-right: 1em; text-align: center; vertical-align: top\">423</td>\n",
              "        <td style=\"padding-left: 1em; padding-right: 1em; text-align: center; vertical-align: top\">4.808803731359745</td>\n",
              "        <td style=\"padding-left: 1em; padding-right: 1em; text-align: center; vertical-align: top\">10</td>\n",
              "    </tr>\n",
              "</table>\n",
              "[9430 rows x 4 columns]<br/>Note: Only the head of the SFrame is printed.<br/>You can use print_rows(num_rows=m, num_columns=n) to print more rows and columns.\n",
              "</div>"
            ],
            "text/plain": [
              "Columns:\n",
              "\tuser_id\tint\n",
              "\titem_id\tint\n",
              "\tscore\tfloat\n",
              "\trank\tint\n",
              "\n",
              "Rows: 9430\n",
              "\n",
              "Data:\n",
              "+---------+---------+-------------------+------+\n",
              "| user_id | item_id |       score       | rank |\n",
              "+---------+---------+-------------------+------+\n",
              "|   379   |   318   | 5.616670304693486 |  1   |\n",
              "|   379   |   483   | 5.553944522299076 |  2   |\n",
              "|   379   |   209   | 5.113952809728886 |  3   |\n",
              "|   379   |   258   | 5.002330953039433 |  4   |\n",
              "|   379   |   132   | 4.972401315130497 |  5   |\n",
              "|   379   |   484   | 4.965424233831669 |  6   |\n",
              "|   379   |    8    | 4.943450147070195 |  7   |\n",
              "|   379   |   135   | 4.863627129949833 |  8   |\n",
              "|   379   |   428   | 4.833234959997441 |  9   |\n",
              "|   379   |   423   | 4.808803731359745 |  10  |\n",
              "+---------+---------+-------------------+------+\n",
              "[9430 rows x 4 columns]\n",
              "Note: Only the head of the SFrame is printed.\n",
              "You can use print_rows(num_rows=m, num_columns=n) to print more rows and columns."
            ]
          },
          "metadata": {
            "tags": []
          },
          "execution_count": 47
        }
      ]
    },
    {
      "cell_type": "code",
      "metadata": {
        "colab": {
          "base_uri": "https://localhost:8080/",
          "height": 1000
        },
        "id": "zyPYppufGILd",
        "outputId": "f2dbf181-6720-4c40-c33e-7718a0eae0fa"
      },
      "source": [
        "trains, vals = tc.recommender.util.random_split_by_user(sf)\n",
        "m2 = tc.ranking_factorization_recommender.create(trains, target = \"rating\", ranking_regularization=1e-3, unobserved_rating_value=1)\n",
        "recs2 = m2.recommend()\n",
        "recs2"
      ],
      "execution_count": 51,
      "outputs": [
        {
          "output_type": "display_data",
          "data": {
            "text/html": [
              "<pre>Preparing data set.</pre>"
            ],
            "text/plain": [
              "Preparing data set."
            ]
          },
          "metadata": {
            "tags": []
          }
        },
        {
          "output_type": "display_data",
          "data": {
            "text/html": [
              "<pre>    Data has 56016 observations with 943 users and 1591 items.</pre>"
            ],
            "text/plain": [
              "    Data has 56016 observations with 943 users and 1591 items."
            ]
          },
          "metadata": {
            "tags": []
          }
        },
        {
          "output_type": "display_data",
          "data": {
            "text/html": [
              "<pre>    Data prepared in: 0.053932s</pre>"
            ],
            "text/plain": [
              "    Data prepared in: 0.053932s"
            ]
          },
          "metadata": {
            "tags": []
          }
        },
        {
          "output_type": "display_data",
          "data": {
            "text/html": [
              "<pre>Training ranking_factorization_recommender for recommendations.</pre>"
            ],
            "text/plain": [
              "Training ranking_factorization_recommender for recommendations."
            ]
          },
          "metadata": {
            "tags": []
          }
        },
        {
          "output_type": "display_data",
          "data": {
            "text/html": [
              "<pre>+--------------------------------+--------------------------------------------------+----------+</pre>"
            ],
            "text/plain": [
              "+--------------------------------+--------------------------------------------------+----------+"
            ]
          },
          "metadata": {
            "tags": []
          }
        },
        {
          "output_type": "display_data",
          "data": {
            "text/html": [
              "<pre>| Parameter                      | Description                                      | Value    |</pre>"
            ],
            "text/plain": [
              "| Parameter                      | Description                                      | Value    |"
            ]
          },
          "metadata": {
            "tags": []
          }
        },
        {
          "output_type": "display_data",
          "data": {
            "text/html": [
              "<pre>+--------------------------------+--------------------------------------------------+----------+</pre>"
            ],
            "text/plain": [
              "+--------------------------------+--------------------------------------------------+----------+"
            ]
          },
          "metadata": {
            "tags": []
          }
        },
        {
          "output_type": "display_data",
          "data": {
            "text/html": [
              "<pre>| num_factors                    | Factor Dimension                                 | 32       |</pre>"
            ],
            "text/plain": [
              "| num_factors                    | Factor Dimension                                 | 32       |"
            ]
          },
          "metadata": {
            "tags": []
          }
        },
        {
          "output_type": "display_data",
          "data": {
            "text/html": [
              "<pre>| regularization                 | L2 Regularization on Factors                     | 1e-09    |</pre>"
            ],
            "text/plain": [
              "| regularization                 | L2 Regularization on Factors                     | 1e-09    |"
            ]
          },
          "metadata": {
            "tags": []
          }
        },
        {
          "output_type": "display_data",
          "data": {
            "text/html": [
              "<pre>| solver                         | Solver used for training                         | sgd      |</pre>"
            ],
            "text/plain": [
              "| solver                         | Solver used for training                         | sgd      |"
            ]
          },
          "metadata": {
            "tags": []
          }
        },
        {
          "output_type": "display_data",
          "data": {
            "text/html": [
              "<pre>| linear_regularization          | L2 Regularization on Linear Coefficients         | 1e-09    |</pre>"
            ],
            "text/plain": [
              "| linear_regularization          | L2 Regularization on Linear Coefficients         | 1e-09    |"
            ]
          },
          "metadata": {
            "tags": []
          }
        },
        {
          "output_type": "display_data",
          "data": {
            "text/html": [
              "<pre>| ranking_regularization         | Rank-based Regularization Weight                 | 0.001    |</pre>"
            ],
            "text/plain": [
              "| ranking_regularization         | Rank-based Regularization Weight                 | 0.001    |"
            ]
          },
          "metadata": {
            "tags": []
          }
        },
        {
          "output_type": "display_data",
          "data": {
            "text/html": [
              "<pre>| unobserved_rating_value        | Ranking Target Rating for Unobserved Interacti...| 1        |</pre>"
            ],
            "text/plain": [
              "| unobserved_rating_value        | Ranking Target Rating for Unobserved Interacti...| 1        |"
            ]
          },
          "metadata": {
            "tags": []
          }
        },
        {
          "output_type": "display_data",
          "data": {
            "text/html": [
              "<pre>| max_iterations                 | Maximum Number of Iterations                     | 25       |</pre>"
            ],
            "text/plain": [
              "| max_iterations                 | Maximum Number of Iterations                     | 25       |"
            ]
          },
          "metadata": {
            "tags": []
          }
        },
        {
          "output_type": "display_data",
          "data": {
            "text/html": [
              "<pre>+--------------------------------+--------------------------------------------------+----------+</pre>"
            ],
            "text/plain": [
              "+--------------------------------+--------------------------------------------------+----------+"
            ]
          },
          "metadata": {
            "tags": []
          }
        },
        {
          "output_type": "display_data",
          "data": {
            "text/html": [
              "<pre>  Optimizing model using SGD; tuning step size.</pre>"
            ],
            "text/plain": [
              "  Optimizing model using SGD; tuning step size."
            ]
          },
          "metadata": {
            "tags": []
          }
        },
        {
          "output_type": "display_data",
          "data": {
            "text/html": [
              "<pre>  Using 10000 / 56016 points for tuning the step size.</pre>"
            ],
            "text/plain": [
              "  Using 10000 / 56016 points for tuning the step size."
            ]
          },
          "metadata": {
            "tags": []
          }
        },
        {
          "output_type": "display_data",
          "data": {
            "text/html": [
              "<pre>+---------+-------------------+------------------------------------------+</pre>"
            ],
            "text/plain": [
              "+---------+-------------------+------------------------------------------+"
            ]
          },
          "metadata": {
            "tags": []
          }
        },
        {
          "output_type": "display_data",
          "data": {
            "text/html": [
              "<pre>| Attempt | Initial Step Size | Estimated Objective Value                |</pre>"
            ],
            "text/plain": [
              "| Attempt | Initial Step Size | Estimated Objective Value                |"
            ]
          },
          "metadata": {
            "tags": []
          }
        },
        {
          "output_type": "display_data",
          "data": {
            "text/html": [
              "<pre>+---------+-------------------+------------------------------------------+</pre>"
            ],
            "text/plain": [
              "+---------+-------------------+------------------------------------------+"
            ]
          },
          "metadata": {
            "tags": []
          }
        },
        {
          "output_type": "display_data",
          "data": {
            "text/html": [
              "<pre>| 0       | 25                | Not Viable                               |</pre>"
            ],
            "text/plain": [
              "| 0       | 25                | Not Viable                               |"
            ]
          },
          "metadata": {
            "tags": []
          }
        },
        {
          "output_type": "display_data",
          "data": {
            "text/html": [
              "<pre>| 1       | 6.25              | Not Viable                               |</pre>"
            ],
            "text/plain": [
              "| 1       | 6.25              | Not Viable                               |"
            ]
          },
          "metadata": {
            "tags": []
          }
        },
        {
          "output_type": "display_data",
          "data": {
            "text/html": [
              "<pre>| 2       | 1.5625            | Not Viable                               |</pre>"
            ],
            "text/plain": [
              "| 2       | 1.5625            | Not Viable                               |"
            ]
          },
          "metadata": {
            "tags": []
          }
        },
        {
          "output_type": "display_data",
          "data": {
            "text/html": [
              "<pre>| 3       | 0.390625          | Not Viable                               |</pre>"
            ],
            "text/plain": [
              "| 3       | 0.390625          | Not Viable                               |"
            ]
          },
          "metadata": {
            "tags": []
          }
        },
        {
          "output_type": "display_data",
          "data": {
            "text/html": [
              "<pre>| 4       | 0.0976562         | 0.693732                                 |</pre>"
            ],
            "text/plain": [
              "| 4       | 0.0976562         | 0.693732                                 |"
            ]
          },
          "metadata": {
            "tags": []
          }
        },
        {
          "output_type": "display_data",
          "data": {
            "text/html": [
              "<pre>| 5       | 0.0488281         | 0.720726                                 |</pre>"
            ],
            "text/plain": [
              "| 5       | 0.0488281         | 0.720726                                 |"
            ]
          },
          "metadata": {
            "tags": []
          }
        },
        {
          "output_type": "display_data",
          "data": {
            "text/html": [
              "<pre>| 6       | 0.0244141         | 0.774327                                 |</pre>"
            ],
            "text/plain": [
              "| 6       | 0.0244141         | 0.774327                                 |"
            ]
          },
          "metadata": {
            "tags": []
          }
        },
        {
          "output_type": "display_data",
          "data": {
            "text/html": [
              "<pre>| 7       | 0.012207          | 0.85205                                  |</pre>"
            ],
            "text/plain": [
              "| 7       | 0.012207          | 0.85205                                  |"
            ]
          },
          "metadata": {
            "tags": []
          }
        },
        {
          "output_type": "display_data",
          "data": {
            "text/html": [
              "<pre>+---------+-------------------+------------------------------------------+</pre>"
            ],
            "text/plain": [
              "+---------+-------------------+------------------------------------------+"
            ]
          },
          "metadata": {
            "tags": []
          }
        },
        {
          "output_type": "display_data",
          "data": {
            "text/html": [
              "<pre>| Final   | 0.0976562         | 0.693732                                 |</pre>"
            ],
            "text/plain": [
              "| Final   | 0.0976562         | 0.693732                                 |"
            ]
          },
          "metadata": {
            "tags": []
          }
        },
        {
          "output_type": "display_data",
          "data": {
            "text/html": [
              "<pre>+---------+-------------------+------------------------------------------+</pre>"
            ],
            "text/plain": [
              "+---------+-------------------+------------------------------------------+"
            ]
          },
          "metadata": {
            "tags": []
          }
        },
        {
          "output_type": "display_data",
          "data": {
            "text/html": [
              "<pre>Starting Optimization.</pre>"
            ],
            "text/plain": [
              "Starting Optimization."
            ]
          },
          "metadata": {
            "tags": []
          }
        },
        {
          "output_type": "display_data",
          "data": {
            "text/html": [
              "<pre>+---------+--------------+-------------------+-----------------------+-------------+</pre>"
            ],
            "text/plain": [
              "+---------+--------------+-------------------+-----------------------+-------------+"
            ]
          },
          "metadata": {
            "tags": []
          }
        },
        {
          "output_type": "display_data",
          "data": {
            "text/html": [
              "<pre>| Iter.   | Elapsed Time | Approx. Objective | Approx. Training RMSE | Step Size   |</pre>"
            ],
            "text/plain": [
              "| Iter.   | Elapsed Time | Approx. Objective | Approx. Training RMSE | Step Size   |"
            ]
          },
          "metadata": {
            "tags": []
          }
        },
        {
          "output_type": "display_data",
          "data": {
            "text/html": [
              "<pre>+---------+--------------+-------------------+-----------------------+-------------+</pre>"
            ],
            "text/plain": [
              "+---------+--------------+-------------------+-----------------------+-------------+"
            ]
          },
          "metadata": {
            "tags": []
          }
        },
        {
          "output_type": "display_data",
          "data": {
            "text/html": [
              "<pre>| Initial | 169us        | 1.28487           | 1.1307                |             |</pre>"
            ],
            "text/plain": [
              "| Initial | 169us        | 1.28487           | 1.1307                |             |"
            ]
          },
          "metadata": {
            "tags": []
          }
        },
        {
          "output_type": "display_data",
          "data": {
            "text/html": [
              "<pre>+---------+--------------+-------------------+-----------------------+-------------+</pre>"
            ],
            "text/plain": [
              "+---------+--------------+-------------------+-----------------------+-------------+"
            ]
          },
          "metadata": {
            "tags": []
          }
        },
        {
          "output_type": "display_data",
          "data": {
            "text/html": [
              "<pre>| 1       | 72.419ms     | 1.09469           | 1.04255               | 0.0976562   |</pre>"
            ],
            "text/plain": [
              "| 1       | 72.419ms     | 1.09469           | 1.04255               | 0.0976562   |"
            ]
          },
          "metadata": {
            "tags": []
          }
        },
        {
          "output_type": "display_data",
          "data": {
            "text/html": [
              "<pre>| 2       | 140.109ms    | 0.963921          | 0.977663              | 0.0580668   |</pre>"
            ],
            "text/plain": [
              "| 2       | 140.109ms    | 0.963921          | 0.977663              | 0.0580668   |"
            ]
          },
          "metadata": {
            "tags": []
          }
        },
        {
          "output_type": "display_data",
          "data": {
            "text/html": [
              "<pre>| 3       | 197.213ms    | 0.892663          | 0.94055               | 0.042841    |</pre>"
            ],
            "text/plain": [
              "| 3       | 197.213ms    | 0.892663          | 0.94055               | 0.042841    |"
            ]
          },
          "metadata": {
            "tags": []
          }
        },
        {
          "output_type": "display_data",
          "data": {
            "text/html": [
              "<pre>| 4       | 259.575ms    | 0.84168           | 0.913033              | 0.0345267   |</pre>"
            ],
            "text/plain": [
              "| 4       | 259.575ms    | 0.84168           | 0.913033              | 0.0345267   |"
            ]
          },
          "metadata": {
            "tags": []
          }
        },
        {
          "output_type": "display_data",
          "data": {
            "text/html": [
              "<pre>| 5       | 319.757ms    | 0.784533          | 0.881188              | 0.029206    |</pre>"
            ],
            "text/plain": [
              "| 5       | 319.757ms    | 0.784533          | 0.881188              | 0.029206    |"
            ]
          },
          "metadata": {
            "tags": []
          }
        },
        {
          "output_type": "display_data",
          "data": {
            "text/html": [
              "<pre>| 10      | 601.672ms    | 0.463802          | 0.67488               | 0.017366    |</pre>"
            ],
            "text/plain": [
              "| 10      | 601.672ms    | 0.463802          | 0.67488               | 0.017366    |"
            ]
          },
          "metadata": {
            "tags": []
          }
        },
        {
          "output_type": "display_data",
          "data": {
            "text/html": [
              "<pre>| 25      | 1.48s        | 0.137823          | 0.358849              | 0.00873464  |</pre>"
            ],
            "text/plain": [
              "| 25      | 1.48s        | 0.137823          | 0.358849              | 0.00873464  |"
            ]
          },
          "metadata": {
            "tags": []
          }
        },
        {
          "output_type": "display_data",
          "data": {
            "text/html": [
              "<pre>+---------+--------------+-------------------+-----------------------+-------------+</pre>"
            ],
            "text/plain": [
              "+---------+--------------+-------------------+-----------------------+-------------+"
            ]
          },
          "metadata": {
            "tags": []
          }
        },
        {
          "output_type": "display_data",
          "data": {
            "text/html": [
              "<pre>Optimization Complete: Maximum number of passes through the data reached.</pre>"
            ],
            "text/plain": [
              "Optimization Complete: Maximum number of passes through the data reached."
            ]
          },
          "metadata": {
            "tags": []
          }
        },
        {
          "output_type": "display_data",
          "data": {
            "text/html": [
              "<pre>Computing final objective value and training RMSE.</pre>"
            ],
            "text/plain": [
              "Computing final objective value and training RMSE."
            ]
          },
          "metadata": {
            "tags": []
          }
        },
        {
          "output_type": "display_data",
          "data": {
            "text/html": [
              "<pre>       Final objective value: 0.116675</pre>"
            ],
            "text/plain": [
              "       Final objective value: 0.116675"
            ]
          },
          "metadata": {
            "tags": []
          }
        },
        {
          "output_type": "display_data",
          "data": {
            "text/html": [
              "<pre>       Final training RMSE: 0.327627</pre>"
            ],
            "text/plain": [
              "       Final training RMSE: 0.327627"
            ]
          },
          "metadata": {
            "tags": []
          }
        },
        {
          "output_type": "execute_result",
          "data": {
            "text/html": [
              "<div style=\"max-height:1000px;max-width:1500px;overflow:auto;\"><table frame=\"box\" rules=\"cols\">\n",
              "    <tr>\n",
              "        <th style=\"padding-left: 1em; padding-right: 1em; text-align: center\">user_id</th>\n",
              "        <th style=\"padding-left: 1em; padding-right: 1em; text-align: center\">item_id</th>\n",
              "        <th style=\"padding-left: 1em; padding-right: 1em; text-align: center\">score</th>\n",
              "        <th style=\"padding-left: 1em; padding-right: 1em; text-align: center\">rank</th>\n",
              "    </tr>\n",
              "    <tr>\n",
              "        <td style=\"padding-left: 1em; padding-right: 1em; text-align: center; vertical-align: top\">379</td>\n",
              "        <td style=\"padding-left: 1em; padding-right: 1em; text-align: center; vertical-align: top\">474</td>\n",
              "        <td style=\"padding-left: 1em; padding-right: 1em; text-align: center; vertical-align: top\">5.762578835594356</td>\n",
              "        <td style=\"padding-left: 1em; padding-right: 1em; text-align: center; vertical-align: top\">1</td>\n",
              "    </tr>\n",
              "    <tr>\n",
              "        <td style=\"padding-left: 1em; padding-right: 1em; text-align: center; vertical-align: top\">379</td>\n",
              "        <td style=\"padding-left: 1em; padding-right: 1em; text-align: center; vertical-align: top\">632</td>\n",
              "        <td style=\"padding-left: 1em; padding-right: 1em; text-align: center; vertical-align: top\">5.674460997688472</td>\n",
              "        <td style=\"padding-left: 1em; padding-right: 1em; text-align: center; vertical-align: top\">2</td>\n",
              "    </tr>\n",
              "    <tr>\n",
              "        <td style=\"padding-left: 1em; padding-right: 1em; text-align: center; vertical-align: top\">379</td>\n",
              "        <td style=\"padding-left: 1em; padding-right: 1em; text-align: center; vertical-align: top\">315</td>\n",
              "        <td style=\"padding-left: 1em; padding-right: 1em; text-align: center; vertical-align: top\">5.5629881526109575</td>\n",
              "        <td style=\"padding-left: 1em; padding-right: 1em; text-align: center; vertical-align: top\">3</td>\n",
              "    </tr>\n",
              "    <tr>\n",
              "        <td style=\"padding-left: 1em; padding-right: 1em; text-align: center; vertical-align: top\">379</td>\n",
              "        <td style=\"padding-left: 1em; padding-right: 1em; text-align: center; vertical-align: top\">193</td>\n",
              "        <td style=\"padding-left: 1em; padding-right: 1em; text-align: center; vertical-align: top\">5.5050870085832475</td>\n",
              "        <td style=\"padding-left: 1em; padding-right: 1em; text-align: center; vertical-align: top\">4</td>\n",
              "    </tr>\n",
              "    <tr>\n",
              "        <td style=\"padding-left: 1em; padding-right: 1em; text-align: center; vertical-align: top\">379</td>\n",
              "        <td style=\"padding-left: 1em; padding-right: 1em; text-align: center; vertical-align: top\">313</td>\n",
              "        <td style=\"padding-left: 1em; padding-right: 1em; text-align: center; vertical-align: top\">5.451219430076778</td>\n",
              "        <td style=\"padding-left: 1em; padding-right: 1em; text-align: center; vertical-align: top\">5</td>\n",
              "    </tr>\n",
              "    <tr>\n",
              "        <td style=\"padding-left: 1em; padding-right: 1em; text-align: center; vertical-align: top\">379</td>\n",
              "        <td style=\"padding-left: 1em; padding-right: 1em; text-align: center; vertical-align: top\">14</td>\n",
              "        <td style=\"padding-left: 1em; padding-right: 1em; text-align: center; vertical-align: top\">5.417641034233272</td>\n",
              "        <td style=\"padding-left: 1em; padding-right: 1em; text-align: center; vertical-align: top\">6</td>\n",
              "    </tr>\n",
              "    <tr>\n",
              "        <td style=\"padding-left: 1em; padding-right: 1em; text-align: center; vertical-align: top\">379</td>\n",
              "        <td style=\"padding-left: 1em; padding-right: 1em; text-align: center; vertical-align: top\">887</td>\n",
              "        <td style=\"padding-left: 1em; padding-right: 1em; text-align: center; vertical-align: top\">5.340629568206966</td>\n",
              "        <td style=\"padding-left: 1em; padding-right: 1em; text-align: center; vertical-align: top\">7</td>\n",
              "    </tr>\n",
              "    <tr>\n",
              "        <td style=\"padding-left: 1em; padding-right: 1em; text-align: center; vertical-align: top\">379</td>\n",
              "        <td style=\"padding-left: 1em; padding-right: 1em; text-align: center; vertical-align: top\">958</td>\n",
              "        <td style=\"padding-left: 1em; padding-right: 1em; text-align: center; vertical-align: top\">5.333243718254268</td>\n",
              "        <td style=\"padding-left: 1em; padding-right: 1em; text-align: center; vertical-align: top\">8</td>\n",
              "    </tr>\n",
              "    <tr>\n",
              "        <td style=\"padding-left: 1em; padding-right: 1em; text-align: center; vertical-align: top\">379</td>\n",
              "        <td style=\"padding-left: 1em; padding-right: 1em; text-align: center; vertical-align: top\">591</td>\n",
              "        <td style=\"padding-left: 1em; padding-right: 1em; text-align: center; vertical-align: top\">5.3246718550798295</td>\n",
              "        <td style=\"padding-left: 1em; padding-right: 1em; text-align: center; vertical-align: top\">9</td>\n",
              "    </tr>\n",
              "    <tr>\n",
              "        <td style=\"padding-left: 1em; padding-right: 1em; text-align: center; vertical-align: top\">379</td>\n",
              "        <td style=\"padding-left: 1em; padding-right: 1em; text-align: center; vertical-align: top\">258</td>\n",
              "        <td style=\"padding-left: 1em; padding-right: 1em; text-align: center; vertical-align: top\">5.188235750305354</td>\n",
              "        <td style=\"padding-left: 1em; padding-right: 1em; text-align: center; vertical-align: top\">10</td>\n",
              "    </tr>\n",
              "</table>\n",
              "[9430 rows x 4 columns]<br/>Note: Only the head of the SFrame is printed.<br/>You can use print_rows(num_rows=m, num_columns=n) to print more rows and columns.\n",
              "</div>"
            ],
            "text/plain": [
              "Columns:\n",
              "\tuser_id\tint\n",
              "\titem_id\tint\n",
              "\tscore\tfloat\n",
              "\trank\tint\n",
              "\n",
              "Rows: 9430\n",
              "\n",
              "Data:\n",
              "+---------+---------+--------------------+------+\n",
              "| user_id | item_id |       score        | rank |\n",
              "+---------+---------+--------------------+------+\n",
              "|   379   |   474   | 5.762578835594356  |  1   |\n",
              "|   379   |   632   | 5.674460997688472  |  2   |\n",
              "|   379   |   315   | 5.5629881526109575 |  3   |\n",
              "|   379   |   193   | 5.5050870085832475 |  4   |\n",
              "|   379   |   313   | 5.451219430076778  |  5   |\n",
              "|   379   |    14   | 5.417641034233272  |  6   |\n",
              "|   379   |   887   | 5.340629568206966  |  7   |\n",
              "|   379   |   958   | 5.333243718254268  |  8   |\n",
              "|   379   |   591   | 5.3246718550798295 |  9   |\n",
              "|   379   |   258   | 5.188235750305354  |  10  |\n",
              "+---------+---------+--------------------+------+\n",
              "[9430 rows x 4 columns]\n",
              "Note: Only the head of the SFrame is printed.\n",
              "You can use print_rows(num_rows=m, num_columns=n) to print more rows and columns."
            ]
          },
          "metadata": {
            "tags": []
          },
          "execution_count": 51
        }
      ]
    },
    {
      "cell_type": "code",
      "metadata": {
        "colab": {
          "base_uri": "https://localhost:8080/"
        },
        "id": "RmyoBWBmGtTd",
        "outputId": "999715af-5972-44c0-8238-b8f1f2765407"
      },
      "source": [
        "eval = m2.evaluate(vals)\n",
        "eval"
      ],
      "execution_count": 54,
      "outputs": [
        {
          "output_type": "stream",
          "text": [
            "\n",
            "Precision and recall summary statistics by cutoff\n",
            "+--------+----------------------+----------------------+\n",
            "| cutoff |    mean_precision    |     mean_recall      |\n",
            "+--------+----------------------+----------------------+\n",
            "|   1    | 0.06510138740661682  | 0.004957782399062463 |\n",
            "|   2    |  0.0581643543223052  | 0.009166776280572499 |\n",
            "|   3    | 0.05585200996086806  | 0.013055295040645917 |\n",
            "|   4    | 0.051494130202774824 | 0.01564241351872738  |\n",
            "|   5    | 0.05016008537886876  | 0.018730858737131914 |\n",
            "|   6    | 0.049092849519743846 | 0.02134476220423466  |\n",
            "|   7    | 0.046653453270315635 | 0.023838387957116854 |\n",
            "|   8    | 0.04602454642475987  |  0.0260323370842688  |\n",
            "|   9    | 0.044586742558994454 |  0.0281541091269986  |\n",
            "|   10   | 0.04397011739594452  | 0.03009227344119074  |\n",
            "+--------+----------------------+----------------------+\n",
            "[10 rows x 3 columns]\n",
            "\n",
            "\n",
            "Overall RMSE: 1.124384439085552\n",
            "\n",
            "Per User RMSE (best)\n",
            "+---------+----------------------+-------+\n",
            "| user_id |         rmse         | count |\n",
            "+---------+----------------------+-------+\n",
            "|   866   | 0.018736438942254185 |   1   |\n",
            "+---------+----------------------+-------+\n",
            "[1 rows x 3 columns]\n",
            "\n",
            "\n",
            "Per User RMSE (worst)\n",
            "+---------+-------------------+-------+\n",
            "| user_id |        rmse       | count |\n",
            "+---------+-------------------+-------+\n",
            "|    36   | 3.436747250961959 |   1   |\n",
            "+---------+-------------------+-------+\n",
            "[1 rows x 3 columns]\n",
            "\n",
            "\n",
            "Per Item RMSE (best)\n",
            "+---------+----------------------+-------+\n",
            "| item_id |         rmse         | count |\n",
            "+---------+----------------------+-------+\n",
            "|   1541  | 0.006841646623910069 |   1   |\n",
            "+---------+----------------------+-------+\n",
            "[1 rows x 3 columns]\n",
            "\n",
            "\n",
            "Per Item RMSE (worst)\n",
            "+---------+-------------------+-------+\n",
            "| item_id |        rmse       | count |\n",
            "+---------+-------------------+-------+\n",
            "|   247   | 3.950163612258733 |   1   |\n",
            "+---------+-------------------+-------+\n",
            "[1 rows x 3 columns]\n",
            "\n"
          ],
          "name": "stdout"
        },
        {
          "output_type": "execute_result",
          "data": {
            "text/plain": [
              "{'precision_recall_by_user': Columns:\n",
              " \tuser_id\tint\n",
              " \tcutoff\tint\n",
              " \tprecision\tfloat\n",
              " \trecall\tfloat\n",
              " \tcount\tint\n",
              " \n",
              " Rows: 16866\n",
              " \n",
              " Data:\n",
              " +---------+--------+---------------------+---------------------+-------+\n",
              " | user_id | cutoff |      precision      |        recall       | count |\n",
              " +---------+--------+---------------------+---------------------+-------+\n",
              " |   379   |   1    |         1.0         | 0.03571428571428571 |   28  |\n",
              " |   379   |   2    |         0.5         | 0.03571428571428571 |   28  |\n",
              " |   379   |   3    |  0.3333333333333333 | 0.03571428571428571 |   28  |\n",
              " |   379   |   4    |         0.25        | 0.03571428571428571 |   28  |\n",
              " |   379   |   5    |         0.2         | 0.03571428571428571 |   28  |\n",
              " |   379   |   6    | 0.16666666666666666 | 0.03571428571428571 |   28  |\n",
              " |   379   |   7    | 0.14285714285714285 | 0.03571428571428571 |   28  |\n",
              " |   379   |   8    |        0.125        | 0.03571428571428571 |   28  |\n",
              " |   379   |   9    |  0.1111111111111111 | 0.03571428571428571 |   28  |\n",
              " |   379   |   10   |         0.1         | 0.03571428571428571 |   28  |\n",
              " +---------+--------+---------------------+---------------------+-------+\n",
              " [16866 rows x 5 columns]\n",
              " Note: Only the head of the SFrame is printed.\n",
              " You can use print_rows(num_rows=m, num_columns=n) to print more rows and columns.,\n",
              " 'precision_recall_overall': Columns:\n",
              " \tcutoff\tint\n",
              " \tprecision\tfloat\n",
              " \trecall\tfloat\n",
              " \n",
              " Rows: 18\n",
              " \n",
              " Data:\n",
              " +--------+----------------------+----------------------+\n",
              " | cutoff |      precision       |        recall        |\n",
              " +--------+----------------------+----------------------+\n",
              " |   1    | 0.06510138740661685  | 0.004957782399062462 |\n",
              " |   2    | 0.05816435432230529  | 0.009166776280572511 |\n",
              " |   3    | 0.05585200996086803  | 0.013055295040645917 |\n",
              " |   4    | 0.051494130202774796 | 0.01564241351872739  |\n",
              " |   5    | 0.05016008537886878  | 0.018730858737131897 |\n",
              " |   6    | 0.049092849519743846 | 0.021344762204234657 |\n",
              " |   7    | 0.04665345327031563  | 0.023838387957116843 |\n",
              " |   8    | 0.04602454642475988  | 0.026032337084268792 |\n",
              " |   9    | 0.044586742558994474 | 0.028154109126998606 |\n",
              " |   10   | 0.04397011739594452  | 0.03009227344119077  |\n",
              " +--------+----------------------+----------------------+\n",
              " [18 rows x 3 columns]\n",
              " Note: Only the head of the SFrame is printed.\n",
              " You can use print_rows(num_rows=m, num_columns=n) to print more rows and columns.,\n",
              " 'rmse_by_item': Columns:\n",
              " \titem_id\tint\n",
              " \trmse\tfloat\n",
              " \tcount\tint\n",
              " \n",
              " Rows: 1322\n",
              " \n",
              " Data:\n",
              " +---------+---------------------+-------+\n",
              " | item_id |         rmse        | count |\n",
              " +---------+---------------------+-------+\n",
              " |   1611  | 0.05142118793457806 |   1   |\n",
              " |   118   |  1.2013493166899016 |   44  |\n",
              " |   660   |  1.2512931134941434 |   18  |\n",
              " |   1379  | 0.34829890157550514 |   1   |\n",
              " |   839   |  1.067641535890401  |   1   |\n",
              " |   699   |  1.073572151395249  |   15  |\n",
              " |   567   |  0.5221612182035823 |   3   |\n",
              " |   773   |  0.9054566492560512 |   1   |\n",
              " |   435   |  0.6899771314410995 |   40  |\n",
              " |   1517  | 0.38681301486223996 |   1   |\n",
              " +---------+---------------------+-------+\n",
              " [1322 rows x 3 columns]\n",
              " Note: Only the head of the SFrame is printed.\n",
              " You can use print_rows(num_rows=m, num_columns=n) to print more rows and columns.,\n",
              " 'rmse_by_user': Columns:\n",
              " \tuser_id\tint\n",
              " \trmse\tfloat\n",
              " \tcount\tint\n",
              " \n",
              " Rows: 937\n",
              " \n",
              " Data:\n",
              " +---------+--------------------+-------+\n",
              " | user_id |        rmse        | count |\n",
              " +---------+--------------------+-------+\n",
              " |   118   | 0.8588044443024451 |   12  |\n",
              " |   660   | 0.8415594008784547 |   41  |\n",
              " |   839   | 1.071820088663157  |   11  |\n",
              " |   699   | 1.1165537820440556 |   23  |\n",
              " |   567   | 1.0937696055612662 |   16  |\n",
              " |   773   | 1.2939051912922246 |   20  |\n",
              " |   435   | 1.1473220974166853 |   54  |\n",
              " |   554   | 0.6607735873190651 |   15  |\n",
              " |   898   | 2.0974435004171728 |   1   |\n",
              " |   840   | 0.7015896321852362 |   19  |\n",
              " +---------+--------------------+-------+\n",
              " [937 rows x 3 columns]\n",
              " Note: Only the head of the SFrame is printed.\n",
              " You can use print_rows(num_rows=m, num_columns=n) to print more rows and columns.,\n",
              " 'rmse_overall': 1.124384439085552}"
            ]
          },
          "metadata": {
            "tags": []
          },
          "execution_count": 54
        }
      ]
    },
    {
      "cell_type": "code",
      "metadata": {
        "colab": {
          "base_uri": "https://localhost:8080/"
        },
        "id": "DuM-esesTI6c",
        "outputId": "2bba3b9b-b25c-4a0b-9770-6047ac360bdf"
      },
      "source": [
        "m2.evaluate_precision_recall(vals)"
      ],
      "execution_count": 53,
      "outputs": [
        {
          "output_type": "execute_result",
          "data": {
            "text/plain": [
              "{'precision_recall_by_user': Columns:\n",
              " \tuser_id\tint\n",
              " \tcutoff\tint\n",
              " \tprecision\tfloat\n",
              " \trecall\tfloat\n",
              " \tcount\tint\n",
              " \n",
              " Rows: 16866\n",
              " \n",
              " Data:\n",
              " +---------+--------+---------------------+---------------------+-------+\n",
              " | user_id | cutoff |      precision      |        recall       | count |\n",
              " +---------+--------+---------------------+---------------------+-------+\n",
              " |   379   |   1    |         1.0         | 0.03571428571428571 |   28  |\n",
              " |   379   |   2    |         0.5         | 0.03571428571428571 |   28  |\n",
              " |   379   |   3    |  0.3333333333333333 | 0.03571428571428571 |   28  |\n",
              " |   379   |   4    |         0.25        | 0.03571428571428571 |   28  |\n",
              " |   379   |   5    |         0.2         | 0.03571428571428571 |   28  |\n",
              " |   379   |   6    | 0.16666666666666666 | 0.03571428571428571 |   28  |\n",
              " |   379   |   7    | 0.14285714285714285 | 0.03571428571428571 |   28  |\n",
              " |   379   |   8    |        0.125        | 0.03571428571428571 |   28  |\n",
              " |   379   |   9    |  0.1111111111111111 | 0.03571428571428571 |   28  |\n",
              " |   379   |   10   |         0.1         | 0.03571428571428571 |   28  |\n",
              " +---------+--------+---------------------+---------------------+-------+\n",
              " [16866 rows x 5 columns]\n",
              " Note: Only the head of the SFrame is printed.\n",
              " You can use print_rows(num_rows=m, num_columns=n) to print more rows and columns.,\n",
              " 'precision_recall_overall': Columns:\n",
              " \tcutoff\tint\n",
              " \tprecision\tfloat\n",
              " \trecall\tfloat\n",
              " \n",
              " Rows: 18\n",
              " \n",
              " Data:\n",
              " +--------+---------------------+----------------------+\n",
              " | cutoff |      precision      |        recall        |\n",
              " +--------+---------------------+----------------------+\n",
              " |   1    | 0.06510138740661689 | 0.004957782399062461 |\n",
              " |   2    | 0.05816435432230522 | 0.009166776280572515 |\n",
              " |   3    | 0.05585200996086804 | 0.013055295040645913 |\n",
              " |   4    | 0.05149413020277484 | 0.01564241351872738  |\n",
              " |   5    | 0.05016008537886877 | 0.018730858737131897 |\n",
              " |   6    | 0.04909284951974384 | 0.021344762204234667 |\n",
              " |   7    | 0.04665345327031564 | 0.02383838795711685  |\n",
              " |   8    | 0.04602454642475987 | 0.026032337084268796 |\n",
              " |   9    | 0.04458674255899446 | 0.028154109126998603 |\n",
              " |   10   | 0.04397011739594452 | 0.030092273441190764 |\n",
              " +--------+---------------------+----------------------+\n",
              " [18 rows x 3 columns]\n",
              " Note: Only the head of the SFrame is printed.\n",
              " You can use print_rows(num_rows=m, num_columns=n) to print more rows and columns.}"
            ]
          },
          "metadata": {
            "tags": []
          },
          "execution_count": 53
        }
      ]
    },
    {
      "cell_type": "code",
      "metadata": {
        "colab": {
          "base_uri": "https://localhost:8080/",
          "height": 649
        },
        "id": "eg4jftM2TlrZ",
        "outputId": "05698450-6942-463f-f8e1-b9f6c2d8be52"
      },
      "source": [
        "m3 = tc.item_similarity_recommender.create(sf, target = \"rating\")\n",
        "recs3 = m3.recommend()\n",
        "recs3\n"
      ],
      "execution_count": 60,
      "outputs": [
        {
          "output_type": "display_data",
          "data": {
            "text/html": [
              "<pre>Preparing data set.</pre>"
            ],
            "text/plain": [
              "Preparing data set."
            ]
          },
          "metadata": {
            "tags": []
          }
        },
        {
          "output_type": "display_data",
          "data": {
            "text/html": [
              "<pre>    Data has 70000 observations with 943 users and 1629 items.</pre>"
            ],
            "text/plain": [
              "    Data has 70000 observations with 943 users and 1629 items."
            ]
          },
          "metadata": {
            "tags": []
          }
        },
        {
          "output_type": "display_data",
          "data": {
            "text/html": [
              "<pre>    Data prepared in: 0.080287s</pre>"
            ],
            "text/plain": [
              "    Data prepared in: 0.080287s"
            ]
          },
          "metadata": {
            "tags": []
          }
        },
        {
          "output_type": "display_data",
          "data": {
            "text/html": [
              "<pre>Training model from provided data.</pre>"
            ],
            "text/plain": [
              "Training model from provided data."
            ]
          },
          "metadata": {
            "tags": []
          }
        },
        {
          "output_type": "display_data",
          "data": {
            "text/html": [
              "<pre>Gathering per-item and per-user statistics.</pre>"
            ],
            "text/plain": [
              "Gathering per-item and per-user statistics."
            ]
          },
          "metadata": {
            "tags": []
          }
        },
        {
          "output_type": "display_data",
          "data": {
            "text/html": [
              "<pre>+--------------------------------+------------+</pre>"
            ],
            "text/plain": [
              "+--------------------------------+------------+"
            ]
          },
          "metadata": {
            "tags": []
          }
        },
        {
          "output_type": "display_data",
          "data": {
            "text/html": [
              "<pre>| Elapsed Time (Item Statistics) | % Complete |</pre>"
            ],
            "text/plain": [
              "| Elapsed Time (Item Statistics) | % Complete |"
            ]
          },
          "metadata": {
            "tags": []
          }
        },
        {
          "output_type": "display_data",
          "data": {
            "text/html": [
              "<pre>+--------------------------------+------------+</pre>"
            ],
            "text/plain": [
              "+--------------------------------+------------+"
            ]
          },
          "metadata": {
            "tags": []
          }
        },
        {
          "output_type": "display_data",
          "data": {
            "text/html": [
              "<pre>| 16.548ms                       | 100        |</pre>"
            ],
            "text/plain": [
              "| 16.548ms                       | 100        |"
            ]
          },
          "metadata": {
            "tags": []
          }
        },
        {
          "output_type": "display_data",
          "data": {
            "text/html": [
              "<pre>+--------------------------------+------------+</pre>"
            ],
            "text/plain": [
              "+--------------------------------+------------+"
            ]
          },
          "metadata": {
            "tags": []
          }
        },
        {
          "output_type": "display_data",
          "data": {
            "text/html": [
              "<pre>Setting up lookup tables.</pre>"
            ],
            "text/plain": [
              "Setting up lookup tables."
            ]
          },
          "metadata": {
            "tags": []
          }
        },
        {
          "output_type": "display_data",
          "data": {
            "text/html": [
              "<pre>Processing data in one pass using dense lookup tables.</pre>"
            ],
            "text/plain": [
              "Processing data in one pass using dense lookup tables."
            ]
          },
          "metadata": {
            "tags": []
          }
        },
        {
          "output_type": "display_data",
          "data": {
            "text/html": [
              "<pre>+-------------------------------------+------------------+-----------------+</pre>"
            ],
            "text/plain": [
              "+-------------------------------------+------------------+-----------------+"
            ]
          },
          "metadata": {
            "tags": []
          }
        },
        {
          "output_type": "display_data",
          "data": {
            "text/html": [
              "<pre>| Elapsed Time (Constructing Lookups) | Total % Complete | Items Processed |</pre>"
            ],
            "text/plain": [
              "| Elapsed Time (Constructing Lookups) | Total % Complete | Items Processed |"
            ]
          },
          "metadata": {
            "tags": []
          }
        },
        {
          "output_type": "display_data",
          "data": {
            "text/html": [
              "<pre>+-------------------------------------+------------------+-----------------+</pre>"
            ],
            "text/plain": [
              "+-------------------------------------+------------------+-----------------+"
            ]
          },
          "metadata": {
            "tags": []
          }
        },
        {
          "output_type": "display_data",
          "data": {
            "text/html": [
              "<pre>| 21.896ms                            | 0                | 3               |</pre>"
            ],
            "text/plain": [
              "| 21.896ms                            | 0                | 3               |"
            ]
          },
          "metadata": {
            "tags": []
          }
        },
        {
          "output_type": "display_data",
          "data": {
            "text/html": [
              "<pre>| 160.853ms                           | 100              | 1629            |</pre>"
            ],
            "text/plain": [
              "| 160.853ms                           | 100              | 1629            |"
            ]
          },
          "metadata": {
            "tags": []
          }
        },
        {
          "output_type": "display_data",
          "data": {
            "text/html": [
              "<pre>+-------------------------------------+------------------+-----------------+</pre>"
            ],
            "text/plain": [
              "+-------------------------------------+------------------+-----------------+"
            ]
          },
          "metadata": {
            "tags": []
          }
        },
        {
          "output_type": "display_data",
          "data": {
            "text/html": [
              "<pre>Finalizing lookup tables.</pre>"
            ],
            "text/plain": [
              "Finalizing lookup tables."
            ]
          },
          "metadata": {
            "tags": []
          }
        },
        {
          "output_type": "display_data",
          "data": {
            "text/html": [
              "<pre>Generating candidate set for working with new users.</pre>"
            ],
            "text/plain": [
              "Generating candidate set for working with new users."
            ]
          },
          "metadata": {
            "tags": []
          }
        },
        {
          "output_type": "display_data",
          "data": {
            "text/html": [
              "<pre>Finished training in 0.180457s</pre>"
            ],
            "text/plain": [
              "Finished training in 0.180457s"
            ]
          },
          "metadata": {
            "tags": []
          }
        },
        {
          "output_type": "execute_result",
          "data": {
            "text/html": [
              "<div style=\"max-height:1000px;max-width:1500px;overflow:auto;\"><table frame=\"box\" rules=\"cols\">\n",
              "    <tr>\n",
              "        <th style=\"padding-left: 1em; padding-right: 1em; text-align: center\">user_id</th>\n",
              "        <th style=\"padding-left: 1em; padding-right: 1em; text-align: center\">item_id</th>\n",
              "        <th style=\"padding-left: 1em; padding-right: 1em; text-align: center\">score</th>\n",
              "        <th style=\"padding-left: 1em; padding-right: 1em; text-align: center\">rank</th>\n",
              "    </tr>\n",
              "    <tr>\n",
              "        <td style=\"padding-left: 1em; padding-right: 1em; text-align: center; vertical-align: top\">379</td>\n",
              "        <td style=\"padding-left: 1em; padding-right: 1em; text-align: center; vertical-align: top\">204</td>\n",
              "        <td style=\"padding-left: 1em; padding-right: 1em; text-align: center; vertical-align: top\">0.14947468564458136</td>\n",
              "        <td style=\"padding-left: 1em; padding-right: 1em; text-align: center; vertical-align: top\">1</td>\n",
              "    </tr>\n",
              "    <tr>\n",
              "        <td style=\"padding-left: 1em; padding-right: 1em; text-align: center; vertical-align: top\">379</td>\n",
              "        <td style=\"padding-left: 1em; padding-right: 1em; text-align: center; vertical-align: top\">423</td>\n",
              "        <td style=\"padding-left: 1em; padding-right: 1em; text-align: center; vertical-align: top\">0.14095071023398073</td>\n",
              "        <td style=\"padding-left: 1em; padding-right: 1em; text-align: center; vertical-align: top\">2</td>\n",
              "    </tr>\n",
              "    <tr>\n",
              "        <td style=\"padding-left: 1em; padding-right: 1em; text-align: center; vertical-align: top\">379</td>\n",
              "        <td style=\"padding-left: 1em; padding-right: 1em; text-align: center; vertical-align: top\">89</td>\n",
              "        <td style=\"padding-left: 1em; padding-right: 1em; text-align: center; vertical-align: top\">0.12683362725877415</td>\n",
              "        <td style=\"padding-left: 1em; padding-right: 1em; text-align: center; vertical-align: top\">3</td>\n",
              "    </tr>\n",
              "    <tr>\n",
              "        <td style=\"padding-left: 1em; padding-right: 1em; text-align: center; vertical-align: top\">379</td>\n",
              "        <td style=\"padding-left: 1em; padding-right: 1em; text-align: center; vertical-align: top\">82</td>\n",
              "        <td style=\"padding-left: 1em; padding-right: 1em; text-align: center; vertical-align: top\">0.12105320230887755</td>\n",
              "        <td style=\"padding-left: 1em; padding-right: 1em; text-align: center; vertical-align: top\">4</td>\n",
              "    </tr>\n",
              "    <tr>\n",
              "        <td style=\"padding-left: 1em; padding-right: 1em; text-align: center; vertical-align: top\">379</td>\n",
              "        <td style=\"padding-left: 1em; padding-right: 1em; text-align: center; vertical-align: top\">195</td>\n",
              "        <td style=\"padding-left: 1em; padding-right: 1em; text-align: center; vertical-align: top\">0.10577594711832757</td>\n",
              "        <td style=\"padding-left: 1em; padding-right: 1em; text-align: center; vertical-align: top\">5</td>\n",
              "    </tr>\n",
              "    <tr>\n",
              "        <td style=\"padding-left: 1em; padding-right: 1em; text-align: center; vertical-align: top\">379</td>\n",
              "        <td style=\"padding-left: 1em; padding-right: 1em; text-align: center; vertical-align: top\">180</td>\n",
              "        <td style=\"padding-left: 1em; padding-right: 1em; text-align: center; vertical-align: top\">0.09867499910131858</td>\n",
              "        <td style=\"padding-left: 1em; padding-right: 1em; text-align: center; vertical-align: top\">6</td>\n",
              "    </tr>\n",
              "    <tr>\n",
              "        <td style=\"padding-left: 1em; padding-right: 1em; text-align: center; vertical-align: top\">379</td>\n",
              "        <td style=\"padding-left: 1em; padding-right: 1em; text-align: center; vertical-align: top\">96</td>\n",
              "        <td style=\"padding-left: 1em; padding-right: 1em; text-align: center; vertical-align: top\">0.09864344344521961</td>\n",
              "        <td style=\"padding-left: 1em; padding-right: 1em; text-align: center; vertical-align: top\">7</td>\n",
              "    </tr>\n",
              "    <tr>\n",
              "        <td style=\"padding-left: 1em; padding-right: 1em; text-align: center; vertical-align: top\">379</td>\n",
              "        <td style=\"padding-left: 1em; padding-right: 1em; text-align: center; vertical-align: top\">265</td>\n",
              "        <td style=\"padding-left: 1em; padding-right: 1em; text-align: center; vertical-align: top\">0.0951758757994993</td>\n",
              "        <td style=\"padding-left: 1em; padding-right: 1em; text-align: center; vertical-align: top\">8</td>\n",
              "    </tr>\n",
              "    <tr>\n",
              "        <td style=\"padding-left: 1em; padding-right: 1em; text-align: center; vertical-align: top\">379</td>\n",
              "        <td style=\"padding-left: 1em; padding-right: 1em; text-align: center; vertical-align: top\">215</td>\n",
              "        <td style=\"padding-left: 1em; padding-right: 1em; text-align: center; vertical-align: top\">0.09018456196262889</td>\n",
              "        <td style=\"padding-left: 1em; padding-right: 1em; text-align: center; vertical-align: top\">9</td>\n",
              "    </tr>\n",
              "    <tr>\n",
              "        <td style=\"padding-left: 1em; padding-right: 1em; text-align: center; vertical-align: top\">379</td>\n",
              "        <td style=\"padding-left: 1em; padding-right: 1em; text-align: center; vertical-align: top\">4</td>\n",
              "        <td style=\"padding-left: 1em; padding-right: 1em; text-align: center; vertical-align: top\">0.08968762716237647</td>\n",
              "        <td style=\"padding-left: 1em; padding-right: 1em; text-align: center; vertical-align: top\">10</td>\n",
              "    </tr>\n",
              "</table>\n",
              "[9430 rows x 4 columns]<br/>Note: Only the head of the SFrame is printed.<br/>You can use print_rows(num_rows=m, num_columns=n) to print more rows and columns.\n",
              "</div>"
            ],
            "text/plain": [
              "Columns:\n",
              "\tuser_id\tint\n",
              "\titem_id\tint\n",
              "\tscore\tfloat\n",
              "\trank\tint\n",
              "\n",
              "Rows: 9430\n",
              "\n",
              "Data:\n",
              "+---------+---------+---------------------+------+\n",
              "| user_id | item_id |        score        | rank |\n",
              "+---------+---------+---------------------+------+\n",
              "|   379   |   204   | 0.14947468564458136 |  1   |\n",
              "|   379   |   423   | 0.14095071023398073 |  2   |\n",
              "|   379   |    89   | 0.12683362725877415 |  3   |\n",
              "|   379   |    82   | 0.12105320230887755 |  4   |\n",
              "|   379   |   195   | 0.10577594711832757 |  5   |\n",
              "|   379   |   180   | 0.09867499910131858 |  6   |\n",
              "|   379   |    96   | 0.09864344344521961 |  7   |\n",
              "|   379   |   265   |  0.0951758757994993 |  8   |\n",
              "|   379   |   215   | 0.09018456196262889 |  9   |\n",
              "|   379   |    4    | 0.08968762716237647 |  10  |\n",
              "+---------+---------+---------------------+------+\n",
              "[9430 rows x 4 columns]\n",
              "Note: Only the head of the SFrame is printed.\n",
              "You can use print_rows(num_rows=m, num_columns=n) to print more rows and columns."
            ]
          },
          "metadata": {
            "tags": []
          },
          "execution_count": 60
        }
      ]
    },
    {
      "cell_type": "code",
      "metadata": {
        "colab": {
          "base_uri": "https://localhost:8080/"
        },
        "id": "Xpw8ERDiUci9",
        "outputId": "871c1161-1b7f-4de5-f5e3-0747c93091b4"
      },
      "source": [
        "m3.evaluate_precision_recall(tc.SFrame(test))"
      ],
      "execution_count": 76,
      "outputs": [
        {
          "output_type": "execute_result",
          "data": {
            "text/plain": [
              "{'precision_recall_by_user': Columns:\n",
              " \tuser_id\tint\n",
              " \tcutoff\tint\n",
              " \tprecision\tfloat\n",
              " \trecall\tfloat\n",
              " \tcount\tint\n",
              " \n",
              " Rows: 16974\n",
              " \n",
              " Data:\n",
              " +---------+--------+--------------------+---------------------+-------+\n",
              " | user_id | cutoff |     precision      |        recall       | count |\n",
              " +---------+--------+--------------------+---------------------+-------+\n",
              " |   379   |   1    |        1.0         | 0.01694915254237288 |   59  |\n",
              " |   379   |   2    |        0.5         | 0.01694915254237288 |   59  |\n",
              " |   379   |   3    | 0.6666666666666666 | 0.03389830508474576 |   59  |\n",
              " |   379   |   4    |        0.75        | 0.05084745762711865 |   59  |\n",
              " |   379   |   5    |        0.8         | 0.06779661016949153 |   59  |\n",
              " |   379   |   6    | 0.6666666666666666 | 0.06779661016949153 |   59  |\n",
              " |   379   |   7    | 0.7142857142857143 |  0.0847457627118644 |   59  |\n",
              " |   379   |   8    |        0.75        |  0.1016949152542373 |   59  |\n",
              " |   379   |   9    | 0.6666666666666666 |  0.1016949152542373 |   59  |\n",
              " |   379   |   10   |        0.7         | 0.11864406779661017 |   59  |\n",
              " +---------+--------+--------------------+---------------------+-------+\n",
              " [16974 rows x 5 columns]\n",
              " Note: Only the head of the SFrame is printed.\n",
              " You can use print_rows(num_rows=m, num_columns=n) to print more rows and columns.,\n",
              " 'precision_recall_overall': Columns:\n",
              " \tcutoff\tint\n",
              " \tprecision\tfloat\n",
              " \trecall\tfloat\n",
              " \n",
              " Rows: 18\n",
              " \n",
              " Data:\n",
              " +--------+---------------------+----------------------+\n",
              " | cutoff |      precision      |        recall        |\n",
              " +--------+---------------------+----------------------+\n",
              " |   1    |  0.4602332979851538 | 0.024035263516503015 |\n",
              " |   2    |   0.42152704135737  | 0.043015213510665146 |\n",
              " |   3    |  0.4079179922234005 | 0.06230271771815506  |\n",
              " |   4    | 0.39103923647932126 | 0.07675395460958014  |\n",
              " |   5    |  0.3753976670201481 | 0.08973869723595106  |\n",
              " |   6    | 0.36532343584305405 | 0.10513878370476808  |\n",
              " |   7    |  0.3594909862142098 | 0.11817184823437459  |\n",
              " |   8    | 0.35392364793213155 |  0.1314956456171788  |\n",
              " |   9    | 0.34570519618239665 | 0.14297353978097616  |\n",
              " |   10   | 0.34040296924708374 |  0.1547588812994362  |\n",
              " +--------+---------------------+----------------------+\n",
              " [18 rows x 3 columns]\n",
              " Note: Only the head of the SFrame is printed.\n",
              " You can use print_rows(num_rows=m, num_columns=n) to print more rows and columns.}"
            ]
          },
          "metadata": {
            "tags": []
          },
          "execution_count": 76
        }
      ]
    },
    {
      "cell_type": "code",
      "metadata": {
        "colab": {
          "base_uri": "https://localhost:8080/",
          "height": 284
        },
        "id": "c7Z6L2mZWqOv",
        "outputId": "ba4788ef-ed4e-4233-b9d6-6a99c46bdaeb"
      },
      "source": [
        "m3.recommend()"
      ],
      "execution_count": 72,
      "outputs": [
        {
          "output_type": "execute_result",
          "data": {
            "text/html": [
              "<div style=\"max-height:1000px;max-width:1500px;overflow:auto;\"><table frame=\"box\" rules=\"cols\">\n",
              "    <tr>\n",
              "        <th style=\"padding-left: 1em; padding-right: 1em; text-align: center\">user_id</th>\n",
              "        <th style=\"padding-left: 1em; padding-right: 1em; text-align: center\">item_id</th>\n",
              "        <th style=\"padding-left: 1em; padding-right: 1em; text-align: center\">score</th>\n",
              "        <th style=\"padding-left: 1em; padding-right: 1em; text-align: center\">rank</th>\n",
              "    </tr>\n",
              "    <tr>\n",
              "        <td style=\"padding-left: 1em; padding-right: 1em; text-align: center; vertical-align: top\">379</td>\n",
              "        <td style=\"padding-left: 1em; padding-right: 1em; text-align: center; vertical-align: top\">204</td>\n",
              "        <td style=\"padding-left: 1em; padding-right: 1em; text-align: center; vertical-align: top\">0.14947468564458136</td>\n",
              "        <td style=\"padding-left: 1em; padding-right: 1em; text-align: center; vertical-align: top\">1</td>\n",
              "    </tr>\n",
              "    <tr>\n",
              "        <td style=\"padding-left: 1em; padding-right: 1em; text-align: center; vertical-align: top\">379</td>\n",
              "        <td style=\"padding-left: 1em; padding-right: 1em; text-align: center; vertical-align: top\">423</td>\n",
              "        <td style=\"padding-left: 1em; padding-right: 1em; text-align: center; vertical-align: top\">0.14095071023398073</td>\n",
              "        <td style=\"padding-left: 1em; padding-right: 1em; text-align: center; vertical-align: top\">2</td>\n",
              "    </tr>\n",
              "    <tr>\n",
              "        <td style=\"padding-left: 1em; padding-right: 1em; text-align: center; vertical-align: top\">379</td>\n",
              "        <td style=\"padding-left: 1em; padding-right: 1em; text-align: center; vertical-align: top\">89</td>\n",
              "        <td style=\"padding-left: 1em; padding-right: 1em; text-align: center; vertical-align: top\">0.12683362725877415</td>\n",
              "        <td style=\"padding-left: 1em; padding-right: 1em; text-align: center; vertical-align: top\">3</td>\n",
              "    </tr>\n",
              "    <tr>\n",
              "        <td style=\"padding-left: 1em; padding-right: 1em; text-align: center; vertical-align: top\">379</td>\n",
              "        <td style=\"padding-left: 1em; padding-right: 1em; text-align: center; vertical-align: top\">82</td>\n",
              "        <td style=\"padding-left: 1em; padding-right: 1em; text-align: center; vertical-align: top\">0.12105320230887755</td>\n",
              "        <td style=\"padding-left: 1em; padding-right: 1em; text-align: center; vertical-align: top\">4</td>\n",
              "    </tr>\n",
              "    <tr>\n",
              "        <td style=\"padding-left: 1em; padding-right: 1em; text-align: center; vertical-align: top\">379</td>\n",
              "        <td style=\"padding-left: 1em; padding-right: 1em; text-align: center; vertical-align: top\">195</td>\n",
              "        <td style=\"padding-left: 1em; padding-right: 1em; text-align: center; vertical-align: top\">0.10577594711832757</td>\n",
              "        <td style=\"padding-left: 1em; padding-right: 1em; text-align: center; vertical-align: top\">5</td>\n",
              "    </tr>\n",
              "    <tr>\n",
              "        <td style=\"padding-left: 1em; padding-right: 1em; text-align: center; vertical-align: top\">379</td>\n",
              "        <td style=\"padding-left: 1em; padding-right: 1em; text-align: center; vertical-align: top\">180</td>\n",
              "        <td style=\"padding-left: 1em; padding-right: 1em; text-align: center; vertical-align: top\">0.09867499910131858</td>\n",
              "        <td style=\"padding-left: 1em; padding-right: 1em; text-align: center; vertical-align: top\">6</td>\n",
              "    </tr>\n",
              "    <tr>\n",
              "        <td style=\"padding-left: 1em; padding-right: 1em; text-align: center; vertical-align: top\">379</td>\n",
              "        <td style=\"padding-left: 1em; padding-right: 1em; text-align: center; vertical-align: top\">96</td>\n",
              "        <td style=\"padding-left: 1em; padding-right: 1em; text-align: center; vertical-align: top\">0.09864344344521961</td>\n",
              "        <td style=\"padding-left: 1em; padding-right: 1em; text-align: center; vertical-align: top\">7</td>\n",
              "    </tr>\n",
              "    <tr>\n",
              "        <td style=\"padding-left: 1em; padding-right: 1em; text-align: center; vertical-align: top\">379</td>\n",
              "        <td style=\"padding-left: 1em; padding-right: 1em; text-align: center; vertical-align: top\">265</td>\n",
              "        <td style=\"padding-left: 1em; padding-right: 1em; text-align: center; vertical-align: top\">0.0951758757994993</td>\n",
              "        <td style=\"padding-left: 1em; padding-right: 1em; text-align: center; vertical-align: top\">8</td>\n",
              "    </tr>\n",
              "    <tr>\n",
              "        <td style=\"padding-left: 1em; padding-right: 1em; text-align: center; vertical-align: top\">379</td>\n",
              "        <td style=\"padding-left: 1em; padding-right: 1em; text-align: center; vertical-align: top\">215</td>\n",
              "        <td style=\"padding-left: 1em; padding-right: 1em; text-align: center; vertical-align: top\">0.09018456196262889</td>\n",
              "        <td style=\"padding-left: 1em; padding-right: 1em; text-align: center; vertical-align: top\">9</td>\n",
              "    </tr>\n",
              "    <tr>\n",
              "        <td style=\"padding-left: 1em; padding-right: 1em; text-align: center; vertical-align: top\">379</td>\n",
              "        <td style=\"padding-left: 1em; padding-right: 1em; text-align: center; vertical-align: top\">4</td>\n",
              "        <td style=\"padding-left: 1em; padding-right: 1em; text-align: center; vertical-align: top\">0.08968762716237647</td>\n",
              "        <td style=\"padding-left: 1em; padding-right: 1em; text-align: center; vertical-align: top\">10</td>\n",
              "    </tr>\n",
              "</table>\n",
              "[9430 rows x 4 columns]<br/>Note: Only the head of the SFrame is printed.<br/>You can use print_rows(num_rows=m, num_columns=n) to print more rows and columns.\n",
              "</div>"
            ],
            "text/plain": [
              "Columns:\n",
              "\tuser_id\tint\n",
              "\titem_id\tint\n",
              "\tscore\tfloat\n",
              "\trank\tint\n",
              "\n",
              "Rows: 9430\n",
              "\n",
              "Data:\n",
              "+---------+---------+---------------------+------+\n",
              "| user_id | item_id |        score        | rank |\n",
              "+---------+---------+---------------------+------+\n",
              "|   379   |   204   | 0.14947468564458136 |  1   |\n",
              "|   379   |   423   | 0.14095071023398073 |  2   |\n",
              "|   379   |    89   | 0.12683362725877415 |  3   |\n",
              "|   379   |    82   | 0.12105320230887755 |  4   |\n",
              "|   379   |   195   | 0.10577594711832757 |  5   |\n",
              "|   379   |   180   | 0.09867499910131858 |  6   |\n",
              "|   379   |    96   | 0.09864344344521961 |  7   |\n",
              "|   379   |   265   |  0.0951758757994993 |  8   |\n",
              "|   379   |   215   | 0.09018456196262889 |  9   |\n",
              "|   379   |    4    | 0.08968762716237647 |  10  |\n",
              "+---------+---------+---------------------+------+\n",
              "[9430 rows x 4 columns]\n",
              "Note: Only the head of the SFrame is printed.\n",
              "You can use print_rows(num_rows=m, num_columns=n) to print more rows and columns."
            ]
          },
          "metadata": {
            "tags": []
          },
          "execution_count": 72
        }
      ]
    },
    {
      "cell_type": "code",
      "metadata": {
        "colab": {
          "base_uri": "https://localhost:8080/",
          "height": 284
        },
        "id": "CHqd8YQ1W8tX",
        "outputId": "3dd4342c-da5e-45f8-e34f-99b731371689"
      },
      "source": [
        "m2.recommend(k=20)"
      ],
      "execution_count": 69,
      "outputs": [
        {
          "output_type": "execute_result",
          "data": {
            "text/html": [
              "<div style=\"max-height:1000px;max-width:1500px;overflow:auto;\"><table frame=\"box\" rules=\"cols\">\n",
              "    <tr>\n",
              "        <th style=\"padding-left: 1em; padding-right: 1em; text-align: center\">user_id</th>\n",
              "        <th style=\"padding-left: 1em; padding-right: 1em; text-align: center\">item_id</th>\n",
              "        <th style=\"padding-left: 1em; padding-right: 1em; text-align: center\">score</th>\n",
              "        <th style=\"padding-left: 1em; padding-right: 1em; text-align: center\">rank</th>\n",
              "    </tr>\n",
              "    <tr>\n",
              "        <td style=\"padding-left: 1em; padding-right: 1em; text-align: center; vertical-align: top\">379</td>\n",
              "        <td style=\"padding-left: 1em; padding-right: 1em; text-align: center; vertical-align: top\">474</td>\n",
              "        <td style=\"padding-left: 1em; padding-right: 1em; text-align: center; vertical-align: top\">5.762578835594356</td>\n",
              "        <td style=\"padding-left: 1em; padding-right: 1em; text-align: center; vertical-align: top\">1</td>\n",
              "    </tr>\n",
              "    <tr>\n",
              "        <td style=\"padding-left: 1em; padding-right: 1em; text-align: center; vertical-align: top\">379</td>\n",
              "        <td style=\"padding-left: 1em; padding-right: 1em; text-align: center; vertical-align: top\">632</td>\n",
              "        <td style=\"padding-left: 1em; padding-right: 1em; text-align: center; vertical-align: top\">5.674460997688472</td>\n",
              "        <td style=\"padding-left: 1em; padding-right: 1em; text-align: center; vertical-align: top\">2</td>\n",
              "    </tr>\n",
              "    <tr>\n",
              "        <td style=\"padding-left: 1em; padding-right: 1em; text-align: center; vertical-align: top\">379</td>\n",
              "        <td style=\"padding-left: 1em; padding-right: 1em; text-align: center; vertical-align: top\">315</td>\n",
              "        <td style=\"padding-left: 1em; padding-right: 1em; text-align: center; vertical-align: top\">5.5629881526109575</td>\n",
              "        <td style=\"padding-left: 1em; padding-right: 1em; text-align: center; vertical-align: top\">3</td>\n",
              "    </tr>\n",
              "    <tr>\n",
              "        <td style=\"padding-left: 1em; padding-right: 1em; text-align: center; vertical-align: top\">379</td>\n",
              "        <td style=\"padding-left: 1em; padding-right: 1em; text-align: center; vertical-align: top\">193</td>\n",
              "        <td style=\"padding-left: 1em; padding-right: 1em; text-align: center; vertical-align: top\">5.5050870085832475</td>\n",
              "        <td style=\"padding-left: 1em; padding-right: 1em; text-align: center; vertical-align: top\">4</td>\n",
              "    </tr>\n",
              "    <tr>\n",
              "        <td style=\"padding-left: 1em; padding-right: 1em; text-align: center; vertical-align: top\">379</td>\n",
              "        <td style=\"padding-left: 1em; padding-right: 1em; text-align: center; vertical-align: top\">313</td>\n",
              "        <td style=\"padding-left: 1em; padding-right: 1em; text-align: center; vertical-align: top\">5.451219430076778</td>\n",
              "        <td style=\"padding-left: 1em; padding-right: 1em; text-align: center; vertical-align: top\">5</td>\n",
              "    </tr>\n",
              "    <tr>\n",
              "        <td style=\"padding-left: 1em; padding-right: 1em; text-align: center; vertical-align: top\">379</td>\n",
              "        <td style=\"padding-left: 1em; padding-right: 1em; text-align: center; vertical-align: top\">14</td>\n",
              "        <td style=\"padding-left: 1em; padding-right: 1em; text-align: center; vertical-align: top\">5.417641034233272</td>\n",
              "        <td style=\"padding-left: 1em; padding-right: 1em; text-align: center; vertical-align: top\">6</td>\n",
              "    </tr>\n",
              "    <tr>\n",
              "        <td style=\"padding-left: 1em; padding-right: 1em; text-align: center; vertical-align: top\">379</td>\n",
              "        <td style=\"padding-left: 1em; padding-right: 1em; text-align: center; vertical-align: top\">887</td>\n",
              "        <td style=\"padding-left: 1em; padding-right: 1em; text-align: center; vertical-align: top\">5.340629568206966</td>\n",
              "        <td style=\"padding-left: 1em; padding-right: 1em; text-align: center; vertical-align: top\">7</td>\n",
              "    </tr>\n",
              "    <tr>\n",
              "        <td style=\"padding-left: 1em; padding-right: 1em; text-align: center; vertical-align: top\">379</td>\n",
              "        <td style=\"padding-left: 1em; padding-right: 1em; text-align: center; vertical-align: top\">958</td>\n",
              "        <td style=\"padding-left: 1em; padding-right: 1em; text-align: center; vertical-align: top\">5.333243718254268</td>\n",
              "        <td style=\"padding-left: 1em; padding-right: 1em; text-align: center; vertical-align: top\">8</td>\n",
              "    </tr>\n",
              "    <tr>\n",
              "        <td style=\"padding-left: 1em; padding-right: 1em; text-align: center; vertical-align: top\">379</td>\n",
              "        <td style=\"padding-left: 1em; padding-right: 1em; text-align: center; vertical-align: top\">591</td>\n",
              "        <td style=\"padding-left: 1em; padding-right: 1em; text-align: center; vertical-align: top\">5.3246718550798295</td>\n",
              "        <td style=\"padding-left: 1em; padding-right: 1em; text-align: center; vertical-align: top\">9</td>\n",
              "    </tr>\n",
              "    <tr>\n",
              "        <td style=\"padding-left: 1em; padding-right: 1em; text-align: center; vertical-align: top\">379</td>\n",
              "        <td style=\"padding-left: 1em; padding-right: 1em; text-align: center; vertical-align: top\">258</td>\n",
              "        <td style=\"padding-left: 1em; padding-right: 1em; text-align: center; vertical-align: top\">5.188235750305354</td>\n",
              "        <td style=\"padding-left: 1em; padding-right: 1em; text-align: center; vertical-align: top\">10</td>\n",
              "    </tr>\n",
              "</table>\n",
              "[18860 rows x 4 columns]<br/>Note: Only the head of the SFrame is printed.<br/>You can use print_rows(num_rows=m, num_columns=n) to print more rows and columns.\n",
              "</div>"
            ],
            "text/plain": [
              "Columns:\n",
              "\tuser_id\tint\n",
              "\titem_id\tint\n",
              "\tscore\tfloat\n",
              "\trank\tint\n",
              "\n",
              "Rows: 18860\n",
              "\n",
              "Data:\n",
              "+---------+---------+--------------------+------+\n",
              "| user_id | item_id |       score        | rank |\n",
              "+---------+---------+--------------------+------+\n",
              "|   379   |   474   | 5.762578835594356  |  1   |\n",
              "|   379   |   632   | 5.674460997688472  |  2   |\n",
              "|   379   |   315   | 5.5629881526109575 |  3   |\n",
              "|   379   |   193   | 5.5050870085832475 |  4   |\n",
              "|   379   |   313   | 5.451219430076778  |  5   |\n",
              "|   379   |    14   | 5.417641034233272  |  6   |\n",
              "|   379   |   887   | 5.340629568206966  |  7   |\n",
              "|   379   |   958   | 5.333243718254268  |  8   |\n",
              "|   379   |   591   | 5.3246718550798295 |  9   |\n",
              "|   379   |   258   | 5.188235750305354  |  10  |\n",
              "+---------+---------+--------------------+------+\n",
              "[18860 rows x 4 columns]\n",
              "Note: Only the head of the SFrame is printed.\n",
              "You can use print_rows(num_rows=m, num_columns=n) to print more rows and columns."
            ]
          },
          "metadata": {
            "tags": []
          },
          "execution_count": 69
        }
      ]
    },
    {
      "cell_type": "code",
      "metadata": {
        "colab": {
          "base_uri": "https://localhost:8080/",
          "height": 284
        },
        "id": "6Ob7pViwXPyu",
        "outputId": "28d3dfaf-0e51-4d40-ff8c-3675234dc200"
      },
      "source": [
        "m1.recommend()"
      ],
      "execution_count": 73,
      "outputs": [
        {
          "output_type": "execute_result",
          "data": {
            "text/html": [
              "<div style=\"max-height:1000px;max-width:1500px;overflow:auto;\"><table frame=\"box\" rules=\"cols\">\n",
              "    <tr>\n",
              "        <th style=\"padding-left: 1em; padding-right: 1em; text-align: center\">user_id</th>\n",
              "        <th style=\"padding-left: 1em; padding-right: 1em; text-align: center\">item_id</th>\n",
              "        <th style=\"padding-left: 1em; padding-right: 1em; text-align: center\">score</th>\n",
              "        <th style=\"padding-left: 1em; padding-right: 1em; text-align: center\">rank</th>\n",
              "    </tr>\n",
              "    <tr>\n",
              "        <td style=\"padding-left: 1em; padding-right: 1em; text-align: center; vertical-align: top\">379</td>\n",
              "        <td style=\"padding-left: 1em; padding-right: 1em; text-align: center; vertical-align: top\">318</td>\n",
              "        <td style=\"padding-left: 1em; padding-right: 1em; text-align: center; vertical-align: top\">5.616670304693486</td>\n",
              "        <td style=\"padding-left: 1em; padding-right: 1em; text-align: center; vertical-align: top\">1</td>\n",
              "    </tr>\n",
              "    <tr>\n",
              "        <td style=\"padding-left: 1em; padding-right: 1em; text-align: center; vertical-align: top\">379</td>\n",
              "        <td style=\"padding-left: 1em; padding-right: 1em; text-align: center; vertical-align: top\">483</td>\n",
              "        <td style=\"padding-left: 1em; padding-right: 1em; text-align: center; vertical-align: top\">5.553944522299076</td>\n",
              "        <td style=\"padding-left: 1em; padding-right: 1em; text-align: center; vertical-align: top\">2</td>\n",
              "    </tr>\n",
              "    <tr>\n",
              "        <td style=\"padding-left: 1em; padding-right: 1em; text-align: center; vertical-align: top\">379</td>\n",
              "        <td style=\"padding-left: 1em; padding-right: 1em; text-align: center; vertical-align: top\">209</td>\n",
              "        <td style=\"padding-left: 1em; padding-right: 1em; text-align: center; vertical-align: top\">5.113952809728886</td>\n",
              "        <td style=\"padding-left: 1em; padding-right: 1em; text-align: center; vertical-align: top\">3</td>\n",
              "    </tr>\n",
              "    <tr>\n",
              "        <td style=\"padding-left: 1em; padding-right: 1em; text-align: center; vertical-align: top\">379</td>\n",
              "        <td style=\"padding-left: 1em; padding-right: 1em; text-align: center; vertical-align: top\">258</td>\n",
              "        <td style=\"padding-left: 1em; padding-right: 1em; text-align: center; vertical-align: top\">5.002330953039433</td>\n",
              "        <td style=\"padding-left: 1em; padding-right: 1em; text-align: center; vertical-align: top\">4</td>\n",
              "    </tr>\n",
              "    <tr>\n",
              "        <td style=\"padding-left: 1em; padding-right: 1em; text-align: center; vertical-align: top\">379</td>\n",
              "        <td style=\"padding-left: 1em; padding-right: 1em; text-align: center; vertical-align: top\">132</td>\n",
              "        <td style=\"padding-left: 1em; padding-right: 1em; text-align: center; vertical-align: top\">4.972401315130497</td>\n",
              "        <td style=\"padding-left: 1em; padding-right: 1em; text-align: center; vertical-align: top\">5</td>\n",
              "    </tr>\n",
              "    <tr>\n",
              "        <td style=\"padding-left: 1em; padding-right: 1em; text-align: center; vertical-align: top\">379</td>\n",
              "        <td style=\"padding-left: 1em; padding-right: 1em; text-align: center; vertical-align: top\">484</td>\n",
              "        <td style=\"padding-left: 1em; padding-right: 1em; text-align: center; vertical-align: top\">4.965424233831669</td>\n",
              "        <td style=\"padding-left: 1em; padding-right: 1em; text-align: center; vertical-align: top\">6</td>\n",
              "    </tr>\n",
              "    <tr>\n",
              "        <td style=\"padding-left: 1em; padding-right: 1em; text-align: center; vertical-align: top\">379</td>\n",
              "        <td style=\"padding-left: 1em; padding-right: 1em; text-align: center; vertical-align: top\">8</td>\n",
              "        <td style=\"padding-left: 1em; padding-right: 1em; text-align: center; vertical-align: top\">4.943450147070195</td>\n",
              "        <td style=\"padding-left: 1em; padding-right: 1em; text-align: center; vertical-align: top\">7</td>\n",
              "    </tr>\n",
              "    <tr>\n",
              "        <td style=\"padding-left: 1em; padding-right: 1em; text-align: center; vertical-align: top\">379</td>\n",
              "        <td style=\"padding-left: 1em; padding-right: 1em; text-align: center; vertical-align: top\">135</td>\n",
              "        <td style=\"padding-left: 1em; padding-right: 1em; text-align: center; vertical-align: top\">4.863627129949833</td>\n",
              "        <td style=\"padding-left: 1em; padding-right: 1em; text-align: center; vertical-align: top\">8</td>\n",
              "    </tr>\n",
              "    <tr>\n",
              "        <td style=\"padding-left: 1em; padding-right: 1em; text-align: center; vertical-align: top\">379</td>\n",
              "        <td style=\"padding-left: 1em; padding-right: 1em; text-align: center; vertical-align: top\">428</td>\n",
              "        <td style=\"padding-left: 1em; padding-right: 1em; text-align: center; vertical-align: top\">4.833234959997441</td>\n",
              "        <td style=\"padding-left: 1em; padding-right: 1em; text-align: center; vertical-align: top\">9</td>\n",
              "    </tr>\n",
              "    <tr>\n",
              "        <td style=\"padding-left: 1em; padding-right: 1em; text-align: center; vertical-align: top\">379</td>\n",
              "        <td style=\"padding-left: 1em; padding-right: 1em; text-align: center; vertical-align: top\">423</td>\n",
              "        <td style=\"padding-left: 1em; padding-right: 1em; text-align: center; vertical-align: top\">4.808803731359745</td>\n",
              "        <td style=\"padding-left: 1em; padding-right: 1em; text-align: center; vertical-align: top\">10</td>\n",
              "    </tr>\n",
              "</table>\n",
              "[9430 rows x 4 columns]<br/>Note: Only the head of the SFrame is printed.<br/>You can use print_rows(num_rows=m, num_columns=n) to print more rows and columns.\n",
              "</div>"
            ],
            "text/plain": [
              "Columns:\n",
              "\tuser_id\tint\n",
              "\titem_id\tint\n",
              "\tscore\tfloat\n",
              "\trank\tint\n",
              "\n",
              "Rows: 9430\n",
              "\n",
              "Data:\n",
              "+---------+---------+-------------------+------+\n",
              "| user_id | item_id |       score       | rank |\n",
              "+---------+---------+-------------------+------+\n",
              "|   379   |   318   | 5.616670304693486 |  1   |\n",
              "|   379   |   483   | 5.553944522299076 |  2   |\n",
              "|   379   |   209   | 5.113952809728886 |  3   |\n",
              "|   379   |   258   | 5.002330953039433 |  4   |\n",
              "|   379   |   132   | 4.972401315130497 |  5   |\n",
              "|   379   |   484   | 4.965424233831669 |  6   |\n",
              "|   379   |    8    | 4.943450147070195 |  7   |\n",
              "|   379   |   135   | 4.863627129949833 |  8   |\n",
              "|   379   |   428   | 4.833234959997441 |  9   |\n",
              "|   379   |   423   | 4.808803731359745 |  10  |\n",
              "+---------+---------+-------------------+------+\n",
              "[9430 rows x 4 columns]\n",
              "Note: Only the head of the SFrame is printed.\n",
              "You can use print_rows(num_rows=m, num_columns=n) to print more rows and columns."
            ]
          },
          "metadata": {
            "tags": []
          },
          "execution_count": 73
        }
      ]
    },
    {
      "cell_type": "code",
      "metadata": {
        "colab": {
          "base_uri": "https://localhost:8080/"
        },
        "id": "aLkKPshZX7e9",
        "outputId": "a9b2a966-041d-4346-b84a-ffe16a1e8446"
      },
      "source": [
        "m3.predict(tc.SFrame(test))"
      ],
      "execution_count": 77,
      "outputs": [
        {
          "output_type": "execute_result",
          "data": {
            "text/plain": [
              "dtype: float\n",
              "Rows: 30000\n",
              "[0.0046432683790536755, 0.0034673959016799927, 0.00345308662847031, 0.0, 0.000928708700218586, 0.06983070467647753, 0.01925428460041682, 0.006899387696210076, 0.05725468507665672, 0.0, 0.009782874813446632, 0.08189367466285581, 0.005272649043847707, 0.12186387822597841, 0.0025844647334172174, 0.004587375803997642, 0.011295929551124573, 0.010508904585967193, 0.05221099024865686, 0.022875096510957788, 0.014145980278650919, 0.04228697375100874, 0.05907440558075905, 0.00039361218209208745, 0.044645242201976285, 0.02049258113962359, 0.0784767213141083, 0.08374872780763186, 0.015004731927599225, 0.002104619444718007, 0.10102045617691457, 0.010033089627501785, 0.10946471304506869, 0.009625174150876473, 0.007931087931541547, 0.0, 0.004517731100025743, 0.04697696419729703, 0.012076520652913335, 0.012251070477147517, 0.03310525417327881, 0.05801305384703086, 0.03252031691640401, 0.006928899884223938, 0.03380777997275194, 0.009798932366254853, 0.014631660138407061, 0.08341243133900013, 0.007456660533266445, 0.008362099979863022, 0.004104307433902817, 0.02920645000278086, 0.10190480947494507, 0.028721060774741916, 0.006476798478294821, 0.0303196085023356, 0.12225716561079025, 0.004672689097268241, 0.0034261959614139974, 0.00336113174756368, 0.07485687575842205, 0.0313034454981486, 0.01485011875629425, 0.0011671334505081177, 0.02344552616574871, 0.03438837167828582, 0.19750278399271123, 0.019015325440300837, 0.010061665418300223, 0.01863015294075012, 0.13541662459279977, 0.005104065982535416, 0.001400901244418456, 0.003848994718230326, 0.10206953353352016, 0.005291006394795009, 0.018701649629152738, 0.0, 0.0037348270416259766, 0.01367577176163162, 0.04448322057723999, 0.10106455955816351, 0.006347992237965772, 0.10130208567397235, 0.09474166026755945, 0.02730282147725423, 0.08393613617498796, 0.018308784057891447, 0.0017524809487121926, 0.0346521720474149, 0.0, 0.02012626217444416, 0.07378646731376648, 0.006008143553476847, 0.016707547401127062, 0.005517482757568359, 0.011301411696129445, 0.003935589698644785, 0.001312223585640512, 0.003354029933901599, ... ]"
            ]
          },
          "metadata": {
            "tags": []
          },
          "execution_count": 77
        }
      ]
    },
    {
      "cell_type": "code",
      "metadata": {
        "colab": {
          "base_uri": "https://localhost:8080/"
        },
        "id": "sJGkPLUCYPMK",
        "outputId": "19acd0d1-1f98-4ea2-9472-35290d32225a"
      },
      "source": [
        "m3.evaluate_rmse(tc.SFrame(test), target=\"rating\")"
      ],
      "execution_count": 79,
      "outputs": [
        {
          "output_type": "execute_result",
          "data": {
            "text/plain": [
              "{'rmse_by_item': Columns:\n",
              " \titem_id\tint\n",
              " \trmse\tfloat\n",
              " \tcount\tint\n",
              " \n",
              " Rows: 1498\n",
              " \n",
              " Data:\n",
              " +---------+--------------------+-------+\n",
              " | item_id |        rmse        | count |\n",
              " +---------+--------------------+-------+\n",
              " |   118   | 3.516044511900464  |   89  |\n",
              " |   660   | 3.585963631644951  |   49  |\n",
              " |   1379  | 2.5124162273264536 |   3   |\n",
              " |   699   |  4.01359094154957  |   38  |\n",
              " |   567   |  4.02298920237411  |   4   |\n",
              " |   773   | 2.9488566994202086 |   7   |\n",
              " |   1029  | 1.7307796156112423 |   4   |\n",
              " |   1504  |        3.0         |   1   |\n",
              " |   435   | 3.9691643672059076 |   64  |\n",
              " |   1289  | 2.4997686969884256 |   4   |\n",
              " +---------+--------------------+-------+\n",
              " [1498 rows x 3 columns]\n",
              " Note: Only the head of the SFrame is printed.\n",
              " You can use print_rows(num_rows=m, num_columns=n) to print more rows and columns.,\n",
              " 'rmse_by_user': Columns:\n",
              " \tuser_id\tint\n",
              " \trmse\tfloat\n",
              " \tcount\tint\n",
              " \n",
              " Rows: 943\n",
              " \n",
              " Data:\n",
              " +---------+--------------------+-------+\n",
              " | user_id |        rmse        | count |\n",
              " +---------+--------------------+-------+\n",
              " |   118   | 4.651602682410197  |   18  |\n",
              " |   660   | 2.9174438110952345 |   70  |\n",
              " |   839   | 3.7160791134539823 |   13  |\n",
              " |   699   |  3.2695129707047   |   40  |\n",
              " |   567   | 4.001937538748209  |   52  |\n",
              " |   773   | 3.4954305421707734 |   44  |\n",
              " |   435   | 3.3610139907003393 |  116  |\n",
              " |   554   | 3.755135663836354  |   38  |\n",
              " |   898   | 3.6867601541253476 |   10  |\n",
              " |   840   | 4.087819202451921  |   66  |\n",
              " +---------+--------------------+-------+\n",
              " [943 rows x 3 columns]\n",
              " Note: Only the head of the SFrame is printed.\n",
              " You can use print_rows(num_rows=m, num_columns=n) to print more rows and columns.,\n",
              " 'rmse_overall': 3.6740487676126787}"
            ]
          },
          "metadata": {
            "tags": []
          },
          "execution_count": 79
        }
      ]
    },
    {
      "cell_type": "code",
      "metadata": {
        "colab": {
          "base_uri": "https://localhost:8080/"
        },
        "id": "iQmG91GEY6ZO",
        "outputId": "49fa0a2c-2c76-44d8-8e55-c6a9cc8226df"
      },
      "source": [
        "m2.predict(tc.SFrame(test))\n"
      ],
      "execution_count": 85,
      "outputs": [
        {
          "output_type": "execute_result",
          "data": {
            "text/plain": [
              "dtype: float\n",
              "Rows: 30000\n",
              "[4.010892836260497, 2.3264920542713994, 3.3080971221205586, 2.3135845529612893, 4.780046624946296, 4.66347189794749, 3.073463169741332, 3.5562518368241185, 3.124994752812087, 2.5012852082726353, 3.8838328513082856, 2.9998014102455968, 3.1887782047268742, 3.1588311920639867, 3.111481402884125, 4.018185192602575, 5.215678615379035, 1.7687996457096928, 3.948378307628333, 4.081261362763941, 4.074283255147636, 5.359712017583549, 4.356428874540031, 1.7949623594757909, 3.316753102349937, 4.267834139871299, 4.289978755521476, 4.029596959124207, 1.9117567370411748, 3.659387139486968, 4.758740080403983, 2.951472489046752, 4.378324700402915, 2.1630695740458363, 4.2368113229748605, 3.262016622233092, 3.135273886727988, 5.219506217050254, 2.9383862743851537, 3.418209416675269, 3.266960719483792, 3.5859282145974034, 1.5861529837128514, 4.202645216486305, 3.636662652599513, 4.6908227930542825, 2.5166233311173314, 0.8562922606942052, 3.392361303674876, 2.608532756916135, 3.5383468399521703, 3.090454472112357, 1.5095877180573338, 2.6104465107199544, 4.19859356980294, 4.972252203035056, 4.955567581462562, 4.26856070558995, 1.0151451359269017, 5.274001357960403, 4.389701677369773, 2.210862291860282, 3.603711975621879, 1.8615272919413441, 2.338471127557456, 3.5088251511332387, 3.3947484920498723, 4.617516374098956, 2.9198030660626286, 1.7601227889534825, 4.488250089692771, 3.303257701801955, 4.2207722197052835, 2.283717600512206, 4.311957014608085, 5.148996239411533, 5.41558266978234, 4.156940860557258, 3.1296070831593865, 1.772736353683173, 2.4118972251889104, 3.8444916437146066, 3.1828480492112035, 5.2366669605252145, 4.932022815453708, 3.058141363668143, 3.2381709943291543, 3.559948598849475, 3.641348780947625, 5.277161892386973, 1.7784932384964818, 4.502361846971214, 2.014791672932803, 3.7123291174647206, 3.7438252362188695, 2.958940109121501, 3.8007740507599705, 2.4917546556097263, 3.058452440309226, 1.7630473504540318, ... ]"
            ]
          },
          "metadata": {
            "tags": []
          },
          "execution_count": 85
        }
      ]
    },
    {
      "cell_type": "code",
      "metadata": {
        "colab": {
          "base_uri": "https://localhost:8080/"
        },
        "id": "9viOKbkFabZ9",
        "outputId": "51eecd4d-3dc3-4af9-eb8e-0abc35d76e68"
      },
      "source": [
        "m2.evaluate_precision_recall(tc.SFrame(test))"
      ],
      "execution_count": 86,
      "outputs": [
        {
          "output_type": "execute_result",
          "data": {
            "text/plain": [
              "{'precision_recall_by_user': Columns:\n",
              " \tuser_id\tint\n",
              " \tcutoff\tint\n",
              " \tprecision\tfloat\n",
              " \trecall\tfloat\n",
              " \tcount\tint\n",
              " \n",
              " Rows: 16974\n",
              " \n",
              " Data:\n",
              " +---------+--------+---------------------+---------------------+-------+\n",
              " | user_id | cutoff |      precision      |        recall       | count |\n",
              " +---------+--------+---------------------+---------------------+-------+\n",
              " |   379   |   1    |         0.0         |         0.0         |   59  |\n",
              " |   379   |   2    |         0.0         |         0.0         |   59  |\n",
              " |   379   |   3    |         0.0         |         0.0         |   59  |\n",
              " |   379   |   4    |         0.25        | 0.01694915254237288 |   59  |\n",
              " |   379   |   5    |         0.2         | 0.01694915254237288 |   59  |\n",
              " |   379   |   6    | 0.16666666666666666 | 0.01694915254237288 |   59  |\n",
              " |   379   |   7    | 0.14285714285714285 | 0.01694915254237288 |   59  |\n",
              " |   379   |   8    |        0.125        | 0.01694915254237288 |   59  |\n",
              " |   379   |   9    |  0.1111111111111111 | 0.01694915254237288 |   59  |\n",
              " |   379   |   10   |         0.1         | 0.01694915254237288 |   59  |\n",
              " +---------+--------+---------------------+---------------------+-------+\n",
              " [16974 rows x 5 columns]\n",
              " Note: Only the head of the SFrame is printed.\n",
              " You can use print_rows(num_rows=m, num_columns=n) to print more rows and columns.,\n",
              " 'precision_recall_overall': Columns:\n",
              " \tcutoff\tint\n",
              " \tprecision\tfloat\n",
              " \trecall\tfloat\n",
              " \n",
              " Rows: 18\n",
              " \n",
              " Data:\n",
              " +--------+---------------------+----------------------+\n",
              " | cutoff |      precision      |        recall        |\n",
              " +--------+---------------------+----------------------+\n",
              " |   1    | 0.13785790031813366 | 0.004108964877216075 |\n",
              " |   2    | 0.12407211028632023 | 0.007603718710600869 |\n",
              " |   3    | 0.11770943796394483 | 0.010519280128935207 |\n",
              " |   4    | 0.11505832449628843 | 0.01370431722949408  |\n",
              " |   5    | 0.11155885471898203 |  0.0172429423369615  |\n",
              " |   6    | 0.10975609756097555 | 0.019985667984086408 |\n",
              " |   7    | 0.10740796848962281 | 0.023054011151347906 |\n",
              " |   8    | 0.10432131495227999 | 0.025226800738611724 |\n",
              " |   9    | 0.10298102981029819 | 0.028334241885361468 |\n",
              " |   10   | 0.10031813361611881 | 0.030522922811299123 |\n",
              " +--------+---------------------+----------------------+\n",
              " [18 rows x 3 columns]\n",
              " Note: Only the head of the SFrame is printed.\n",
              " You can use print_rows(num_rows=m, num_columns=n) to print more rows and columns.}"
            ]
          },
          "metadata": {
            "tags": []
          },
          "execution_count": 86
        }
      ]
    },
    {
      "cell_type": "code",
      "metadata": {
        "colab": {
          "base_uri": "https://localhost:8080/"
        },
        "id": "f5qXYQiVbfqh",
        "outputId": "59c33c5f-0898-42b8-8d77-8f90bb7f6172"
      },
      "source": [
        "tc.recommender.util.compare_models(sf, [m1,m2])"
      ],
      "execution_count": 93,
      "outputs": [
        {
          "output_type": "stream",
          "text": [
            "PROGRESS: Evaluate model M0\n",
            "\n",
            "Precision and recall summary statistics by cutoff\n",
            "+--------+----------------+-------------+\n",
            "| cutoff | mean_precision | mean_recall |\n",
            "+--------+----------------+-------------+\n",
            "|   1    |      0.0       |     0.0     |\n",
            "|   2    |      0.0       |     0.0     |\n",
            "|   3    |      0.0       |     0.0     |\n",
            "|   4    |      0.0       |     0.0     |\n",
            "|   5    |      0.0       |     0.0     |\n",
            "|   6    |      0.0       |     0.0     |\n",
            "|   7    |      0.0       |     0.0     |\n",
            "|   8    |      0.0       |     0.0     |\n",
            "|   9    |      0.0       |     0.0     |\n",
            "|   10   |      0.0       |     0.0     |\n",
            "+--------+----------------+-------------+\n",
            "[10 rows x 3 columns]\n",
            "\n",
            "\n",
            "Overall RMSE: 0.5381727320636759\n",
            "\n",
            "Per User RMSE (best)\n",
            "+---------+---------------------+-------+\n",
            "| user_id |         rmse        | count |\n",
            "+---------+---------------------+-------+\n",
            "|   866   | 0.11366102202762557 |   10  |\n",
            "+---------+---------------------+-------+\n",
            "[1 rows x 3 columns]\n",
            "\n",
            "\n",
            "Per User RMSE (worst)\n",
            "+---------+--------------------+-------+\n",
            "| user_id |        rmse        | count |\n",
            "+---------+--------------------+-------+\n",
            "|   119   | 0.7738321873568799 |  127  |\n",
            "+---------+--------------------+-------+\n",
            "[1 rows x 3 columns]\n",
            "\n",
            "\n",
            "Per Item RMSE (best)\n",
            "+---------+----------------------+-------+\n",
            "| item_id |         rmse         | count |\n",
            "+---------+----------------------+-------+\n",
            "|   830   | 0.006160462059284999 |   1   |\n",
            "+---------+----------------------+-------+\n",
            "[1 rows x 3 columns]\n",
            "\n",
            "\n",
            "Per Item RMSE (worst)\n",
            "+---------+--------------------+-------+\n",
            "| item_id |        rmse        | count |\n",
            "+---------+--------------------+-------+\n",
            "|   1653  | 1.1750992594582779 |   1   |\n",
            "+---------+--------------------+-------+\n",
            "[1 rows x 3 columns]\n",
            "\n",
            "PROGRESS: Evaluate model M1\n",
            "\n",
            "Precision and recall summary statistics by cutoff\n",
            "+--------+----------------------+-----------------------+\n",
            "| cutoff |    mean_precision    |      mean_recall      |\n",
            "+--------+----------------------+-----------------------+\n",
            "|   1    | 0.06468716861081655  | 0.0009701847225354198 |\n",
            "|   2    | 0.057794273594909816 |  0.001849740577049448 |\n",
            "|   3    | 0.05549664192294097  |  0.00262663462780719  |\n",
            "|   4    | 0.051166489925768825 |  0.003057709015856964 |\n",
            "|   5    | 0.04984093319194063  | 0.0037357781504394937 |\n",
            "|   6    | 0.04878048780487805  |  0.00427475727238457  |\n",
            "|   7    | 0.04635661263444933  |  0.004759847977467116 |\n",
            "|   8    | 0.04573170731707317  |  0.005236898454468046 |\n",
            "|   9    | 0.04430305172616946  | 0.0056693538585441084 |\n",
            "|   10   | 0.04369034994697775  | 0.0061107976966423925 |\n",
            "+--------+----------------------+-----------------------+\n",
            "[10 rows x 3 columns]\n",
            "\n",
            "\n",
            "Overall RMSE: 0.5817688328032585\n",
            "\n",
            "Per User RMSE (best)\n",
            "+---------+---------------------+-------+\n",
            "| user_id |         rmse        | count |\n",
            "+---------+---------------------+-------+\n",
            "|   563   | 0.11455611195887191 |   17  |\n",
            "+---------+---------------------+-------+\n",
            "[1 rows x 3 columns]\n",
            "\n",
            "\n",
            "Per User RMSE (worst)\n",
            "+---------+-------------------+-------+\n",
            "| user_id |        rmse       | count |\n",
            "+---------+-------------------+-------+\n",
            "|   153   | 1.539302859694097 |   14  |\n",
            "+---------+-------------------+-------+\n",
            "[1 rows x 3 columns]\n",
            "\n",
            "\n",
            "Per Item RMSE (best)\n",
            "+---------+-----------------------+-------+\n",
            "| item_id |          rmse         | count |\n",
            "+---------+-----------------------+-------+\n",
            "|   1572  | 0.0012783576968318222 |   1   |\n",
            "+---------+-----------------------+-------+\n",
            "[1 rows x 3 columns]\n",
            "\n",
            "\n",
            "Per Item RMSE (worst)\n",
            "+---------+-------------------+-------+\n",
            "| item_id |        rmse       | count |\n",
            "+---------+-------------------+-------+\n",
            "|   1661  | 2.281798286246955 |   1   |\n",
            "+---------+-------------------+-------+\n",
            "[1 rows x 3 columns]\n",
            "\n"
          ],
          "name": "stdout"
        },
        {
          "output_type": "execute_result",
          "data": {
            "text/plain": [
              "[{'precision_recall_by_user': Columns:\n",
              "  \tuser_id\tint\n",
              "  \tcutoff\tint\n",
              "  \tprecision\tfloat\n",
              "  \trecall\tfloat\n",
              "  \tcount\tint\n",
              "  \n",
              "  Rows: 16974\n",
              "  \n",
              "  Data:\n",
              "  +---------+--------+-----------+--------+-------+\n",
              "  | user_id | cutoff | precision | recall | count |\n",
              "  +---------+--------+-----------+--------+-------+\n",
              "  |   379   |   1    |    0.0    |  0.0   |  137  |\n",
              "  |   379   |   2    |    0.0    |  0.0   |  137  |\n",
              "  |   379   |   3    |    0.0    |  0.0   |  137  |\n",
              "  |   379   |   4    |    0.0    |  0.0   |  137  |\n",
              "  |   379   |   5    |    0.0    |  0.0   |  137  |\n",
              "  |   379   |   6    |    0.0    |  0.0   |  137  |\n",
              "  |   379   |   7    |    0.0    |  0.0   |  137  |\n",
              "  |   379   |   8    |    0.0    |  0.0   |  137  |\n",
              "  |   379   |   9    |    0.0    |  0.0   |  137  |\n",
              "  |   379   |   10   |    0.0    |  0.0   |  137  |\n",
              "  +---------+--------+-----------+--------+-------+\n",
              "  [16974 rows x 5 columns]\n",
              "  Note: Only the head of the SFrame is printed.\n",
              "  You can use print_rows(num_rows=m, num_columns=n) to print more rows and columns.,\n",
              "  'precision_recall_overall': Columns:\n",
              "  \tcutoff\tint\n",
              "  \tprecision\tfloat\n",
              "  \trecall\tfloat\n",
              "  \n",
              "  Rows: 18\n",
              "  \n",
              "  Data:\n",
              "  +--------+-----------+--------+\n",
              "  | cutoff | precision | recall |\n",
              "  +--------+-----------+--------+\n",
              "  |   1    |    0.0    |  0.0   |\n",
              "  |   2    |    0.0    |  0.0   |\n",
              "  |   3    |    0.0    |  0.0   |\n",
              "  |   4    |    0.0    |  0.0   |\n",
              "  |   5    |    0.0    |  0.0   |\n",
              "  |   6    |    0.0    |  0.0   |\n",
              "  |   7    |    0.0    |  0.0   |\n",
              "  |   8    |    0.0    |  0.0   |\n",
              "  |   9    |    0.0    |  0.0   |\n",
              "  |   10   |    0.0    |  0.0   |\n",
              "  +--------+-----------+--------+\n",
              "  [18 rows x 3 columns]\n",
              "  Note: Only the head of the SFrame is printed.\n",
              "  You can use print_rows(num_rows=m, num_columns=n) to print more rows and columns.,\n",
              "  'rmse_by_item': Columns:\n",
              "  \titem_id\tint\n",
              "  \trmse\tfloat\n",
              "  \tcount\tint\n",
              "  \n",
              "  Rows: 1629\n",
              "  \n",
              "  Data:\n",
              "  +---------+---------------------+-------+\n",
              "  | item_id |         rmse        | count |\n",
              "  +---------+---------------------+-------+\n",
              "  |   1611  | 0.34070925317638767 |   2   |\n",
              "  |   118   | 0.49756268391424174 |  204  |\n",
              "  |   660   |  0.6737700820975947 |  104  |\n",
              "  |   1236  |  0.6824121533257705 |   1   |\n",
              "  |   1379  | 0.31883819672807345 |   4   |\n",
              "  |   1657  |  0.4563756047112686 |   1   |\n",
              "  |   839   |  0.1718272641758113 |   4   |\n",
              "  |   699   |  0.5878514720362454 |   64  |\n",
              "  |   567   |  0.4259848085663339 |   31  |\n",
              "  |   773   |  0.5753696979367157 |   10  |\n",
              "  +---------+---------------------+-------+\n",
              "  [1629 rows x 3 columns]\n",
              "  Note: Only the head of the SFrame is printed.\n",
              "  You can use print_rows(num_rows=m, num_columns=n) to print more rows and columns.,\n",
              "  'rmse_by_user': Columns:\n",
              "  \tuser_id\tint\n",
              "  \trmse\tfloat\n",
              "  \tcount\tint\n",
              "  \n",
              "  Rows: 943\n",
              "  \n",
              "  Data:\n",
              "  +---------+---------------------+-------+\n",
              "  | user_id |         rmse        | count |\n",
              "  +---------+---------------------+-------+\n",
              "  |   118   |  0.622962714182052  |   53  |\n",
              "  |   660   |  0.5678664383727894 |  154  |\n",
              "  |   839   |  0.5327500169275454 |   44  |\n",
              "  |   699   |  0.4835471060545139 |  109  |\n",
              "  |   567   |  0.5078128086040606 |  103  |\n",
              "  |   773   |  0.5306654568054554 |  117  |\n",
              "  |   435   |  0.6307663755861618 |  263  |\n",
              "  |   554   |  0.5797300189888095 |   76  |\n",
              "  |   898   | 0.28667457198422275 |   20  |\n",
              "  |   840   |  0.5620476989651021 |  131  |\n",
              "  +---------+---------------------+-------+\n",
              "  [943 rows x 3 columns]\n",
              "  Note: Only the head of the SFrame is printed.\n",
              "  You can use print_rows(num_rows=m, num_columns=n) to print more rows and columns.,\n",
              "  'rmse_overall': 0.5381727320636759},\n",
              " {'precision_recall_by_user': Columns:\n",
              "  \tuser_id\tint\n",
              "  \tcutoff\tint\n",
              "  \tprecision\tfloat\n",
              "  \trecall\tfloat\n",
              "  \tcount\tint\n",
              "  \n",
              "  Rows: 16974\n",
              "  \n",
              "  Data:\n",
              "  +---------+--------+---------------------+-----------------------+-------+\n",
              "  | user_id | cutoff |      precision      |         recall        | count |\n",
              "  +---------+--------+---------------------+-----------------------+-------+\n",
              "  |   379   |   1    |         1.0         | 0.0072992700729927005 |  137  |\n",
              "  |   379   |   2    |         0.5         | 0.0072992700729927005 |  137  |\n",
              "  |   379   |   3    |  0.3333333333333333 | 0.0072992700729927005 |  137  |\n",
              "  |   379   |   4    |         0.25        | 0.0072992700729927005 |  137  |\n",
              "  |   379   |   5    |         0.2         | 0.0072992700729927005 |  137  |\n",
              "  |   379   |   6    | 0.16666666666666666 | 0.0072992700729927005 |  137  |\n",
              "  |   379   |   7    | 0.14285714285714285 | 0.0072992700729927005 |  137  |\n",
              "  |   379   |   8    |        0.125        | 0.0072992700729927005 |  137  |\n",
              "  |   379   |   9    |  0.1111111111111111 | 0.0072992700729927005 |  137  |\n",
              "  |   379   |   10   |         0.1         | 0.0072992700729927005 |  137  |\n",
              "  +---------+--------+---------------------+-----------------------+-------+\n",
              "  [16974 rows x 5 columns]\n",
              "  Note: Only the head of the SFrame is printed.\n",
              "  You can use print_rows(num_rows=m, num_columns=n) to print more rows and columns.,\n",
              "  'precision_recall_overall': Columns:\n",
              "  \tcutoff\tint\n",
              "  \tprecision\tfloat\n",
              "  \trecall\tfloat\n",
              "  \n",
              "  Rows: 18\n",
              "  \n",
              "  Data:\n",
              "  +--------+----------------------+-----------------------+\n",
              "  | cutoff |      precision       |         recall        |\n",
              "  +--------+----------------------+-----------------------+\n",
              "  |   1    | 0.06468716861081655  | 0.0009701847225354201 |\n",
              "  |   2    | 0.057794273594909906 | 0.0018497405770494487 |\n",
              "  |   3    | 0.05549664192294105  |  0.00262663462780719  |\n",
              "  |   4    | 0.051166489925768804 | 0.0030577090158569616 |\n",
              "  |   5    | 0.049840933191940655 | 0.0037357781504394933 |\n",
              "  |   6    | 0.04878048780487804  |  0.004274757272384574 |\n",
              "  |   7    | 0.04635661263444938  | 0.0047598479774671135 |\n",
              "  |   8    | 0.04573170731707317  | 0.0052368984544680424 |\n",
              "  |   9    | 0.04430305172616947  | 0.0056693538585441084 |\n",
              "  |   10   | 0.04369034994697777  |  0.006110797696642393 |\n",
              "  +--------+----------------------+-----------------------+\n",
              "  [18 rows x 3 columns]\n",
              "  Note: Only the head of the SFrame is printed.\n",
              "  You can use print_rows(num_rows=m, num_columns=n) to print more rows and columns.,\n",
              "  'rmse_by_item': Columns:\n",
              "  \titem_id\tint\n",
              "  \trmse\tfloat\n",
              "  \tcount\tint\n",
              "  \n",
              "  Rows: 1629\n",
              "  \n",
              "  Data:\n",
              "  +---------+---------------------+-------+\n",
              "  | item_id |         rmse        | count |\n",
              "  +---------+---------------------+-------+\n",
              "  |   1611  | 0.04262314763958586 |   2   |\n",
              "  |   118   |  0.6327471729636468 |  204  |\n",
              "  |   660   |  0.5955295757532818 |  104  |\n",
              "  |   1236  | 0.03906882845342219 |   1   |\n",
              "  |   1379  | 0.19717262784779493 |   4   |\n",
              "  |   1657  | 0.03784750204056442 |   1   |\n",
              "  |   839   |  0.5366573765331534 |   4   |\n",
              "  |   699   |  0.5956924733618381 |   64  |\n",
              "  |   567   | 0.44006441308943606 |   31  |\n",
              "  |   773   |  0.3778012021411658 |   10  |\n",
              "  +---------+---------------------+-------+\n",
              "  [1629 rows x 3 columns]\n",
              "  Note: Only the head of the SFrame is printed.\n",
              "  You can use print_rows(num_rows=m, num_columns=n) to print more rows and columns.,\n",
              "  'rmse_by_user': Columns:\n",
              "  \tuser_id\tint\n",
              "  \trmse\tfloat\n",
              "  \tcount\tint\n",
              "  \n",
              "  Rows: 943\n",
              "  \n",
              "  Data:\n",
              "  +---------+---------------------+-------+\n",
              "  | user_id |         rmse        | count |\n",
              "  +---------+---------------------+-------+\n",
              "  |   118   | 0.47003943712843355 |   53  |\n",
              "  |   660   |  0.5317019673198186 |  154  |\n",
              "  |   839   |  0.594471682992098  |   44  |\n",
              "  |   699   |  0.5960423599097704 |  109  |\n",
              "  |   567   |  0.5322625173955786 |  103  |\n",
              "  |   773   |  0.5998631196871359 |  117  |\n",
              "  |   435   |  0.5894260768467597 |  263  |\n",
              "  |   554   |  0.4050351138536711 |   76  |\n",
              "  |   898   |  0.5446513754072556 |   20  |\n",
              "  |   840   | 0.46998378704243904 |  131  |\n",
              "  +---------+---------------------+-------+\n",
              "  [943 rows x 3 columns]\n",
              "  Note: Only the head of the SFrame is printed.\n",
              "  You can use print_rows(num_rows=m, num_columns=n) to print more rows and columns.,\n",
              "  'rmse_overall': 0.5817688328032585}]"
            ]
          },
          "metadata": {
            "tags": []
          },
          "execution_count": 93
        }
      ]
    },
    {
      "cell_type": "code",
      "metadata": {
        "colab": {
          "base_uri": "https://localhost:8080/"
        },
        "id": "GBJtjlJRbLNA",
        "outputId": "90f0e52e-98b4-4110-8c34-cec19d083a45"
      },
      "source": [
        "tc.recommender.util.compare_models(tc.SFrame(test), [m2,m3], metric=\"precision_recall\")"
      ],
      "execution_count": 94,
      "outputs": [
        {
          "output_type": "stream",
          "text": [
            "PROGRESS: Evaluate model M0\n",
            "\n",
            "Precision and recall summary statistics by cutoff\n",
            "+--------+---------------------+----------------------+\n",
            "| cutoff |    mean_precision   |     mean_recall      |\n",
            "+--------+---------------------+----------------------+\n",
            "|   1    | 0.13785790031813366 | 0.004108964877216073 |\n",
            "|   2    | 0.12407211028632031 | 0.007603718710600873 |\n",
            "|   3    | 0.11770943796394484 | 0.010519280128935212 |\n",
            "|   4    | 0.11505832449628843 | 0.013704317229494082 |\n",
            "|   5    | 0.11155885471898211 | 0.017242942336961515 |\n",
            "|   6    | 0.10975609756097554 | 0.019985667984086408 |\n",
            "|   7    |  0.1074079684896228 | 0.023054011151347902 |\n",
            "|   8    | 0.10432131495227996 | 0.02522680073861175  |\n",
            "|   9    | 0.10298102981029814 | 0.028334241885361475 |\n",
            "|   10   | 0.10031813361611883 | 0.030522922811299123 |\n",
            "+--------+---------------------+----------------------+\n",
            "[10 rows x 3 columns]\n",
            "\n",
            "PROGRESS: Evaluate model M1\n",
            "\n",
            "Precision and recall summary statistics by cutoff\n",
            "+--------+---------------------+----------------------+\n",
            "| cutoff |    mean_precision   |     mean_recall      |\n",
            "+--------+---------------------+----------------------+\n",
            "|   1    |  0.4602332979851538 | 0.02403526351650301  |\n",
            "|   2    | 0.42152704135737007 | 0.04301521351066516  |\n",
            "|   3    | 0.40791799222340014 | 0.062302717718155036 |\n",
            "|   4    |  0.3910392364793213 |  0.0767539546095801  |\n",
            "|   5    | 0.37539766702014843 | 0.08973869723595101  |\n",
            "|   6    | 0.36532343584305416 |  0.105138783704768   |\n",
            "|   7    | 0.35949098621421016 | 0.11817184823437461  |\n",
            "|   8    | 0.35392364793213144 | 0.13149564561717877  |\n",
            "|   9    | 0.34570519618239665 | 0.14297353978097616  |\n",
            "|   10   | 0.34040296924708374 | 0.15475888129943613  |\n",
            "+--------+---------------------+----------------------+\n",
            "[10 rows x 3 columns]\n",
            "\n"
          ],
          "name": "stdout"
        },
        {
          "output_type": "execute_result",
          "data": {
            "text/plain": [
              "[{'precision_recall_by_user': Columns:\n",
              "  \tuser_id\tint\n",
              "  \tcutoff\tint\n",
              "  \tprecision\tfloat\n",
              "  \trecall\tfloat\n",
              "  \tcount\tint\n",
              "  \n",
              "  Rows: 16974\n",
              "  \n",
              "  Data:\n",
              "  +---------+--------+---------------------+---------------------+-------+\n",
              "  | user_id | cutoff |      precision      |        recall       | count |\n",
              "  +---------+--------+---------------------+---------------------+-------+\n",
              "  |   379   |   1    |         0.0         |         0.0         |   59  |\n",
              "  |   379   |   2    |         0.0         |         0.0         |   59  |\n",
              "  |   379   |   3    |         0.0         |         0.0         |   59  |\n",
              "  |   379   |   4    |         0.25        | 0.01694915254237288 |   59  |\n",
              "  |   379   |   5    |         0.2         | 0.01694915254237288 |   59  |\n",
              "  |   379   |   6    | 0.16666666666666666 | 0.01694915254237288 |   59  |\n",
              "  |   379   |   7    | 0.14285714285714285 | 0.01694915254237288 |   59  |\n",
              "  |   379   |   8    |        0.125        | 0.01694915254237288 |   59  |\n",
              "  |   379   |   9    |  0.1111111111111111 | 0.01694915254237288 |   59  |\n",
              "  |   379   |   10   |         0.1         | 0.01694915254237288 |   59  |\n",
              "  +---------+--------+---------------------+---------------------+-------+\n",
              "  [16974 rows x 5 columns]\n",
              "  Note: Only the head of the SFrame is printed.\n",
              "  You can use print_rows(num_rows=m, num_columns=n) to print more rows and columns.,\n",
              "  'precision_recall_overall': Columns:\n",
              "  \tcutoff\tint\n",
              "  \tprecision\tfloat\n",
              "  \trecall\tfloat\n",
              "  \n",
              "  Rows: 18\n",
              "  \n",
              "  Data:\n",
              "  +--------+---------------------+----------------------+\n",
              "  | cutoff |      precision      |        recall        |\n",
              "  +--------+---------------------+----------------------+\n",
              "  |   1    | 0.13785790031813358 | 0.004108964877216075 |\n",
              "  |   2    | 0.12407211028632016 | 0.007603718710600868 |\n",
              "  |   3    | 0.11770943796394495 | 0.010519280128935219 |\n",
              "  |   4    | 0.11505832449628846 | 0.01370431722949408  |\n",
              "  |   5    | 0.11155885471898211 |  0.0172429423369615  |\n",
              "  |   6    | 0.10975609756097564 | 0.019985667984086422 |\n",
              "  |   7    | 0.10740796848962282 | 0.023054011151347906 |\n",
              "  |   8    | 0.10432131495227999 | 0.025226800738611742 |\n",
              "  |   9    | 0.10298102981029818 | 0.02833424188536147  |\n",
              "  |   10   | 0.10031813361611881 | 0.030522922811299116 |\n",
              "  +--------+---------------------+----------------------+\n",
              "  [18 rows x 3 columns]\n",
              "  Note: Only the head of the SFrame is printed.\n",
              "  You can use print_rows(num_rows=m, num_columns=n) to print more rows and columns.},\n",
              " {'precision_recall_by_user': Columns:\n",
              "  \tuser_id\tint\n",
              "  \tcutoff\tint\n",
              "  \tprecision\tfloat\n",
              "  \trecall\tfloat\n",
              "  \tcount\tint\n",
              "  \n",
              "  Rows: 16974\n",
              "  \n",
              "  Data:\n",
              "  +---------+--------+--------------------+---------------------+-------+\n",
              "  | user_id | cutoff |     precision      |        recall       | count |\n",
              "  +---------+--------+--------------------+---------------------+-------+\n",
              "  |   379   |   1    |        1.0         | 0.01694915254237288 |   59  |\n",
              "  |   379   |   2    |        0.5         | 0.01694915254237288 |   59  |\n",
              "  |   379   |   3    | 0.6666666666666666 | 0.03389830508474576 |   59  |\n",
              "  |   379   |   4    |        0.75        | 0.05084745762711865 |   59  |\n",
              "  |   379   |   5    |        0.8         | 0.06779661016949153 |   59  |\n",
              "  |   379   |   6    | 0.6666666666666666 | 0.06779661016949153 |   59  |\n",
              "  |   379   |   7    | 0.7142857142857143 |  0.0847457627118644 |   59  |\n",
              "  |   379   |   8    |        0.75        |  0.1016949152542373 |   59  |\n",
              "  |   379   |   9    | 0.6666666666666666 |  0.1016949152542373 |   59  |\n",
              "  |   379   |   10   |        0.7         | 0.11864406779661017 |   59  |\n",
              "  +---------+--------+--------------------+---------------------+-------+\n",
              "  [16974 rows x 5 columns]\n",
              "  Note: Only the head of the SFrame is printed.\n",
              "  You can use print_rows(num_rows=m, num_columns=n) to print more rows and columns.,\n",
              "  'precision_recall_overall': Columns:\n",
              "  \tcutoff\tint\n",
              "  \tprecision\tfloat\n",
              "  \trecall\tfloat\n",
              "  \n",
              "  Rows: 18\n",
              "  \n",
              "  Data:\n",
              "  +--------+---------------------+----------------------+\n",
              "  | cutoff |      precision      |        recall        |\n",
              "  +--------+---------------------+----------------------+\n",
              "  |   1    |  0.4602332979851538 | 0.024035263516503026 |\n",
              "  |   2    | 0.42152704135737007 | 0.04301521351066517  |\n",
              "  |   3    |  0.4079179922234005 | 0.06230271771815506  |\n",
              "  |   4    | 0.39103923647932143 | 0.07675395460958011  |\n",
              "  |   5    | 0.37539766702014826 | 0.08973869723595104  |\n",
              "  |   6    |  0.3653234358430539 | 0.10513878370476804  |\n",
              "  |   7    | 0.35949098621420983 | 0.11817184823437459  |\n",
              "  |   8    | 0.35392364793213144 | 0.13149564561717875  |\n",
              "  |   9    |  0.3457051961823967 |  0.1429735397809763  |\n",
              "  |   10   | 0.34040296924708385 |  0.1547588812994361  |\n",
              "  +--------+---------------------+----------------------+\n",
              "  [18 rows x 3 columns]\n",
              "  Note: Only the head of the SFrame is printed.\n",
              "  You can use print_rows(num_rows=m, num_columns=n) to print more rows and columns.}]"
            ]
          },
          "metadata": {
            "tags": []
          },
          "execution_count": 94
        }
      ]
    },
    {
      "cell_type": "code",
      "metadata": {
        "colab": {
          "base_uri": "https://localhost:8080/"
        },
        "id": "EdeGu7Xcdx1C",
        "outputId": "d2e3af7b-d039-4714-945a-5046ba226dc3"
      },
      "source": [
        "tc.recommender.util.compare_models(tc.SFrame(test), [m2,m3], exclude_known_for_precision_recall=False)"
      ],
      "execution_count": 95,
      "outputs": [
        {
          "output_type": "stream",
          "text": [
            "PROGRESS: Evaluate model M0\n",
            "\n",
            "Precision and recall summary statistics by cutoff\n",
            "+--------+---------------------+----------------------+\n",
            "| cutoff |    mean_precision   |     mean_recall      |\n",
            "+--------+---------------------+----------------------+\n",
            "|   1    | 0.12937433722163313 | 0.003880245683571153 |\n",
            "|   2    | 0.11081654294803817 | 0.006744592918347524 |\n",
            "|   3    |  0.1074584658890067 | 0.009622040993028174 |\n",
            "|   4    | 0.10259809119830325 | 0.012105404940567943 |\n",
            "|   5    | 0.09777306468716866 | 0.015058075975052555 |\n",
            "|   6    | 0.09579356663131845 | 0.018114206389600717 |\n",
            "|   7    | 0.09225874867444328 | 0.020548131323975653 |\n",
            "|   8    | 0.09093319194061507 | 0.022950754232374734 |\n",
            "|   9    | 0.08872393071756807 | 0.025188291986414726 |\n",
            "|   10   | 0.08632025450689287 | 0.027201296453866975 |\n",
            "+--------+---------------------+----------------------+\n",
            "[10 rows x 3 columns]\n",
            "\n",
            "\n",
            "Overall RMSE: 1.1251952042752673\n",
            "\n",
            "Per User RMSE (best)\n",
            "+---------+---------------------+-------+\n",
            "| user_id |         rmse        | count |\n",
            "+---------+---------------------+-------+\n",
            "|   384   | 0.27613841535229844 |   7   |\n",
            "+---------+---------------------+-------+\n",
            "[1 rows x 3 columns]\n",
            "\n",
            "\n",
            "Per User RMSE (worst)\n",
            "+---------+--------------------+-------+\n",
            "| user_id |        rmse        | count |\n",
            "+---------+--------------------+-------+\n",
            "|   519   | 2.2822645401356105 |   21  |\n",
            "+---------+--------------------+-------+\n",
            "[1 rows x 3 columns]\n",
            "\n",
            "\n",
            "Per Item RMSE (best)\n",
            "+---------+----------------------+-------+\n",
            "| item_id |         rmse         | count |\n",
            "+---------+----------------------+-------+\n",
            "|   1246  | 0.000764636206328273 |   1   |\n",
            "+---------+----------------------+-------+\n",
            "[1 rows x 3 columns]\n",
            "\n",
            "\n",
            "Per Item RMSE (worst)\n",
            "+---------+--------------------+-------+\n",
            "| item_id |        rmse        | count |\n",
            "+---------+--------------------+-------+\n",
            "|   1410  | 2.8950570618036395 |   1   |\n",
            "+---------+--------------------+-------+\n",
            "[1 rows x 3 columns]\n",
            "\n",
            "PROGRESS: Evaluate model M1\n",
            "\n",
            "Precision and recall summary statistics by cutoff\n",
            "+--------+---------------------+----------------------+\n",
            "| cutoff |    mean_precision   |     mean_recall      |\n",
            "+--------+---------------------+----------------------+\n",
            "|   1    | 0.21845174973488868 | 0.01533537705567383  |\n",
            "|   2    | 0.19989395546129368 | 0.026897828871445477 |\n",
            "|   3    |  0.1884057971014493 | 0.03775173970573252  |\n",
            "|   4    | 0.17497348886532343 | 0.04499055200207973  |\n",
            "|   5    | 0.17815482502651128 | 0.05621968421042017  |\n",
            "|   6    | 0.17568045245669844 | 0.06540287727347062  |\n",
            "|   7    | 0.17467050446901988 | 0.07427077237008943  |\n",
            "|   8    |  0.1728525980911983 | 0.08388447832577631  |\n",
            "|   9    |  0.1689642983386356 | 0.09198452899372088  |\n",
            "|   10   | 0.16702014846235427 | 0.10016101940299128  |\n",
            "+--------+---------------------+----------------------+\n",
            "[10 rows x 3 columns]\n",
            "\n",
            "\n",
            "Overall RMSE: 3.6740487676126787\n",
            "\n",
            "Per User RMSE (best)\n",
            "+---------+--------------------+-------+\n",
            "| user_id |        rmse        | count |\n",
            "+---------+--------------------+-------+\n",
            "|   181   | 1.6388190452395879 |  138  |\n",
            "+---------+--------------------+-------+\n",
            "[1 rows x 3 columns]\n",
            "\n",
            "\n",
            "Per User RMSE (worst)\n",
            "+---------+-------------------+-------+\n",
            "| user_id |        rmse       | count |\n",
            "+---------+-------------------+-------+\n",
            "|   507   | 4.810906331775524 |   24  |\n",
            "+---------+-------------------+-------+\n",
            "[1 rows x 3 columns]\n",
            "\n",
            "\n",
            "Per Item RMSE (best)\n",
            "+---------+--------------------+-------+\n",
            "| item_id |        rmse        | count |\n",
            "+---------+--------------------+-------+\n",
            "|   1392  | 0.9828885013566298 |   1   |\n",
            "+---------+--------------------+-------+\n",
            "[1 rows x 3 columns]\n",
            "\n",
            "\n",
            "Per Item RMSE (worst)\n",
            "+---------+------+-------+\n",
            "| item_id | rmse | count |\n",
            "+---------+------+-------+\n",
            "|   1357  | 5.0  |   1   |\n",
            "+---------+------+-------+\n",
            "[1 rows x 3 columns]\n",
            "\n"
          ],
          "name": "stdout"
        },
        {
          "output_type": "execute_result",
          "data": {
            "text/plain": [
              "[{'precision_recall_by_user': Columns:\n",
              "  \tuser_id\tint\n",
              "  \tcutoff\tint\n",
              "  \tprecision\tfloat\n",
              "  \trecall\tfloat\n",
              "  \tcount\tint\n",
              "  \n",
              "  Rows: 16974\n",
              "  \n",
              "  Data:\n",
              "  +---------+--------+---------------------+---------------------+-------+\n",
              "  | user_id | cutoff |      precision      |        recall       | count |\n",
              "  +---------+--------+---------------------+---------------------+-------+\n",
              "  |   379   |   1    |         0.0         |         0.0         |   59  |\n",
              "  |   379   |   2    |         0.0         |         0.0         |   59  |\n",
              "  |   379   |   3    |         0.0         |         0.0         |   59  |\n",
              "  |   379   |   4    |         0.0         |         0.0         |   59  |\n",
              "  |   379   |   5    |         0.2         | 0.01694915254237288 |   59  |\n",
              "  |   379   |   6    | 0.16666666666666666 | 0.01694915254237288 |   59  |\n",
              "  |   379   |   7    | 0.14285714285714285 | 0.01694915254237288 |   59  |\n",
              "  |   379   |   8    |        0.125        | 0.01694915254237288 |   59  |\n",
              "  |   379   |   9    |  0.1111111111111111 | 0.01694915254237288 |   59  |\n",
              "  |   379   |   10   |         0.1         | 0.01694915254237288 |   59  |\n",
              "  +---------+--------+---------------------+---------------------+-------+\n",
              "  [16974 rows x 5 columns]\n",
              "  Note: Only the head of the SFrame is printed.\n",
              "  You can use print_rows(num_rows=m, num_columns=n) to print more rows and columns.,\n",
              "  'precision_recall_overall': Columns:\n",
              "  \tcutoff\tint\n",
              "  \tprecision\tfloat\n",
              "  \trecall\tfloat\n",
              "  \n",
              "  Rows: 18\n",
              "  \n",
              "  Data:\n",
              "  +--------+---------------------+-----------------------+\n",
              "  | cutoff |      precision      |         recall        |\n",
              "  +--------+---------------------+-----------------------+\n",
              "  |   1    |  0.1293743372216331 | 0.0038802456835711546 |\n",
              "  |   2    | 0.11081654294803821 | 0.0067445929183475245 |\n",
              "  |   3    | 0.10745846588900677 |  0.009622040993028168 |\n",
              "  |   4    | 0.10259809119830329 |  0.012105404940567945 |\n",
              "  |   5    | 0.09777306468716866 |  0.015058075975052555 |\n",
              "  |   6    | 0.09579356663131845 |  0.018114206389600703 |\n",
              "  |   7    | 0.09225874867444328 |  0.020548131323975646 |\n",
              "  |   8    | 0.09093319194061505 |  0.022950754232374727 |\n",
              "  |   9    | 0.08872393071756805 |  0.025188291986414726 |\n",
              "  |   10   | 0.08632025450689293 |  0.02720129645386697  |\n",
              "  +--------+---------------------+-----------------------+\n",
              "  [18 rows x 3 columns]\n",
              "  Note: Only the head of the SFrame is printed.\n",
              "  You can use print_rows(num_rows=m, num_columns=n) to print more rows and columns.,\n",
              "  'rmse_by_item': Columns:\n",
              "  \titem_id\tint\n",
              "  \trmse\tfloat\n",
              "  \tcount\tint\n",
              "  \n",
              "  Rows: 1498\n",
              "  \n",
              "  Data:\n",
              "  +---------+--------------------+-------+\n",
              "  | item_id |        rmse        | count |\n",
              "  +---------+--------------------+-------+\n",
              "  |   118   | 1.1348883525062092 |   89  |\n",
              "  |   660   | 1.2730737647270827 |   49  |\n",
              "  |   1379  | 0.5492693064962749 |   3   |\n",
              "  |   699   | 1.039591231382465  |   38  |\n",
              "  |   567   | 1.8375913519812115 |   4   |\n",
              "  |   773   | 1.121050543999031  |   7   |\n",
              "  |   1029  | 0.8345743224645453 |   4   |\n",
              "  |   1504  | 0.2629698532399529 |   1   |\n",
              "  |   435   | 1.0665309109498253 |   64  |\n",
              "  |   1289  | 0.6764699192509994 |   4   |\n",
              "  +---------+--------------------+-------+\n",
              "  [1498 rows x 3 columns]\n",
              "  Note: Only the head of the SFrame is printed.\n",
              "  You can use print_rows(num_rows=m, num_columns=n) to print more rows and columns.,\n",
              "  'rmse_by_user': Columns:\n",
              "  \tuser_id\tint\n",
              "  \trmse\tfloat\n",
              "  \tcount\tint\n",
              "  \n",
              "  Rows: 943\n",
              "  \n",
              "  Data:\n",
              "  +---------+--------------------+-------+\n",
              "  | user_id |        rmse        | count |\n",
              "  +---------+--------------------+-------+\n",
              "  |   118   | 0.7334458783436043 |   18  |\n",
              "  |   660   | 1.0514237298726716 |   70  |\n",
              "  |   839   | 1.2179013387523583 |   13  |\n",
              "  |   699   | 1.1437593505445314 |   40  |\n",
              "  |   567   | 1.1414507923347772 |   52  |\n",
              "  |   773   | 1.0015599782329905 |   44  |\n",
              "  |   435   | 1.103038998596455  |  116  |\n",
              "  |   554   | 0.9357996942583935 |   38  |\n",
              "  |   898   | 1.3432543457830166 |   10  |\n",
              "  |   840   | 0.8422580359922839 |   66  |\n",
              "  +---------+--------------------+-------+\n",
              "  [943 rows x 3 columns]\n",
              "  Note: Only the head of the SFrame is printed.\n",
              "  You can use print_rows(num_rows=m, num_columns=n) to print more rows and columns.,\n",
              "  'rmse_overall': 1.1251952042752673},\n",
              " {'precision_recall_by_user': Columns:\n",
              "  \tuser_id\tint\n",
              "  \tcutoff\tint\n",
              "  \tprecision\tfloat\n",
              "  \trecall\tfloat\n",
              "  \tcount\tint\n",
              "  \n",
              "  Rows: 16974\n",
              "  \n",
              "  Data:\n",
              "  +---------+--------+---------------------+---------------------+-------+\n",
              "  | user_id | cutoff |      precision      |        recall       | count |\n",
              "  +---------+--------+---------------------+---------------------+-------+\n",
              "  |   379   |   1    |         1.0         | 0.01694915254237288 |   59  |\n",
              "  |   379   |   2    |         0.5         | 0.01694915254237288 |   59  |\n",
              "  |   379   |   3    |  0.3333333333333333 | 0.01694915254237288 |   59  |\n",
              "  |   379   |   4    |         0.25        | 0.01694915254237288 |   59  |\n",
              "  |   379   |   5    |         0.2         | 0.01694915254237288 |   59  |\n",
              "  |   379   |   6    | 0.16666666666666666 | 0.01694915254237288 |   59  |\n",
              "  |   379   |   7    |  0.2857142857142857 | 0.03389830508474576 |   59  |\n",
              "  |   379   |   8    |         0.25        | 0.03389830508474576 |   59  |\n",
              "  |   379   |   9    |  0.2222222222222222 | 0.03389830508474576 |   59  |\n",
              "  |   379   |   10   |         0.3         | 0.05084745762711865 |   59  |\n",
              "  +---------+--------+---------------------+---------------------+-------+\n",
              "  [16974 rows x 5 columns]\n",
              "  Note: Only the head of the SFrame is printed.\n",
              "  You can use print_rows(num_rows=m, num_columns=n) to print more rows and columns.,\n",
              "  'precision_recall_overall': Columns:\n",
              "  \tcutoff\tint\n",
              "  \tprecision\tfloat\n",
              "  \trecall\tfloat\n",
              "  \n",
              "  Rows: 18\n",
              "  \n",
              "  Data:\n",
              "  +--------+---------------------+----------------------+\n",
              "  | cutoff |      precision      |        recall        |\n",
              "  +--------+---------------------+----------------------+\n",
              "  |   1    | 0.21845174973488865 | 0.015335377055673833 |\n",
              "  |   2    | 0.19989395546129374 | 0.02689782887144547  |\n",
              "  |   3    | 0.18840579710144925 | 0.03775173970573253  |\n",
              "  |   4    |  0.1749734888653235 | 0.04499055200207974  |\n",
              "  |   5    | 0.17815482502651123 | 0.056219684210420194 |\n",
              "  |   6    |  0.1756804524566985 | 0.06540287727347063  |\n",
              "  |   7    | 0.17467050446901963 | 0.07427077237008949  |\n",
              "  |   8    |  0.1728525980911983 | 0.08388447832577631  |\n",
              "  |   9    |  0.1689642983386357 | 0.09198452899372091  |\n",
              "  |   10   |  0.1670201484623542 | 0.10016101940299131  |\n",
              "  +--------+---------------------+----------------------+\n",
              "  [18 rows x 3 columns]\n",
              "  Note: Only the head of the SFrame is printed.\n",
              "  You can use print_rows(num_rows=m, num_columns=n) to print more rows and columns.,\n",
              "  'rmse_by_item': Columns:\n",
              "  \titem_id\tint\n",
              "  \trmse\tfloat\n",
              "  \tcount\tint\n",
              "  \n",
              "  Rows: 1498\n",
              "  \n",
              "  Data:\n",
              "  +---------+--------------------+-------+\n",
              "  | item_id |        rmse        | count |\n",
              "  +---------+--------------------+-------+\n",
              "  |   118   | 3.516044511900465  |   89  |\n",
              "  |   660   | 3.5859636316449506 |   49  |\n",
              "  |   1379  | 2.5124162273264536 |   3   |\n",
              "  |   699   | 4.013590941549569  |   38  |\n",
              "  |   567   |  4.02298920237411  |   4   |\n",
              "  |   773   | 2.9488566994202086 |   7   |\n",
              "  |   1029  | 1.7307796156112423 |   4   |\n",
              "  |   1504  |        3.0         |   1   |\n",
              "  |   435   | 3.9691643672059085 |   64  |\n",
              "  |   1289  | 2.4997686969884256 |   4   |\n",
              "  +---------+--------------------+-------+\n",
              "  [1498 rows x 3 columns]\n",
              "  Note: Only the head of the SFrame is printed.\n",
              "  You can use print_rows(num_rows=m, num_columns=n) to print more rows and columns.,\n",
              "  'rmse_by_user': Columns:\n",
              "  \tuser_id\tint\n",
              "  \trmse\tfloat\n",
              "  \tcount\tint\n",
              "  \n",
              "  Rows: 943\n",
              "  \n",
              "  Data:\n",
              "  +---------+--------------------+-------+\n",
              "  | user_id |        rmse        | count |\n",
              "  +---------+--------------------+-------+\n",
              "  |   118   | 4.651602682410197  |   18  |\n",
              "  |   660   | 2.9174438110952337 |   70  |\n",
              "  |   839   | 3.7160791134539823 |   13  |\n",
              "  |   699   |  3.2695129707047   |   40  |\n",
              "  |   567   | 4.001937538748209  |   52  |\n",
              "  |   773   | 3.4954305421707734 |   44  |\n",
              "  |   435   | 3.3610139907003393 |  116  |\n",
              "  |   554   | 3.755135663836353  |   38  |\n",
              "  |   898   | 3.6867601541253476 |   10  |\n",
              "  |   840   | 4.087819202451921  |   66  |\n",
              "  +---------+--------------------+-------+\n",
              "  [943 rows x 3 columns]\n",
              "  Note: Only the head of the SFrame is printed.\n",
              "  You can use print_rows(num_rows=m, num_columns=n) to print more rows and columns.,\n",
              "  'rmse_overall': 3.6740487676126787}]"
            ]
          },
          "metadata": {
            "tags": []
          },
          "execution_count": 95
        }
      ]
    },
    {
      "cell_type": "code",
      "metadata": {
        "id": "z8gYr_lsd_4X"
      },
      "source": [
        ""
      ],
      "execution_count": null,
      "outputs": []
    }
  ]
}